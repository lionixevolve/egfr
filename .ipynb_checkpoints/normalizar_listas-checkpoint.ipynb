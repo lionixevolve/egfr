{
 "cells": [
  {
   "cell_type": "code",
   "execution_count": 1,
   "metadata": {},
   "outputs": [
    {
     "name": "stderr",
     "output_type": "stream",
     "text": [
      "\u001b[1m\u001b[36mINFO: \u001b[39m\u001b[22m\u001b[36mRecompiling stale cache file /home/german/.julia/lib/v0.6/SpecialFunctions.ji for module SpecialFunctions.\n",
      "\u001b[39m\u001b[1m\u001b[36mINFO: \u001b[39m\u001b[22m\u001b[36mRecompiling stale cache file /home/german/.julia/lib/v0.6/DataFrames.ji for module DataFrames.\n",
      "\u001b[39mWARNING: Method definition midpoints(AbstractArray{T, 1} where T) in module Base at deprecated.jl:56 overwritten in module StatsBase at /home/german/.julia/v0.6/StatsBase/src/hist.jl:533.\n",
      "WARNING: Method definition midpoints(Base.Range{T} where T) in module Base at deprecated.jl:56 overwritten in module StatsBase at /home/german/.julia/v0.6/StatsBase/src/hist.jl:535.\n",
      "WARNING: Method definition midpoints(Base.Range{T} where T) in module Base at deprecated.jl:56 overwritten in module StatsBase at /home/german/.julia/v0.6/StatsBase/src/hist.jl:535.\n",
      "WARNING: Method definition midpoints(AbstractArray{T, 1} where T) in module Base at deprecated.jl:56 overwritten in module StatsBase at /home/german/.julia/v0.6/StatsBase/src/hist.jl:533.\n",
      "WARNING: Method definition midpoints(Base.Range{T} where T) in module Base at deprecated.jl:56 overwritten in module StatsBase at /home/german/.julia/v0.6/StatsBase/src/hist.jl:535.\n",
      "WARNING: Method definition midpoints(AbstractArray{T, 1} where T) in module Base at deprecated.jl:56 overwritten in module StatsBase at /home/german/.julia/v0.6/StatsBase/src/hist.jl:533.\n",
      "WARNING: Method definition midpoints(Base.Range{T} where T) in module Base at deprecated.jl:56 overwritten in module StatsBase at /home/german/.julia/v0.6/StatsBase/src/hist.jl:535.\n",
      "WARNING: Method definition midpoints(AbstractArray{T, 1} where T) in module Base at deprecated.jl:56 overwritten in module StatsBase at /home/german/.julia/v0.6/StatsBase/src/hist.jl:533.\n"
     ]
    }
   ],
   "source": [
    "using DataFrames"
   ]
  },
  {
   "cell_type": "code",
   "execution_count": 123,
   "metadata": {},
   "outputs": [],
   "source": [
    "as = readdlm(\"as\")\n",
    "lista = readdlm(\"pdbs/pdbs.list\");"
   ]
  },
  {
   "cell_type": "code",
   "execution_count": 44,
   "metadata": {},
   "outputs": [],
   "source": [
    "rtdo = DataFrame([])\n",
    "for i=1:58\n",
    "    for j=1:138\n",
    "        if as[j, 1] == lista[i, 1][1:6]\n",
    "            rtdo = [ rtdo ; reshape(as[j, :], 1, 6) ]\n",
    "        end\n",
    "    end\n",
    "end\n",
    "rtdo = rtdo[2:end, :];"
   ]
  },
  {
   "cell_type": "code",
   "execution_count": 99,
   "metadata": {},
   "outputs": [],
   "source": [
    "rtdo2 = DataFrame(AbstractString, 58, 2)\n",
    "for i=1:58\n",
    "    for j = 1:6\n",
    "        rtdo2[i, 1] = rtdo[i, 1]\n",
    "        if rtdo[i, j] == \"AD-A\"\n",
    "            rtdo2[i, 2] = \"AM\"\n",
    "            break \n",
    "        elseif rtdo[i, j] == \"AD-B\"\n",
    "            rtdo2[i, 2] = \"IM\"\n",
    "            break \n",
    "        elseif rtdo[i, j] == \"ID-Mig\"\n",
    "            rtdo2[i, 2] = \"IM\"\n",
    "            break \n",
    "        elseif rtdo[i, j] == \"ID\"\n",
    "            rtdo2[i, 2] = \"IM\"\n",
    "            break \n",
    "        elseif length(rtdo[i, j]) == 2\n",
    "            rtdo2[i, 2] = rtdo[i, j]\n",
    "            break\n",
    "        elseif rtdo[i, j] == \"HOD\"\n",
    "            rtdo2[i, 2] = \"IM\"\n",
    "            break \n",
    "        elseif rtdo[i, j] == \"IM-AM\"\n",
    "            rtdo2[i, 2] = rtdo[i, j]\n",
    "            break \n",
    "        end\n",
    "    end\n",
    "end"
   ]
  },
  {
   "cell_type": "code",
   "execution_count": 121,
   "metadata": {},
   "outputs": [
    {
     "data": {
      "text/html": [
       "<table class=\"data-frame\"><thead><tr><th></th><th>x1</th><th>x2</th></tr></thead><tbody><tr><th>1</th><td>5HG5_A</td><td>IM-AM</td></tr><tr><th>2</th><td>5HG7_A</td><td>IM-AM</td></tr><tr><th>3</th><td>5HG8_A</td><td>IM-AM</td></tr></tbody></table>"
      ],
      "text/plain": [
       "3×2 DataFrames.DataFrame\n",
       "│ Row │ x1       │ x2      │\n",
       "├─────┼──────────┼─────────┤\n",
       "│ 1   │ \"5HG5_A\" │ \"IM-AM\" │\n",
       "│ 2   │ \"5HG7_A\" │ \"IM-AM\" │\n",
       "│ 3   │ \"5HG8_A\" │ \"IM-AM\" │"
      ]
     },
     "execution_count": 121,
     "metadata": {},
     "output_type": "execute_result"
    }
   ],
   "source": [
    "am_list = rtdo2[rtdo2[:, 2] .== \"AM\", :] \n",
    "im_list = rtdo2[rtdo2[:, 2] .== \"IM\", :] \n",
    "mm_list = rtdo2[rtdo2[:, 2] .== \"IM-AM\", :];"
   ]
  },
  {
   "cell_type": "code",
   "execution_count": 122,
   "metadata": {},
   "outputs": [
    {
     "data": {
      "text/html": [
       "<table class=\"data-frame\"><thead><tr><th></th><th>x1</th><th>x2</th></tr></thead><tbody><tr><th>1</th><td>5HG5_A</td><td>IM-AM</td></tr><tr><th>2</th><td>5HG7_A</td><td>IM-AM</td></tr><tr><th>3</th><td>5HG8_A</td><td>IM-AM</td></tr></tbody></table>"
      ],
      "text/plain": [
       "3×2 DataFrames.DataFrame\n",
       "│ Row │ x1       │ x2      │\n",
       "├─────┼──────────┼─────────┤\n",
       "│ 1   │ \"5HG5_A\" │ \"IM-AM\" │\n",
       "│ 2   │ \"5HG7_A\" │ \"IM-AM\" │\n",
       "│ 3   │ \"5HG8_A\" │ \"IM-AM\" │"
      ]
     },
     "execution_count": 122,
     "metadata": {},
     "output_type": "execute_result"
    }
   ],
   "source": [
    "mm_list"
   ]
  },
  {
   "cell_type": "code",
   "execution_count": null,
   "metadata": {
    "collapsed": true
   },
   "outputs": [],
   "source": []
  }
 ],
 "metadata": {
  "kernelspec": {
   "display_name": "Julia 0.6.0",
   "language": "julia",
   "name": "julia-0.6"
  },
  "language_info": {
   "file_extension": ".jl",
   "mimetype": "application/julia",
   "name": "julia",
   "version": "0.6.0"
  }
 },
 "nbformat": 4,
 "nbformat_minor": 2
}
