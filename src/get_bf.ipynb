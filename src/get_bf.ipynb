{
 "cells": [
  {
   "cell_type": "code",
   "execution_count": 1,
   "metadata": {},
   "outputs": [
    {
     "name": "stderr",
     "output_type": "stream",
     "text": [
      "\u001b[1m\u001b[36mINFO: \u001b[39m\u001b[22m\u001b[36mRecompiling stale cache file /home/german/.julia/lib/v0.6/DistributedArrays.ji for module DistributedArrays.\n",
      "\u001b[39m"
     ]
    },
    {
     "data": {
      "text/plain": [
       "277"
      ]
     },
     "execution_count": 1,
     "metadata": {},
     "output_type": "execute_result"
    }
   ],
   "source": [
    "using DataFrames\n",
    "using Chemfiles\n",
    "@everywhere using DistributedArrays\n",
    "\n",
    "home = \"/home/german/labo/18/egfr/model/\"\n",
    "rehome = \"/home/german/labo/18/egfr/modos/\"\n",
    "aa = 277"
   ]
  },
  {
   "cell_type": "code",
   "execution_count": 2,
   "metadata": {},
   "outputs": [
    {
     "data": {
      "text/plain": [
       "tognm (generic function with 1 method)"
      ]
     },
     "execution_count": 2,
     "metadata": {},
     "output_type": "execute_result"
    }
   ],
   "source": [
    "function tognm(vtor_anm::Array{Float64, 1})\n",
    "    const n_vec_anm = length(vtor_anm)\n",
    "    nvec_gnm = Int64\n",
    "    try\n",
    "        nvec_gnm = convert(Int64, n_vec_anm / 3);\n",
    "    catch e\n",
    "        error(\"Input vector length not divisible by 3.  \", e)\n",
    "    end\n",
    "    \n",
    "    vtor_gnm = Array{Float64}(n_vec_gnm)\n",
    "    vtor_anm =  vtor_anm.^2\n",
    "    k = 0\n",
    "    for i=1:3:n_vec_anm\n",
    "        k += 1\n",
    "        vtor_gnm[k] = sqrt(vtor_anm[i] + vtor_anm[i+1] + vtor_anm[i+2])\n",
    "    end\n",
    "    \n",
    "    return vtor_gnm\n",
    "end"
   ]
  },
  {
   "cell_type": "code",
   "execution_count": 3,
   "metadata": {},
   "outputs": [
    {
     "data": {
      "text/plain": [
       "res_3_to_1 (generic function with 2 methods)"
      ]
     },
     "execution_count": 3,
     "metadata": {},
     "output_type": "execute_result"
    }
   ],
   "source": [
    "function res_3_to_1(in_3::AbstractString)\n",
    "    \n",
    "    res = lowercase(in_3)\n",
    "    out_1 = AbstractString\n",
    "    \n",
    "    if res == \"ala\"\n",
    "        out_1 = \"A\"\n",
    "    elseif res == \"arg\"\n",
    "        out_1 = \"R\"\n",
    "    elseif res == \"asn\"\n",
    "        out_1 = \"N\"\n",
    "    elseif res == \"asp\"\n",
    "        out_1 = \"D\"\n",
    "    elseif res == \"cys\"\n",
    "        out_1 = \"C\"\n",
    "    elseif res == \"gln\"\n",
    "        out_1 = \"Q\"\n",
    "    elseif res == \"glu\"\n",
    "        out_1 = \"E\"\n",
    "    elseif res == \"gly\"\n",
    "        out_1 = \"G\"\n",
    "    elseif res == \"his\"\n",
    "        out_1 = \"H\"\n",
    "    elseif res == \"ile\"\n",
    "        out_1 = \"I\"\n",
    "    elseif res == \"leu\"\n",
    "        out_1 = \"L\"\n",
    "    elseif res == \"lys\"\n",
    "        out_1 = \"K\"\n",
    "    elseif res == \"met\"\n",
    "        out_1 = \"M\"\n",
    "    elseif res == \"phe\"\n",
    "        out_1 = \"F\"\n",
    "    elseif res == \"pro\"\n",
    "        out_1 = \"P\"\n",
    "    elseif res == \"ser\"\n",
    "        out_1 = \"S\"\n",
    "    elseif res == \"thr\"\n",
    "        out_1 = \"T\"\n",
    "    elseif res == \"trp\"\n",
    "        out_1 = \"W\"\n",
    "    elseif res == \"tyr\"\n",
    "        out_1 = \"Y\"\n",
    "    elseif res == \"val\"\n",
    "        out_1 = \"V\"\n",
    "    else\n",
    "        error(\"Unknown aminoacid: \", in_3)\n",
    "    end\n",
    "    \n",
    "    return out_1\n",
    "end\n",
    "\n",
    "function res_3_to_1(in_vec::Array{String, 1})\n",
    "\n",
    "    out_vec = Array{String, 1}(length(in_vec))\n",
    "    i = 0\n",
    "    for each in in_vec\n",
    "        i+=1\n",
    "        try \n",
    "            out_vec[i] = res_3_to_1(each)\n",
    "        catch e\n",
    "            error(\"Malformed array list.\\nCaught error: $e\")\n",
    "        end\n",
    "    end\n",
    "    \n",
    "    return out_vec\n",
    "end"
   ]
  },
  {
   "cell_type": "code",
   "execution_count": 4,
   "metadata": {},
   "outputs": [
    {
     "data": {
      "text/plain": [
       "seq_from_top (generic function with 1 method)"
      ]
     },
     "execution_count": 4,
     "metadata": {},
     "output_type": "execute_result"
    }
   ],
   "source": [
    "function seq_from_top(in_top::Chemfiles.Topology)\n",
    "    # Get 1 letter code amino acid list from a topology\n",
    "    aa = convert(Int64, count_residues(in_top))\n",
    "    ids = Array{Int64, 1}(aa)\n",
    "\n",
    "    for i=1:aa\n",
    "        ids[i] = id(Residue(in_top, i-1))\n",
    "    end\n",
    "    ids_sorted_indices = sortperm(ids);\n",
    "\n",
    "    seq_3 = Array{String, 1}(aa)\n",
    "    i = 0\n",
    "    for each in ids_sorted_indices\n",
    "        i+=1\n",
    "        seq_3[i] = name((Residue(in_top, each-1)))\n",
    "    end\n",
    "    seq_1 = res_3_to_1(seq_3);\n",
    "    \n",
    "    return seq_1\n",
    "end"
   ]
  },
  {
   "cell_type": "markdown",
   "metadata": {},
   "source": [
    "# Correlaciono Bfactors experimentales y teóricos de residuos no-missing"
   ]
  },
  {
   "cell_type": "code",
   "execution_count": 5,
   "metadata": {
    "collapsed": true
   },
   "outputs": [],
   "source": [
    "tmp = readdlm(string(home, \"/pdbs.list\"))\n",
    "pdbs_list = convert(Array{String, 1}, reshape(tmp, length(tmp)));"
   ]
  },
  {
   "cell_type": "markdown",
   "metadata": {},
   "source": [
    "## Leo alineamiento"
   ]
  },
  {
   "cell_type": "code",
   "execution_count": 6,
   "metadata": {
    "scrolled": true
   },
   "outputs": [
    {
     "name": "stdout",
     "output_type": "stream",
     "text": [
      "1M14_A\n",
      "1M17_A\n",
      "1XKK_A\n",
      "2EB2_A\n",
      "2GS2_A\n",
      "2GS6_A\n",
      "2GS7_A\n",
      "2ITN_A\n",
      "2ITP_A\n",
      "2ITU_A\n",
      "2ITX_A\n",
      "2ITZ_A\n",
      "2J5F_A\n",
      "2RGP_A\n",
      "3BEL_A\n",
      "3GOP_A\n",
      "3GT8_A\n",
      "3GT8_C\n",
      "3IKA_A\n",
      "3IKA_B\n",
      "3LZB_A\n",
      "3UG1_A\n",
      "3VJN_A\n",
      "3W2O_A\n",
      "3W2R_A\n",
      "3W2S_A\n",
      "3W32_A\n",
      "3W33_A\n",
      "4G5J_A\n",
      "4I1Z_A\n",
      "4I22_A\n",
      "4I23_A\n",
      "4I24_A\n",
      "4LI5_A\n",
      "4LQM_A\n",
      "4R3P_A\n",
      "4R5S_A\n",
      "4RJ4_A\n",
      "4ZAU_A\n",
      "4ZJV_A\n",
      "5C8K_A\n",
      "5CAO_A\n",
      "5CAP_A\n",
      "5CAV_A\n",
      "5CNN_A\n",
      "5CNN_B\n",
      "5CNO_A\n",
      "5CZH_A\n",
      "5EDP_A\n",
      "5EM5_A\n",
      "5EM6_A\n",
      "5EM7_A\n",
      "5EM8_A\n",
      "5HG5_A\n",
      "5HG7_A\n",
      "5HG8_A\n",
      "5HIB_A\n",
      "5HIC_A\n"
     ]
    }
   ],
   "source": [
    "alineamientos = Array{Array{Any, 2}, 1}(length(pdbs_list))\n",
    "indices_mut = Array{Array{Int64, 1}, 1}(length(pdbs_list))\n",
    "indices_mis = Array{Array{Int64, 1}, 1}(length(pdbs_list))\n",
    "\n",
    "j = 0\n",
    "\n",
    "for each in pdbs_list\n",
    "    j += 1\n",
    "    println(each) \n",
    "    \n",
    "    in_seq_canonical = Array{AbstractString, 1}\n",
    "    in_seq_each = Array{AbstractString, 1}\n",
    "    in_mut_each = Array{AbstractString, 1}\n",
    "\n",
    "    seq_canonical = Array{AbstractString, 1}\n",
    "    seq_each = Array{AbstractString, 1}\n",
    "    mut_each = Array{AbstractString, 1}\n",
    "    \n",
    "    \n",
    "    # Leo archivo.\n",
    "    in_filename = string(home, each, \"/alignment_\", each)\n",
    "    alignment_file = open(in_filename)\n",
    "    lineas = readlines(alignment_file)\n",
    "\n",
    "    k = 0\n",
    "    # Ahora leo todas las líneas y tomo los arrays en bruto\n",
    "    for linea in lineas\n",
    "        k+=1\n",
    "        inicio = 31\n",
    "        final = length(lineas) - 3\n",
    "    \n",
    "        if inicio < k < final\n",
    "            n_linea = k - 31\n",
    "            altura = ((n_linea - 1 + 4) % 4)\n",
    "        \n",
    "            if altura == 0\n",
    "                in_seq_canonical = [ in_seq_canonical ; linea[22:end-7] ]\n",
    "            elseif altura == 1\n",
    "                in_mut_each = [ in_mut_each ; linea[22:end] ]\n",
    "            elseif altura == 2\n",
    "                in_seq_each = [ in_seq_each ; linea[22:end-7] ]\n",
    "            end\n",
    "        end\n",
    "    end\n",
    "    \n",
    "    # Paso las secuencias en bruto a arrays bien formados.\n",
    "    for i = 2:length(in_seq_canonical)\n",
    "        tmp_canonical = [ in_seq_canonical[i][j] for j = 1:length(in_seq_canonical[i]) ]\n",
    "        seq_canonical = [ seq_canonical ; tmp_canonical]\n",
    "    \n",
    "        tmp_each = [ in_seq_each[i][j] for j = 1:length(in_seq_each[i]) ]\n",
    "        seq_each = [ seq_each ; tmp_each]\n",
    "\n",
    "        tmp = [ in_mut_each[i][j] for j = 1:length(in_mut_each[i]) ]\n",
    "        mut_each = [ mut_each ; tmp]\n",
    "    end\n",
    "\n",
    "    # Determino q pdbs tienen mutaciones y en q posiciones.\n",
    "    tmp_indices_mut = findin(mut_each, \".\")\n",
    "    indices_mut[j] = tmp_indices_mut\n",
    "    \n",
    "    # Determino las regiones a modelar\n",
    "    tmp_indices_mis = findin(mut_each, \" \") .- 1\n",
    "    indices_mis[j] = tmp_indices_mis\n",
    "\n",
    "    # Guardo todo\n",
    "    alineamiento = [ seq_canonical seq_each mut_each ]\n",
    "    alineamientos[j] = alineamiento \n",
    "end"
   ]
  },
  {
   "cell_type": "markdown",
   "metadata": {},
   "source": [
    "### Renumero los indices missings. La numeración original es según\n",
    "### las posiciones del alineamiento. Quiero obtener la numeración según\n",
    "### la sequencia canonical"
   ]
  },
  {
   "cell_type": "code",
   "execution_count": 7,
   "metadata": {
    "collapsed": true
   },
   "outputs": [],
   "source": [
    "mod_indices_mis = Array{Array{Int64, 1}, 1}(length(pdbs_list))\n",
    "\n",
    "for i = 1:length(pdbs_list)\n",
    "    tmp_indices = Array{Int64}[]\n",
    "    \n",
    "    # La secuencia a modelar empieza y termina con leucina\n",
    "    pre_mask = findin(alineamientos[i][:, 1], \"L\")\n",
    "    mask = pre_mask[1] .< indices_mis[i] .< pre_mask[end]\n",
    "    mod_indices_mis[i] = indices_mis[i][mask] .- pre_mask[1] .+ 2\n",
    "    # Ya tengo los índices de missings numerados según la seq canonical.\n",
    "end"
   ]
  },
  {
   "cell_type": "markdown",
   "metadata": {},
   "source": [
    "## Determino la posición en la q empieza y termina la secuencia de relevancia"
   ]
  },
  {
   "cell_type": "code",
   "execution_count": 8,
   "metadata": {
    "collapsed": true
   },
   "outputs": [],
   "source": [
    "tmp_seq = zeros(317, length(pdbs_list))\n",
    "\n",
    "starts = Array{Int64}(length(pdbs_list))\n",
    "ends = Array{Int64}(length(pdbs_list))\n",
    "check_mask_start = ['L' ; 'L' ; 'R' ]\n",
    "check_mask_end = ['R' ; 'Y' ; 'L' ]\n",
    "\n",
    "for j = 1:length(pdbs_list)\n",
    "    # Saco 1 pq los arrays empiezan con un elemento undef\n",
    "    tmp_struct = alineamientos[j][2:end, 2]\n",
    "    tmp_struct = tmp_struct[tmp_struct .!= '-']\n",
    "    for i = 1:50\n",
    "        if check_mask_start == tmp_struct[i:i+2]\n",
    "            starts[j] = i\n",
    "            break\n",
    "        end\n",
    "    end\n",
    "    for i = 250:length(tmp_seq)\n",
    "        if check_mask_end == tmp_struct[i:i+2]\n",
    "            ends[j] = i + 2\n",
    "            break\n",
    "        end\n",
    "    end\n",
    "end"
   ]
  },
  {
   "cell_type": "markdown",
   "metadata": {},
   "source": [
    "## Leo bfactors de PDBs originales, sin completar"
   ]
  },
  {
   "cell_type": "code",
   "execution_count": 9,
   "metadata": {
    "collapsed": true
   },
   "outputs": [],
   "source": [
    "# 3W32_A, con 317 aa's, es el modelo más largo\n",
    "proto_bfactors = zeros(317, length(pdbs_list))\n",
    "i = 3\n",
    "for i = 1:length(pdbs_list)\n",
    "    each = pdbs_list[i]\n",
    "    in_filename = string(home, each, \"/\", each, \".pdb\")\n",
    "    in_file = open(in_filename)\n",
    "\n",
    "    j = 0\n",
    "    for linea in eachline(in_file)\n",
    "        try\n",
    "            if linea[14:15] == \"CA\"\n",
    "                j += 1\n",
    "                proto_bfactors[j, i] = parse(Float64, linea[61:66])\n",
    "            end\n",
    "        catch e\n",
    "            break\n",
    "        end\n",
    "    end\n",
    "    \n",
    "end"
   ]
  },
  {
   "cell_type": "markdown",
   "metadata": {},
   "source": [
    "## Adapto los Bfactors p/ q correspondan con la secuencia de relevancia"
   ]
  },
  {
   "cell_type": "code",
   "execution_count": 10,
   "metadata": {
    "collapsed": true
   },
   "outputs": [],
   "source": [
    "bfactors = Array{Array{Float64, 1}}(length(pdbs_list))\n",
    "\n",
    "for i = 1:length(pdbs_list)    \n",
    "    tmp_mask = proto_bfactors[:, i] .!= 0\n",
    "    bfactors[i] = proto_bfactors[tmp_mask, i][starts[i]:ends[i]];\n",
    "end"
   ]
  },
  {
   "cell_type": "markdown",
   "metadata": {},
   "source": [
    "## Obtengo listado de aminoácidos nonmissing p/ c/ struct"
   ]
  },
  {
   "cell_type": "code",
   "execution_count": 11,
   "metadata": {},
   "outputs": [
    {
     "name": "stderr",
     "output_type": "stream",
     "text": [
      "WARNING: both StatsBase and Compat export \"stderr\"; uses of it in module DataFrames must be qualified\n"
     ]
    }
   ],
   "source": [
    "nonmissing = Array{Array{Int64, 1}}(length(pdbs_list))\n",
    "resto = 0\n",
    "\n",
    "for i = 1:length(pdbs_list)\n",
    "    n_missings = length(mod_indices_mis[i])\n",
    "    nonmissing[i] = Array{Int64, 1}(aa - n_missings)\n",
    "    ii = 1\n",
    "    \n",
    "    if n_missings == 0\n",
    "        nonmissing[i] = collect(1:aa)\n",
    "        continue\n",
    "    end\n",
    "    \n",
    "    for j = 1:mod_indices_mis[i][1]-1\n",
    "        nonmissing[i][ii] = j\n",
    "        ii += 1\n",
    "    end\n",
    "    for k = 1:length(mod_indices_mis[i])\n",
    "        try\n",
    "            for j = mod_indices_mis[i][k]+1:mod_indices_mis[i][k+1]-1\n",
    "                nonmissing[i][ii] = j\n",
    "                ii += 1\n",
    "            end\n",
    "        catch\n",
    "            for j = mod_indices_mis[i][k]+1:aa\n",
    "                nonmissing[i][ii] = j\n",
    "                ii += 1\n",
    "            end\n",
    "        end\n",
    "    end\n",
    "\n",
    "    if findin(nonmissing[i], mod_indices_mis[i]) != []\n",
    "        println(i, \" mal! \", pdbs_list[i])\n",
    "    end\n",
    "end"
   ]
  },
  {
   "cell_type": "markdown",
   "metadata": {},
   "source": [
    "## Leo los Bfactors teóricos"
   ]
  },
  {
   "cell_type": "code",
   "execution_count": 12,
   "metadata": {
    "collapsed": true
   },
   "outputs": [],
   "source": [
    "proto_teo_bfactors = Array{Array{Float64, 1}}(length(pdbs_list))\n",
    "for i = 1:length(pdbs_list)\n",
    "    each = pdbs_list[i]\n",
    "    in_filename = string(rehome, each, \"/bfteo_\", each)\n",
    "    proto_teo_bfactors[i] = readdlm(in_filename)[:, 2]\n",
    "end"
   ]
  },
  {
   "cell_type": "markdown",
   "metadata": {},
   "source": [
    "## Ahora si, obtengo correlaciones entre Bfactors teóricos y experimentales"
   ]
  },
  {
   "cell_type": "code",
   "execution_count": 18,
   "metadata": {
    "collapsed": true
   },
   "outputs": [],
   "source": [
    "corr_bftors = Array{Float64}(length(pdbs_list))\n",
    "for i = 1:length(pdbs_list)\n",
    "    corr_bftors[i] = cor(bfactors[i], proto_teo_bfactors[i][nonmissing[i]])\n",
    "end"
   ]
  },
  {
   "cell_type": "markdown",
   "metadata": {},
   "source": [
    "## Filtro las structs q no dan buena correlación"
   ]
  },
  {
   "cell_type": "code",
   "execution_count": 13,
   "metadata": {
    "collapsed": true
   },
   "outputs": [],
   "source": [
    "# Ejecutar este box 1 sola vez!\n",
    "malos_pdbs = findin(corr_bftors .< 0.4, 1)\n",
    "tmp_mask = repeat([true], inner = length(pdbs_list))\n",
    "tmp_mask[malos_pdbs] = false\n",
    "\n",
    "pdbs_list = pdbs_list[tmp_mask]\n",
    "mod_indices_mis = mod_indices_mis[tmp_mask]\n",
    "bfactors = bfactors[tmp_mask];"
   ]
  },
  {
   "cell_type": "markdown",
   "metadata": {},
   "source": [
    "# Bfactors de residuos del pocket presentes en todas las structs\n"
   ]
  },
  {
   "cell_type": "code",
   "execution_count": 14,
   "metadata": {
    "collapsed": true
   },
   "outputs": [],
   "source": [
    "tmp = readdlm(string(rehome, \"disp_aa_pocket\"))\n",
    "disp_aa_pocket = convert(Array{Int64, 1}, reshape(tmp, length(tmp)))\n",
    "aa_pocket = disp_aa_pocket .- 702;"
   ]
  },
  {
   "cell_type": "markdown",
   "metadata": {},
   "source": [
    "## Determino aminoácidos de pocket q no están missing en ninguna struct"
   ]
  },
  {
   "cell_type": "code",
   "execution_count": 15,
   "metadata": {
    "collapsed": true
   },
   "outputs": [],
   "source": [
    "indices_aa_pocket_missing = Array{Int64,1}(0)\n",
    "for i = 1: length(pdbs_list)\n",
    "    indices_aa_pocket_missing = [ indices_aa_pocket_missing ; findin(mod_indices_mis[i], aa_pocket) ]\n",
    "end\n",
    "indices_aa_pocket_missing = sort(unique(indices_aa_pocket_missing));"
   ]
  },
  {
   "cell_type": "markdown",
   "metadata": {},
   "source": [
    "## Obtengo la lista de residuos de pocket no missing"
   ]
  },
  {
   "cell_type": "code",
   "execution_count": 16,
   "metadata": {
    "collapsed": true
   },
   "outputs": [],
   "source": [
    "tmp_mask = repeat([true], inner = length(aa_pocket))\n",
    "tmp_mask[indices_aa_pocket_missing] = false\n",
    "\n",
    "nonmis_aa_pocket = aa_pocket[tmp_mask]\n",
    "nonmis_disp_aa_pocket = disp_aa_pocket[tmp_mask];"
   ]
  },
  {
   "cell_type": "markdown",
   "metadata": {},
   "source": [
    "## Filtro y me quedo con los Bfactors de residuos de pocket entero y los no missing"
   ]
  },
  {
   "cell_type": "code",
   "execution_count": 17,
   "metadata": {
    "collapsed": true
   },
   "outputs": [],
   "source": [
    "bfactors_nonmis_pocket = Array{Array{Float64}, 1}(length(pdbs_list))\n",
    "bfactors_pocket = Array{Array{Float64}, 1}(length(pdbs_list))\n",
    "\n",
    "for i = 1:length(pdbs_list)\n",
    "    bfactors_nonmis_pocket[i] = Array{Float64}(0)\n",
    "    bfactors_nonmis_pocket[i] = bfactors[i][nonmis_aa_pocket]\n",
    "    \n",
    "    bfactors_pocket[i] = Array{Float64}(0)\n",
    "    bfactors_pocket[i] = bfactors[i][aa_pocket]\n",
    "end"
   ]
  },
  {
   "cell_type": "markdown",
   "metadata": {},
   "source": [
    "## Guardo estos Bfactors p/ ponderar los grammianos"
   ]
  },
  {
   "cell_type": "code",
   "execution_count": 18,
   "metadata": {
    "collapsed": true
   },
   "outputs": [],
   "source": [
    "new_bfactors_nonmis_pocket = Array{Float64, 2}(length(nonmis_aa_pocket), length(pdbs_list))\n",
    "new_bfactors_pocket = Array{Float64, 2}(length(aa_pocket), length(pdbs_list))\n",
    "\n",
    "\n",
    "# Paso array de arrays a Array 2D\n",
    "[ new_bfactors_nonmis_pocket[:, i] = bfactors_nonmis_pocket[i] for i = 1:length(pdbs_list) ];\n",
    "[ new_bfactors_pocket[:, i] = bfactors_pocket[i] for i = 1:length(pdbs_list) ];\n",
    "\n",
    "# Paso Array 2D a DataFrame con nombres\n",
    "df_bfactors_nonmis_pocket = names!(DataFrame(new_bfactors_nonmis_pocket), \n",
    "    [ Symbol(pdbs_list[i]) for i = 1:length(pdbs_list) ]);\n",
    "df_new_bfactors_pocket = names!(DataFrame(new_bfactors_pocket), \n",
    "    [ Symbol(pdbs_list[i]) for i = 1:length(pdbs_list) ]);\n",
    "\n",
    "# Guardo los Bfactors p/ ponderación\n",
    "writetable(string(rehome, \"pesos_nonmis\"), df_bfactors_nonmis_pocket, separator = '\\t')\n",
    "writetable(string(rehome, \"pesos\"), df_new_bfactors_pocket, separator = '\\t')"
   ]
  },
  {
   "cell_type": "code",
   "execution_count": 19,
   "metadata": {
    "collapsed": true
   },
   "outputs": [],
   "source": [
    "# Guardo la lista de los residuos de pocket entero y nonmissing\n",
    "writedlm(string(rehome, \"aa_pocket\"), aa_pocket)\n",
    "writedlm(string(rehome, \"nonmis_aa_pocket\"), nonmis_aa_pocket)\n",
    "\n",
    "writedlm(string(rehome, \"nonmis_aa_disp_pocket\"), nonmis_disp_aa_pocket)"
   ]
  },
  {
   "cell_type": "markdown",
   "metadata": {},
   "source": [
    "## Guardo Bfactors experimentales e indices de nonmissing p/ el cálculo de amplitudes de modos"
   ]
  },
  {
   "cell_type": "code",
   "execution_count": 22,
   "metadata": {},
   "outputs": [],
   "source": [
    "for i = 1:length(pdbs_list)\n",
    "    each = pdbs_list[i]\n",
    "    writedlm(string(rehome, each, \"/\", \"exp_bf_\", each), bfactors[i])\n",
    "    writedlm(string(rehome, each, \"/\", \"nonmissing_\", each), nonmissing[i])\n",
    "end"
   ]
  },
  {
   "cell_type": "markdown",
   "metadata": {},
   "source": [
    "# Checkeo 4I22_A y 4I24_A"
   ]
  },
  {
   "cell_type": "code",
   "execution_count": 96,
   "metadata": {
    "collapsed": true
   },
   "outputs": [],
   "source": [
    "tmp = readdlm(string(rehome, \"4I22_A_freq\"))[8:end, 1]\n",
    "frq_i22 = convert(Array{Float64, 1}, tmp)\n",
    "\n",
    "frq_i24 = readdlm(string(rehome, \"4I24_A_freq\"))[8:end, 1]\n",
    "frq_i24 = convert(Array{Float64, 1}, tmp)\n",
    "\n",
    "mod_i22 = readdlm(string(rehome, \"4I22_A_mods\"))\n",
    "mod_i24 = readdlm(string(rehome, \"4I24_A_mods\"));"
   ]
  },
  {
   "cell_type": "code",
   "execution_count": 110,
   "metadata": {},
   "outputs": [
    {
     "data": {
      "text/plain": [
       "0.597731227442094"
      ]
     },
     "execution_count": 110,
     "metadata": {},
     "output_type": "execute_result"
    }
   ],
   "source": [
    "tempo_0 = mapslices(x -> tognm(x), mod_i22, 1) * diagm(1 ./ frq_i22)\n",
    "pseudo_teo_bf_i22 = mapslices(x -> sum(x), tempo_0, 2)[:, 1]\n",
    "cor(bfactors[i], pseudo_teo_bf_i22[nonmissing[i]])"
   ]
  },
  {
   "cell_type": "code",
   "execution_count": 111,
   "metadata": {},
   "outputs": [
    {
     "data": {
      "text/plain": [
       "0.5369498468937741"
      ]
     },
     "execution_count": 111,
     "metadata": {},
     "output_type": "execute_result"
    }
   ],
   "source": [
    "tempo_0 = mapslices(x -> tognm(x), mod_i24, 1) * diagm(1 ./ frq_i24)\n",
    "pseudo_teo_bf_i24 = mapslices(x -> sum(x), tempo_0, 2)[:, 1]\n",
    "cor(bfactors[i], pseudo_teo_bf_i24[nonmissing[i]])"
   ]
  }
 ],
 "metadata": {
  "kernelspec": {
   "display_name": "Julia 0.6.0",
   "language": "julia",
   "name": "julia-0.6"
  },
  "language_info": {
   "file_extension": ".jl",
   "mimetype": "application/julia",
   "name": "julia",
   "version": "0.6.0"
  }
 },
 "nbformat": 4,
 "nbformat_minor": 2
}
