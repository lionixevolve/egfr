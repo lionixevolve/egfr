{
 "cells": [
  {
   "cell_type": "code",
   "execution_count": 2,
   "metadata": {},
   "outputs": [
    {
     "data": {
      "text/plain": [
       "\"/home/german/labo/18/egfr/model/\""
      ]
     },
     "execution_count": 2,
     "metadata": {},
     "output_type": "execute_result"
    }
   ],
   "source": [
    "using DataFrames\n",
    "using Chemfiles\n",
    "\n",
    "home = \"/home/german/labo/18/egfr/model/\""
   ]
  },
  {
   "cell_type": "code",
   "execution_count": 20,
   "metadata": {},
   "outputs": [
    {
     "data": {
      "text/plain": [
       "res_3_to_1 (generic function with 2 methods)"
      ]
     },
     "execution_count": 20,
     "metadata": {},
     "output_type": "execute_result"
    }
   ],
   "source": [
    "function res_3_to_1(in_3::AbstractString)\n",
    "    \n",
    "    res = lowercase(in_3)\n",
    "    out_1 = AbstractString\n",
    "    \n",
    "    if res == \"ala\"\n",
    "        out_1 = \"A\"\n",
    "    elseif res == \"arg\"\n",
    "        out_1 = \"R\"\n",
    "    elseif res == \"asn\"\n",
    "        out_1 = \"N\"\n",
    "    elseif res == \"asp\"\n",
    "        out_1 = \"D\"\n",
    "    elseif res == \"cys\"\n",
    "        out_1 = \"C\"\n",
    "    elseif res == \"gln\"\n",
    "        out_1 = \"Q\"\n",
    "    elseif res == \"glu\"\n",
    "        out_1 = \"E\"\n",
    "    elseif res == \"gly\"\n",
    "        out_1 = \"G\"\n",
    "    elseif res == \"his\"\n",
    "        out_1 = \"H\"\n",
    "    elseif res == \"ile\"\n",
    "        out_1 = \"I\"\n",
    "    elseif res == \"leu\"\n",
    "        out_1 = \"L\"\n",
    "    elseif res == \"lys\"\n",
    "        out_1 = \"K\"\n",
    "    elseif res == \"met\"\n",
    "        out_1 = \"M\"\n",
    "    elseif res == \"phe\"\n",
    "        out_1 = \"F\"\n",
    "    elseif res == \"pro\"\n",
    "        out_1 = \"P\"\n",
    "    elseif res == \"ser\"\n",
    "        out_1 = \"S\"\n",
    "    elseif res == \"thr\"\n",
    "        out_1 = \"T\"\n",
    "    elseif res == \"trp\"\n",
    "        out_1 = \"W\"\n",
    "    elseif res == \"tyr\"\n",
    "        out_1 = \"Y\"\n",
    "    elseif res == \"val\"\n",
    "        out_1 = \"V\"\n",
    "    else\n",
    "        error(\"Unknown aminoacid: \", in_3)\n",
    "    end\n",
    "    \n",
    "    return out_1\n",
    "end\n",
    "\n",
    "function res_3_to_1(in_vec::Array{String, 1})\n",
    "\n",
    "    out_vec = Array{String, 1}(length(in_vec))\n",
    "    i = 0\n",
    "    for each in in_vec\n",
    "        i+=1\n",
    "        try \n",
    "            out_vec[i] = res_3_to_1(each)\n",
    "        catch e\n",
    "            error(\"Malformed array list.\\nCaught error: $e\")\n",
    "        end\n",
    "    end\n",
    "    \n",
    "    return out_vec\n",
    "end"
   ]
  },
  {
   "cell_type": "code",
   "execution_count": 21,
   "metadata": {},
   "outputs": [
    {
     "data": {
      "text/plain": [
       "seq_from_top (generic function with 1 method)"
      ]
     },
     "execution_count": 21,
     "metadata": {},
     "output_type": "execute_result"
    }
   ],
   "source": [
    "function seq_from_top(in_top::Chemfiles.Topology)\n",
    "    # Get 1 letter code amino acid list from a topology\n",
    "    aa = convert(Int64, count_residues(in_top))\n",
    "    ids = Array{Int64, 1}(aa)\n",
    "\n",
    "    for i=1:aa\n",
    "        ids[i] = id(Residue(in_top, i-1))\n",
    "    end\n",
    "    ids_sorted_indices = sortperm(ids);\n",
    "\n",
    "    seq_3 = Array{String, 1}(aa)\n",
    "    i = 0\n",
    "    for each in ids_sorted_indices\n",
    "        i+=1\n",
    "        seq_3[i] = name((Residue(in_top, each-1)))\n",
    "    end\n",
    "    seq_1 = res_3_to_1(seq_3);\n",
    "    \n",
    "    return seq_1\n",
    "end"
   ]
  },
  {
   "cell_type": "code",
   "execution_count": 4,
   "metadata": {},
   "outputs": [],
   "source": [
    "tmp = readdlm(string(home, \"/pdbs.list\"))\n",
    "pdbs_list = convert(Array{String, 1}, reshape(tmp, length(tmp)));"
   ]
  },
  {
   "cell_type": "markdown",
   "metadata": {},
   "source": [
    "# Leo alineamiento"
   ]
  },
  {
   "cell_type": "code",
   "execution_count": 9,
   "metadata": {
    "scrolled": true
   },
   "outputs": [
    {
     "name": "stdout",
     "output_type": "stream",
     "text": [
      "1M14_A\n",
      "1M17_A\n",
      "1XKK_A\n",
      "2EB2_A\n",
      "2GS2_A\n",
      "2GS6_A\n",
      "2GS7_A\n",
      "2ITN_A\n",
      "2ITP_A\n",
      "2ITU_A\n",
      "2ITX_A\n",
      "2ITZ_A\n",
      "2J5F_A\n",
      "2RGP_A\n",
      "3BEL_A\n",
      "3GOP_A\n",
      "3GT8_A\n",
      "3GT8_C\n",
      "3IKA_A\n",
      "3IKA_B\n",
      "3LZB_A\n",
      "3UG1_A\n",
      "3VJN_A\n",
      "3W2O_A\n",
      "3W2R_A\n",
      "3W2S_A\n",
      "3W32_A\n",
      "3W33_A\n",
      "4G5J_A\n",
      "4I1Z_A\n",
      "4I22_A\n",
      "4I23_A\n",
      "4I24_A\n",
      "4LI5_A\n",
      "4LQM_A\n",
      "4R3P_A\n",
      "4R5S_A\n",
      "4RJ4_A\n",
      "4ZAU_A\n",
      "4ZJV_A\n",
      "5C8K_A\n",
      "5CAO_A\n",
      "5CAP_A\n",
      "5CAV_A\n",
      "5CNN_A\n",
      "5CNN_B\n",
      "5CNO_A\n",
      "5CZH_A\n",
      "5EDP_A\n",
      "5EM5_A\n",
      "5EM6_A\n",
      "5EM7_A\n",
      "5EM8_A\n",
      "5HG5_A\n",
      "5HG7_A\n",
      "5HG8_A\n",
      "5HIB_A\n",
      "5HIC_A\n"
     ]
    }
   ],
   "source": [
    "alineamientos = Array{Array{Any, 2}, 1}(length(pdbs_list))\n",
    "indices_mut = Array{Array{Int64, 1}, 1}(length(pdbs_list))\n",
    "indices_mis = Array{Array{Int64, 1}, 1}(length(pdbs_list))\n",
    "\n",
    "j = 0\n",
    "\n",
    "for each in pdbs_list\n",
    "    j += 1\n",
    "    println(each) \n",
    "    \n",
    "    in_seq_canonical = Array{AbstractString, 1}\n",
    "    in_seq_each = Array{AbstractString, 1}\n",
    "    in_mut_each = Array{AbstractString, 1}\n",
    "\n",
    "    seq_canonical = Array{AbstractString, 1}\n",
    "    seq_each = Array{AbstractString, 1}\n",
    "    mut_each = Array{AbstractString, 1}\n",
    "    \n",
    "    \n",
    "    # Leo archivo.\n",
    "    in_filename = string(home, each, \"/alignment_\", each)\n",
    "    alignment_file = open(in_filename)\n",
    "    lineas = readlines(alignment_file)\n",
    "\n",
    "    k = 0\n",
    "    # Ahora leo todas las líneas y tomo los arrays en bruto\n",
    "    for linea in lineas\n",
    "        k+=1\n",
    "        inicio = 31\n",
    "        final = length(lineas) - 3\n",
    "    \n",
    "        if inicio < k < final\n",
    "            n_linea = k - 31\n",
    "            altura = ((n_linea - 1 + 4) % 4)\n",
    "        \n",
    "            if altura == 0\n",
    "                in_seq_canonical = [ in_seq_canonical ; linea[22:end-7] ]\n",
    "            elseif altura == 1\n",
    "                in_mut_each = [ in_mut_each ; linea[22:end] ]\n",
    "            elseif altura == 2\n",
    "                in_seq_each = [ in_seq_each ; linea[22:end-7] ]\n",
    "            end\n",
    "        end\n",
    "    end\n",
    "    \n",
    "    # Paso las secuencias en bruto a arrays bien formados.\n",
    "    for i = 2:length(in_seq_canonical)\n",
    "        tmp_canonical = [ in_seq_canonical[i][j] for j = 1:length(in_seq_canonical[i]) ]\n",
    "        seq_canonical = [ seq_canonical ; tmp_canonical]\n",
    "    \n",
    "        tmp_each = [ in_seq_each[i][j] for j = 1:length(in_seq_each[i]) ]\n",
    "        seq_each = [ seq_each ; tmp_each]\n",
    "\n",
    "        tmp = [ in_mut_each[i][j] for j = 1:length(in_mut_each[i]) ]\n",
    "        mut_each = [ mut_each ; tmp]\n",
    "    end\n",
    "\n",
    "    # Determino q pdbs tienen mutaciones y en q posiciones.\n",
    "    tmp_indices_mut = findin(mut_each, \".\")\n",
    "    indices_mut[j] = tmp_indices_mut\n",
    "    \n",
    "    # Determino las regiones a modelar\n",
    "    tmp_indices_mis = findin(mut_each, \" \") .- 1\n",
    "    indices_mis[j] = tmp_indices_mis\n",
    "\n",
    "    # Guardo todo\n",
    "    alineamiento = [ seq_canonical seq_each mut_each ]\n",
    "    alineamientos[j] = alineamiento \n",
    "end"
   ]
  },
  {
   "cell_type": "markdown",
   "metadata": {},
   "source": [
    "### Renumero los indices missings. La numeración original es según\n",
    "### las posiciones del alineamiento. Quiero obtener la numeración según\n",
    "### la sequencia canonical"
   ]
  },
  {
   "cell_type": "code",
   "execution_count": 12,
   "metadata": {},
   "outputs": [],
   "source": [
    "mod_indices_mis = Array{Array{Int64, 1}, 1}(length(pdbs_list))\n",
    "\n",
    "for i = 1:length(pdbs_list)\n",
    "    tmp_indices = Array{Int64}[]\n",
    "    \n",
    "    # La secuencia a modelar empieza y termina con leucina\n",
    "    pre_mask = findin(alineamientos[i][:, 1], \"L\")\n",
    "    mask = pre_mask[1] .< indices_mis[i] .< pre_mask[end]\n",
    "    mod_indices_mis[i] = indices_mis[i][mask] .- pre_mask[1] .+ 2\n",
    "    # Ya tengo los índices de missings numerados según la seq canonical.\n",
    "end"
   ]
  },
  {
   "cell_type": "code",
   "execution_count": 17,
   "metadata": {},
   "outputs": [
    {
     "data": {
      "text/plain": [
       "44-element Array{Int64,1}:\n",
       "   1\n",
       "  33\n",
       "  34\n",
       "  35\n",
       "  36\n",
       "  49\n",
       "  50\n",
       "  51\n",
       "  52\n",
       " 166\n",
       " 167\n",
       " 168\n",
       " 169\n",
       "   ⋮\n",
       " 294\n",
       " 295\n",
       " 296\n",
       " 297\n",
       " 298\n",
       " 299\n",
       " 300\n",
       " 301\n",
       " 302\n",
       " 303\n",
       " 304\n",
       " 305"
      ]
     },
     "execution_count": 17,
     "metadata": {},
     "output_type": "execute_result"
    }
   ],
   "source": [
    "indices_mis[3]"
   ]
  },
  {
   "cell_type": "code",
   "execution_count": 18,
   "metadata": {},
   "outputs": [
    {
     "data": {
      "text/plain": [
       "16-element Array{Int64,1}:\n",
       "  32\n",
       "  33\n",
       "  34\n",
       "  35\n",
       "  48\n",
       "  49\n",
       "  50\n",
       "  51\n",
       " 165\n",
       " 166\n",
       " 167\n",
       " 168\n",
       " 169\n",
       " 170\n",
       " 171\n",
       " 172"
      ]
     },
     "execution_count": 18,
     "metadata": {},
     "output_type": "execute_result"
    }
   ],
   "source": [
    "mod_indices_mis[3]"
   ]
  },
  {
   "cell_type": "code",
   "execution_count": 22,
   "metadata": {},
   "outputs": [
    {
     "data": {
      "text/plain": [
       "289-element Array{String,1}:\n",
       " \"A\"\n",
       " \"L\"\n",
       " \"L\"\n",
       " \"R\"\n",
       " \"I\"\n",
       " \"L\"\n",
       " \"K\"\n",
       " \"E\"\n",
       " \"T\"\n",
       " \"E\"\n",
       " \"F\"\n",
       " \"K\"\n",
       " \"K\"\n",
       " ⋮  \n",
       " \"M\"\n",
       " \"D\"\n",
       " \"E\"\n",
       " \"V\"\n",
       " \"V\"\n",
       " \"D\"\n",
       " \"A\"\n",
       " \"D\"\n",
       " \"E\"\n",
       " \"Y\"\n",
       " \"L\"\n",
       " \"I\""
      ]
     },
     "execution_count": 22,
     "metadata": {},
     "output_type": "execute_result"
    }
   ],
   "source": [
    "i = 3\n",
    "each = pdbs_list[i]\n",
    "in_pdb_trj = Trajectory(string(home, each, \"/\", each, \".pdb\"))\n",
    "in_pdb_frm = read(in_pdb_trj)\n",
    "in_pdb_top = Topology(in_pdb_frm)\n",
    "seq = seq_from_top(in_pdb_top)"
   ]
  },
  {
   "cell_type": "code",
   "execution_count": 29,
   "metadata": {},
   "outputs": [
    {
     "data": {
      "text/plain": [
       "Ptr{Chemfiles.lib.CHFL_TOPOLOGY} @0x000000000581f1a0"
      ]
     },
     "execution_count": 29,
     "metadata": {},
     "output_type": "execute_result"
    }
   ],
   "source": [
    "in_pdb_top.handle"
   ]
  },
  {
   "cell_type": "code",
   "execution_count": 25,
   "metadata": {},
   "outputs": [
    {
     "data": {
      "text/plain": [
       "Chemfiles.Residue(Ptr{Chemfiles.lib.CHFL_RESIDUE} @0x0000000001caeaf0)"
      ]
     },
     "execution_count": 25,
     "metadata": {},
     "output_type": "execute_result"
    }
   ],
   "source": [
    "(Residue(in_pdb_top, 0))"
   ]
  },
  {
   "cell_type": "code",
   "execution_count": null,
   "metadata": {
    "collapsed": true
   },
   "outputs": [],
   "source": []
  }
 ],
 "metadata": {
  "kernelspec": {
   "display_name": "Julia 0.6.0",
   "language": "julia",
   "name": "julia-0.6"
  },
  "language_info": {
   "file_extension": ".jl",
   "mimetype": "application/julia",
   "name": "julia",
   "version": "0.6.0"
  }
 },
 "nbformat": 4,
 "nbformat_minor": 2
}
