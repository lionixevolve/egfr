{
 "cells": [
  {
   "cell_type": "code",
   "execution_count": 1,
   "metadata": {},
   "outputs": [
    {
     "name": "stderr",
     "output_type": "stream",
     "text": [
      "\u001b[1m\u001b[36mINFO: \u001b[39m\u001b[22m\u001b[36mPrecompiling module Gadfly.\n",
      "\u001b[39mWARNING: could not import Juno.Hiccup into Gadfly\n"
     ]
    },
    {
     "data": {
      "text/html": [
       "277"
      ],
      "text/plain": [
       "277"
      ]
     },
     "execution_count": 1,
     "metadata": {},
     "output_type": "execute_result"
    }
   ],
   "source": [
    "using DataFrames\n",
    "using Chemfiles\n",
    "using MIToS.PDB\n",
    "using Gadfly\n",
    "using Cairo\n",
    "using Compose\n",
    "set_default_plot_size(40cm, 14cm)\n",
    "\n",
    "home = \"/home/german/labo/18/egfr/cavidad/\"\n",
    "home_gram = \"/home/german/labo/18/egfr/renonmis_gram/\"\n",
    "home_modos = \"/home/german/labo/18/egfr/modos/\"\n",
    "home_rtdos = \"/home/german/labo/18/egfr/rtdos_log/\"\n",
    "aa = 277"
   ]
  },
  {
   "cell_type": "code",
   "execution_count": 2,
   "metadata": {},
   "outputs": [
    {
     "data": {
      "text/plain": [
       "tognm (generic function with 1 method)"
      ]
     },
     "execution_count": 2,
     "metadata": {},
     "output_type": "execute_result"
    }
   ],
   "source": [
    "function tognm(vtor_anm)\n",
    "    vtor_gnm = Array{Float64}(convert(Int64, length(vtor_anm)/3));\n",
    "    vtor_anm =  vtor_anm.^2\n",
    "    for i=1:convert(Int64, length(vtor_anm)/3)\n",
    "        vtor_gnm[i] = sqrt(vtor_anm[i*3-2] + vtor_anm[i*3-1] + vtor_anm[i*3])\n",
    "    end\n",
    "    return vtor_gnm\n",
    "end"
   ]
  },
  {
   "cell_type": "code",
   "execution_count": 3,
   "metadata": {},
   "outputs": [
    {
     "data": {
      "text/plain": [
       "WeightedHist (generic function with 2 methods)"
      ]
     },
     "execution_count": 3,
     "metadata": {},
     "output_type": "execute_result"
    }
   ],
   "source": [
    "function WeightedHist(in_vec, in_bins, in_weight, density = false)\n",
    "    # Safety check    \n",
    "    if length(in_vec) != length(in_weight)\n",
    "        println(\"Each element of the input vector needs one weight\")\n",
    "        return\n",
    "    end\n",
    "    \n",
    "    # Prepare variables\n",
    "    out_counts = Array{Float64}(length(in_bins)-1)\n",
    "    \n",
    "    # Get weighted histogram\n",
    "    for i=1:length(in_bins)-1\n",
    "        if i == 1\n",
    "            # Include those that fall before the beggining of the bins\n",
    "            temp_bool = (in_vec .>= in_bins[i]) .& (in_vec .< in_bins[i+1]) .| (in_vec .<= in_bins[i])\n",
    "            out_counts[i] = sum(in_weight[temp_bool])\n",
    "        elseif i == length(in_bins)-1\n",
    "            # Include those that fall after the end of the bins\n",
    "            temp_bool = (in_vec .>= in_bins[i]) .& (in_vec .< in_bins[i+1]) .| (in_vec .>= in_bins[end])\n",
    "            out_counts[i] = sum(in_weight[temp_bool])\n",
    "        else\n",
    "            temp_bool = (in_vec .>= in_bins[i]) .& (in_vec .< in_bins[i+1])\n",
    "            out_counts[i] = sum(in_weight[temp_bool])\n",
    "        end\n",
    "    end\n",
    "    \n",
    "    # Get bins middle points\n",
    "    out_middle = (in_bins[1:end-1] + in_bins[2:end]) / 2\n",
    "    \n",
    "    # Turn counts into density\n",
    "    if (density == true)\n",
    "        out_counts = out_counts ./ sum(out_counts) \n",
    "    end\n",
    "    return out_counts, out_middle\n",
    "end"
   ]
  },
  {
   "cell_type": "code",
   "execution_count": 23,
   "metadata": {},
   "outputs": [
    {
     "data": {
      "text/plain": [
       "displaceAA (generic function with 1 method)"
      ]
     },
     "execution_count": 23,
     "metadata": {},
     "output_type": "execute_result"
    }
   ],
   "source": [
    "function displaceAA(mod_pdb, in_vector, multiplier)\n",
    "    # Preparo variables\n",
    "    pdb = copy(mod_pdb)\n",
    "    struct_xyz = coordinatesmatrix(pdb)\n",
    "    new_struct_xyz = copy(struct_xyz)\n",
    "        aa = length(pdb)\n",
    "        # Determino el nro de atomos de c/ aminoácido\n",
    "        natom = Array{Int64}(aa)\n",
    "        [ natom[i] = length(pdb[i]) for i = 1:aa ]\n",
    "        # Adapto el vector p/ darle la misma forma q la matriz de coordenadas\n",
    "        vector = Array{Float64}\n",
    "        const tmp_size = size(in_vector)\n",
    "        const natoms = sum(natom)\n",
    "\n",
    "        if tmp_size == (aa*3, )\n",
    "                vector = transpose(reshape(in_vector, 3, aa))\n",
    "        elseif tmp_size == (aa, 3)\n",
    "                vector = in_vector\n",
    "        else\n",
    "                error(\"Input vector with wrong dimensions: \", tmp_size, \"  \", (aa*3, 1))\n",
    "        end\n",
    "        sum_mat = Array{Float64}(sum(natom),3)\n",
    "        cursor = 0\n",
    "        for i = 1:aa\n",
    "                rango = Array{Int64}(natom[i])\n",
    "        if i == 1\n",
    "                        sum_mat[1:natom[i], :] = repmat(transpose(vector[i, :]),\n",
    "                                natom[i], 1)\n",
    "                        cursor = natom[i]\n",
    "                        continue\n",
    "                end\n",
    "                rango = collect(cursor+1:cursor + natom[i])\n",
    "                sum_mat[rango, :] = repmat(transpose(vector[i, :]), natom[i], 1)\n",
    "                cursor += natom[i]\n",
    "        end\n",
    "\n",
    "   # Listo, ahora puedo mover el pdb\n",
    "   new_struct_xyz  = struct_xyz + sum_mat .* multiplier\n",
    "   pdb = change_coordinates(pdb, new_struct_xyz);\n",
    "   return pdb\n",
    "end"
   ]
  },
  {
   "cell_type": "markdown",
   "metadata": {},
   "source": [
    "# Cavidad"
   ]
  },
  {
   "cell_type": "code",
   "execution_count": 5,
   "metadata": {},
   "outputs": [
    {
     "name": "stderr",
     "output_type": "stream",
     "text": [
      "WARNING: both Compose and Cairo export \"circle\"; uses of it in module Main must be qualified\n",
      "WARNING: both Compose and Cairo export \"clip\"; uses of it in module Main must be qualified\n",
      "WARNING: both Compose and Cairo export \"rectangle\"; uses of it in module Main must be qualified\n",
      "WARNING: both Compose and Cairo export \"stroke\"; uses of it in module Main must be qualified\n",
      "WARNING: both Compose and Cairo export \"text\"; uses of it in module Main must be qualified\n",
      "WARNING: both Compose and Cairo export \"text_extents\"; uses of it in module Main must be qualified\n",
      "WARNING: both Gadfly and Base export \"cross\"; uses of it in module Main must be qualified\n",
      "WARNING: both PDB and Chemfiles export \"distance\"; uses of it in module Main must be qualified\n",
      "WARNING: both PDB and DataFrames export \"rmsd\"; uses of it in module Main must be qualified\n",
      "WARNING: both StatsBase and Compat export \"stderr\"; uses of it in module DataFrames must be qualified\n"
     ]
    }
   ],
   "source": [
    "# Leo nombres de structuras\n",
    "tmp = readdlm(string(home, \"pdbs.list\"))\n",
    "pdbs_list = convert(Array{String, 1}, reshape(tmp, length(tmp)));\n",
    "aa = 277\n",
    "aa_3 = aa * 3\n",
    "aa_36 = aa_3 - 6\n",
    "structs = length(pdbs_list)\n",
    "\n",
    "# Leo activas e inactivas\n",
    "tmp = readdlm(string(home, \"am.list\"))\n",
    "am_list = convert(Array{String, 1}, reshape(tmp, length(tmp)));\n",
    "\n",
    "tmp = readdlm(string(home, \"im.list\"))\n",
    "im_list = convert(Array{String, 1}, reshape(tmp, length(tmp)));"
   ]
  },
  {
   "cell_type": "code",
   "execution_count": 12,
   "metadata": {},
   "outputs": [
    {
     "data": {
      "text/html": [
       "6672"
      ],
      "text/plain": [
       "6672"
      ]
     },
     "execution_count": 12,
     "metadata": {},
     "output_type": "execute_result"
    }
   ],
   "source": [
    "# Read PDB\n",
    "i = 1\n",
    "\n",
    "each = pdbs_list[i]\n",
    "\n",
    "# Leo pdb \n",
    "in_pdb_filename = string(each, \".pdb\")\n",
    "in_pdb = read(joinpath(home, each, in_pdb_filename), PDBFile, group=\"ATOM\");\n",
    "\n",
    "# Leo modo 1 y desplazo\n",
    "in_vec1_filename = string(\"1modo_\", each)\n",
    "tmp = readdlm(joinpath(home, each, in_vec1_filename))\n",
    "modo_1 = reshape(tmp, length(tmp))\n",
    "\n",
    "out_pdb_1 = displaceAA(in_pdb, modo_1, 10.0)\n",
    "\n",
    "# Leo modo 2 y desplazo\n",
    "in_vec2_filename = string(\"2modo_\", each)\n",
    "tmp = readdlm(joinpath(home, each, in_vec2_filename))\n",
    "modo_2 = reshape(tmp, length(tmp));\n",
    "\n",
    "out_pdb_2 = displaceAA(in_pdb, modo_2, 10.0)\n",
    "\n",
    "# Guardo la struct modificada"
   ]
  },
  {
   "cell_type": "code",
   "execution_count": 18,
   "metadata": {},
   "outputs": [],
   "source": [
    "\n"
   ]
  },
  {
   "cell_type": "code",
   "execution_count": 24,
   "metadata": {},
   "outputs": [
    {
     "data": {
      "text/plain": [
       "2224×3 Array{Float64,2}:\n",
       " 40.6643    -6.6855   63.607 \n",
       " 40.2223    -7.9745   63.026 \n",
       " 39.5403    -7.7985   61.713 \n",
       " 38.3593    -7.4585   61.661 \n",
       " 39.2203    -8.6755   63.96  \n",
       " 38.5463    -9.9035   63.32  \n",
       " 39.5532   -11.0275   63.044 \n",
       " 37.3263   -10.3615   64.137 \n",
       " 40.4557    -7.90626  60.5728\n",
       " 39.7977    -7.82626  59.2608\n",
       " 39.4017    -9.25726  58.9618\n",
       " 40.2567   -10.1373   58.9208\n",
       " 40.7747    -7.35326  58.1908\n",
       "  ⋮                          \n",
       " 12.1714    20.1793   76.11  \n",
       " 12.6274    21.4603   76.452 \n",
       " 13.0284    21.7584   77.742 \n",
       "  9.02385   20.0809   70.2101\n",
       "  8.65385   19.9389   68.8071\n",
       "  7.12985   19.9369   68.7701\n",
       "  6.49785   19.1829   69.5041\n",
       "  9.24085   18.6499   68.2041\n",
       " 10.7648    18.6179   68.0191\n",
       " 11.1889    17.2709   67.5651\n",
       " 11.2258    19.6689   67.0401\n",
       "  6.56585   19.8239   67.6491"
      ]
     },
     "execution_count": 24,
     "metadata": {},
     "output_type": "execute_result"
    }
   ],
   "source": []
  },
  {
   "cell_type": "code",
   "execution_count": 26,
   "metadata": {},
   "outputs": [
    {
     "data": {
      "text/plain": [
       "3-element Array{Float64,1}:\n",
       " -0.26175\n",
       " -0.3455 \n",
       "  0.29201"
      ]
     },
     "execution_count": 26,
     "metadata": {},
     "output_type": "execute_result"
    }
   ],
   "source": [
    "modo_1[1:3] .* 10.0"
   ]
  },
  {
   "cell_type": "code",
   "execution_count": 19,
   "metadata": {},
   "outputs": [
    {
     "data": {
      "text/plain": [
       "2224×3 Array{Float64,2}:\n",
       " 40.926   -6.34   63.315\n",
       " 40.484   -7.629  62.734\n",
       " 39.802   -7.453  61.421\n",
       " 38.621   -7.113  61.369\n",
       " 39.482   -8.33   63.668\n",
       " 38.808   -9.558  63.028\n",
       " 39.815  -10.682  62.752\n",
       " 37.588  -10.016  63.845\n",
       " 40.535   -7.673  60.314\n",
       " 39.877   -7.593  59.002\n",
       " 39.481   -9.024  58.703\n",
       " 40.336   -9.904  58.662\n",
       " 40.854   -7.12   57.932\n",
       "  ⋮                     \n",
       " 12.091   20.018  76.089\n",
       " 12.547   21.299  76.431\n",
       " 12.948   21.597  77.721\n",
       "  8.975   20.015  70.139\n",
       "  8.605   19.873  68.736\n",
       "  7.081   19.871  68.699\n",
       "  6.449   19.117  69.433\n",
       "  9.192   18.584  68.133\n",
       " 10.716   18.552  67.948\n",
       " 11.14    17.205  67.494\n",
       " 11.177   19.603  66.969\n",
       "  6.517   19.758  67.578"
      ]
     },
     "execution_count": 19,
     "metadata": {},
     "output_type": "execute_result"
    }
   ],
   "source": [
    "coordinatesmatrix(in_pdb)"
   ]
  },
  {
   "cell_type": "code",
   "execution_count": null,
   "metadata": {
    "collapsed": true
   },
   "outputs": [],
   "source": [
    "aa = length(in_pdb)\n",
    "aa_3 = aa * 3\n",
    "natom_xyz = size(coordinatesmatrix(in_pdb))[1] * 3\n"
   ]
  },
  {
   "cell_type": "markdown",
   "metadata": {},
   "source": [
    "## Grafico"
   ]
  },
  {
   "cell_type": "code",
   "execution_count": null,
   "metadata": {
    "collapsed": true
   },
   "outputs": [],
   "source": [
    "# Vec 1\n",
    "hbins = collect(minimum(der_im_vec1):0.005:maximum(der_am_vec1))\n",
    "hweights_im = repeat([1.0], inner = [length(der_im_vec1)])\n",
    "hweights_am = repeat([1.0], inner = [length(der_am_vec1)])\n",
    "\n",
    "counts_im, bins = WeightedHist(der_im_vec1, hbins, hweights_im, true)\n",
    "counts_am, bins = WeightedHist(der_am_vec1, hbins, hweights_am, true)\n",
    "\n",
    "\n",
    "df_hist_der_vec1 = DataFrame(Probability = [counts_am ; counts_im],\n",
    "    ΔRg = [ bins ; bins ],\n",
    "    Conformer = repeat([\"AM\" ; \"IM\"], inner = [ length(bins)]));\n",
    "\n",
    "# Vec 2\n",
    "hbins = collect(minimum(der_im_vec2):0.005:maximum(der_am_vec2))\n",
    "hweights_im = repeat([1.0], inner = [length(der_im_vec2)])\n",
    "hweights_am = repeat([1.0], inner = [length(der_am_vec2)])\n",
    "\n",
    "counts_im, bins = WeightedHist(der_im_vec2, hbins, hweights_im, true)\n",
    "counts_am, bins = WeightedHist(der_am_vec2, hbins, hweights_am, true)\n",
    "\n",
    "\n",
    "df_hist_der_vec2 = DataFrame(Probability = [counts_am ; counts_im],\n",
    "    ΔRg = [ bins ; bins ],\n",
    "    Conformer = repeat([\"AM\" ; \"IM\"], inner = [ length(bins)]));"
   ]
  },
  {
   "cell_type": "code",
   "execution_count": null,
   "metadata": {},
   "outputs": [],
   "source": [
    "pdf_hist_der_vec1 = plot(df_hist_der_vec1, x=\"ΔRg\", y=\"Probability\", color = \"Conformer\", \n",
    "    Geom.bar(position = :dodge),\n",
    "\n",
    "    #Guide.title(\"Figure 2.AA\"),\n",
    "    #Guide.ylabel(\"δV * Probability\", orientation=:vertical), \n",
    "    #Guide.yticks(ticks = collect(0.25:0.25:1.0)),\n",
    "    #Coord.cartesian(xmin = 0, xmax = 15),\n",
    "    Scale.color_discrete_manual(\"Firebrick\",\"SlateBlue\"),\n",
    "\n",
    "\n",
    "    Theme(bar_spacing = 2pt, grid_line_width=1pt, key_label_font_size = 20pt,\n",
    "        minor_label_font_size = 14pt, major_label_font_size = 20pt, key_title_font_size = 20pt))"
   ]
  },
  {
   "cell_type": "code",
   "execution_count": null,
   "metadata": {
    "scrolled": true
   },
   "outputs": [],
   "source": [
    "pdf_hist_der_vec2 = plot(df_hist_der_vec2, x=\"ΔRg\", y=\"Probability\", color = \"Conformer\", \n",
    "    Geom.bar(position = :dodge),\n",
    "\n",
    "    #Guide.title(\"Figure 2.AA\"),\n",
    "    #Guide.ylabel(\"δV * Probability\", orientation=:vertical), \n",
    "    #Guide.yticks(ticks = collect(0.25:0.25:1.0)),\n",
    "    #Coord.cartesian(xmin = 0, xmax = 15),\n",
    "    Scale.color_discrete_manual(\"Firebrick\",\"SlateBlue\"),\n",
    "\n",
    "\n",
    "    Theme(bar_spacing = 2pt, grid_line_width=1pt, key_label_font_size = 20pt,\n",
    "        minor_label_font_size = 14pt, major_label_font_size = 20pt, key_title_font_size = 20pt))"
   ]
  },
  {
   "cell_type": "markdown",
   "metadata": {},
   "source": [
    "## Guardo resultados"
   ]
  },
  {
   "cell_type": "code",
   "execution_count": null,
   "metadata": {
    "collapsed": true
   },
   "outputs": [],
   "source": [
    "writedlm(string(home_rtdos, \"rg_im_vec1\"), der_im_vec1)\n",
    "writedlm(string(home_rtdos, \"rg_im_vec2\"), der_im_vec2)\n",
    "\n",
    "writedlm(string(home_rtdos, \"rg_am_vec1\"), der_am_vec1)\n",
    "writedlm(string(home_rtdos, \"rg_am_vec2\"), der_am_vec2)"
   ]
  }
 ],
 "metadata": {
  "kernelspec": {
   "display_name": "Julia 0.6.0",
   "language": "julia",
   "name": "julia-0.6"
  },
  "language_info": {
   "file_extension": ".jl",
   "mimetype": "application/julia",
   "name": "julia",
   "version": "0.6.0"
  }
 },
 "nbformat": 4,
 "nbformat_minor": 2
}
