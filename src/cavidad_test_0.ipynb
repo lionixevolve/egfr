{
 "cells": [
  {
   "cell_type": "code",
   "execution_count": 1,
   "metadata": {},
   "outputs": [
    {
     "name": "stderr",
     "output_type": "stream",
     "text": [
      "\u001b[1m\u001b[36mINFO: \u001b[39m\u001b[22m\u001b[36mRecompiling stale cache file /home/german/.julia/lib/v0.6/Requests.ji for module Requests.\n",
      "\u001b[39m\u001b[1m\u001b[36mINFO: \u001b[39m\u001b[22m\u001b[36mRecompiling stale cache file /home/german/.julia/lib/v0.6/MIToS.ji for module MIToS.\n",
      "\u001b[39m\u001b[1m\u001b[33mWARNING: \u001b[39m\u001b[22m\u001b[33m`@vectorize_1arg` is deprecated in favor of compact broadcast syntax. Instead of `@vectorize_1arg`'ing function `f` and calling `f(arg)`, call `f.(arg)`.\u001b[39m\n",
      "Stacktrace:\n",
      " [1] \u001b[1mdepwarn\u001b[22m\u001b[22m\u001b[1m(\u001b[22m\u001b[22m::String, ::Symbol\u001b[1m)\u001b[22m\u001b[22m at \u001b[1m./deprecated.jl:70\u001b[22m\u001b[22m\n",
      " [2] \u001b[1m@vectorize_1arg\u001b[22m\u001b[22m\u001b[1m(\u001b[22m\u001b[22m::ANY, ::ANY\u001b[1m)\u001b[22m\u001b[22m at \u001b[1m./deprecated.jl:322\u001b[22m\u001b[22m\n",
      " [3] \u001b[1minclude_from_node1\u001b[22m\u001b[22m\u001b[1m(\u001b[22m\u001b[22m::String\u001b[1m)\u001b[22m\u001b[22m at \u001b[1m./loading.jl:569\u001b[22m\u001b[22m\n",
      " [4] \u001b[1minclude\u001b[22m\u001b[22m\u001b[1m(\u001b[22m\u001b[22m::String\u001b[1m)\u001b[22m\u001b[22m at \u001b[1m./sysimg.jl:14\u001b[22m\u001b[22m\n",
      " [5] \u001b[1minclude_from_node1\u001b[22m\u001b[22m\u001b[1m(\u001b[22m\u001b[22m::String\u001b[1m)\u001b[22m\u001b[22m at \u001b[1m./loading.jl:569\u001b[22m\u001b[22m\n",
      " [6] \u001b[1minclude\u001b[22m\u001b[22m\u001b[1m(\u001b[22m\u001b[22m::String\u001b[1m)\u001b[22m\u001b[22m at \u001b[1m./sysimg.jl:14\u001b[22m\u001b[22m\n",
      " [7] \u001b[1manonymous\u001b[22m\u001b[22m at \u001b[1m./<missing>:2\u001b[22m\u001b[22m\n",
      " [8] \u001b[1meval\u001b[22m\u001b[22m\u001b[1m(\u001b[22m\u001b[22m::Module, ::Any\u001b[1m)\u001b[22m\u001b[22m at \u001b[1m./boot.jl:235\u001b[22m\u001b[22m\n",
      " [9] \u001b[1mprocess_options\u001b[22m\u001b[22m\u001b[1m(\u001b[22m\u001b[22m::Base.JLOptions\u001b[1m)\u001b[22m\u001b[22m at \u001b[1m./client.jl:286\u001b[22m\u001b[22m\n",
      " [10] \u001b[1m_start\u001b[22m\u001b[22m\u001b[1m(\u001b[22m\u001b[22m\u001b[1m)\u001b[22m\u001b[22m at \u001b[1m./client.jl:371\u001b[22m\u001b[22m\n",
      "while loading /home/german/.julia/v0.6/ROCAnalysis/src/modules.jl, in expression starting on line 14\n",
      "\u001b[1m\u001b[33mWARNING: \u001b[39m\u001b[22m\u001b[33m`@vectorize_1arg` is deprecated in favor of compact broadcast syntax. Instead of `@vectorize_1arg`'ing function `f` and calling `f(arg)`, call `f.(arg)`.\u001b[39m\n",
      "Stacktrace:\n",
      " [1] \u001b[1mdepwarn\u001b[22m\u001b[22m\u001b[1m(\u001b[22m\u001b[22m::String, ::Symbol\u001b[1m)\u001b[22m\u001b[22m at \u001b[1m./deprecated.jl:70\u001b[22m\u001b[22m\n",
      " [2] \u001b[1m@vectorize_1arg\u001b[22m\u001b[22m\u001b[1m(\u001b[22m\u001b[22m::ANY, ::ANY\u001b[1m)\u001b[22m\u001b[22m at \u001b[1m./deprecated.jl:322\u001b[22m\u001b[22m\n",
      " [3] \u001b[1minclude_from_node1\u001b[22m\u001b[22m\u001b[1m(\u001b[22m\u001b[22m::String\u001b[1m)\u001b[22m\u001b[22m at \u001b[1m./loading.jl:569\u001b[22m\u001b[22m\n",
      " [4] \u001b[1minclude\u001b[22m\u001b[22m\u001b[1m(\u001b[22m\u001b[22m::String\u001b[1m)\u001b[22m\u001b[22m at \u001b[1m./sysimg.jl:14\u001b[22m\u001b[22m\n",
      " [5] \u001b[1minclude_from_node1\u001b[22m\u001b[22m\u001b[1m(\u001b[22m\u001b[22m::String\u001b[1m)\u001b[22m\u001b[22m at \u001b[1m./loading.jl:569\u001b[22m\u001b[22m\n",
      " [6] \u001b[1minclude\u001b[22m\u001b[22m\u001b[1m(\u001b[22m\u001b[22m::String\u001b[1m)\u001b[22m\u001b[22m at \u001b[1m./sysimg.jl:14\u001b[22m\u001b[22m\n",
      " [7] \u001b[1manonymous\u001b[22m\u001b[22m at \u001b[1m./<missing>:2\u001b[22m\u001b[22m\n",
      " [8] \u001b[1meval\u001b[22m\u001b[22m\u001b[1m(\u001b[22m\u001b[22m::Module, ::Any\u001b[1m)\u001b[22m\u001b[22m at \u001b[1m./boot.jl:235\u001b[22m\u001b[22m\n",
      " [9] \u001b[1mprocess_options\u001b[22m\u001b[22m\u001b[1m(\u001b[22m\u001b[22m::Base.JLOptions\u001b[1m)\u001b[22m\u001b[22m at \u001b[1m./client.jl:286\u001b[22m\u001b[22m\n",
      " [10] \u001b[1m_start\u001b[22m\u001b[22m\u001b[1m(\u001b[22m\u001b[22m\u001b[1m)\u001b[22m\u001b[22m at \u001b[1m./client.jl:371\u001b[22m\u001b[22m\n",
      "while loading /home/german/.julia/v0.6/ROCAnalysis/src/modules.jl, in expression starting on line 28\n",
      "\n",
      "WARNING: deprecated syntax \"typealias ArrayOrReal{T<:Real} Union(Array{T},Real)\" at /home/german/.julia/v0.6/ROCAnalysis/src/roctypes.jl:54.\n",
      "Use \"ArrayOrReal{T<:Real} = Union(Array{T},Real)\" instead.\n",
      "\n",
      "WARNING: deprecated syntax \"typealias ArrayOrReal{T<:Real} Union{Array{T},Real}\" at /home/german/.julia/v0.6/ROCAnalysis/src/roctypes.jl:56.\n",
      "Use \"ArrayOrReal{T<:Real} = Union{Array{T},Real}\" instead.\n",
      "\n",
      "WARNING: deprecated syntax \"inner constructor DCF(...) around /home/german/.julia/v0.6/ROCAnalysis/src/roctypes.jl:44\".\n",
      "Use \"DCF{PTT,CFT,CMT}(...) where {PTT,CFT,CMT}\" instead.\n"
     ]
    },
    {
     "data": {
      "text/html": [
       "277"
      ],
      "text/plain": [
       "277"
      ]
     },
     "execution_count": 1,
     "metadata": {},
     "output_type": "execute_result"
    }
   ],
   "source": [
    "using DataFrames\n",
    "using Chemfiles\n",
    "using MIToS.PDB\n",
    "using Gadfly\n",
    "using Cairo\n",
    "using Compose\n",
    "set_default_plot_size(40cm, 14cm)\n",
    "\n",
    "home = \"/home/german/labo/18/egfr/cavidad\"\n",
    "home_modos = \"/home/german/labo/18/egfr/modos\"\n",
    "home_rtdos = \"/home/german/labo/18/egfr/rtdos_log\"\n",
    "aa = 277"
   ]
  },
  {
   "cell_type": "code",
   "execution_count": 2,
   "metadata": {},
   "outputs": [
    {
     "data": {
      "text/plain": [
       "tognm (generic function with 1 method)"
      ]
     },
     "execution_count": 2,
     "metadata": {},
     "output_type": "execute_result"
    }
   ],
   "source": [
    "function tognm(vtor_anm)\n",
    "    vtor_gnm = Array{Float64}(convert(Int64, length(vtor_anm)/3));\n",
    "    vtor_anm =  vtor_anm.^2\n",
    "    for i=1:convert(Int64, length(vtor_anm)/3)\n",
    "        vtor_gnm[i] = sqrt(vtor_anm[i*3-2] + vtor_anm[i*3-1] + vtor_anm[i*3])\n",
    "    end\n",
    "    return vtor_gnm\n",
    "end"
   ]
  },
  {
   "cell_type": "code",
   "execution_count": 3,
   "metadata": {},
   "outputs": [
    {
     "data": {
      "text/plain": [
       "WeightedHist (generic function with 2 methods)"
      ]
     },
     "execution_count": 3,
     "metadata": {},
     "output_type": "execute_result"
    }
   ],
   "source": [
    "function WeightedHist(in_vec, in_bins, in_weight, density = false)\n",
    "    # Safety check    \n",
    "    if length(in_vec) != length(in_weight)\n",
    "        println(\"Each element of the input vector needs one weight\")\n",
    "        return\n",
    "    end\n",
    "    \n",
    "    # Prepare variables\n",
    "    out_counts = Array{Float64}(length(in_bins)-1)\n",
    "    \n",
    "    # Get weighted histogram\n",
    "    for i=1:length(in_bins)-1\n",
    "        if i == 1\n",
    "            # Include those that fall before the beggining of the bins\n",
    "            temp_bool = (in_vec .>= in_bins[i]) .& (in_vec .< in_bins[i+1]) .| (in_vec .<= in_bins[i])\n",
    "            out_counts[i] = sum(in_weight[temp_bool])\n",
    "        elseif i == length(in_bins)-1\n",
    "            # Include those that fall after the end of the bins\n",
    "            temp_bool = (in_vec .>= in_bins[i]) .& (in_vec .< in_bins[i+1]) .| (in_vec .>= in_bins[end])\n",
    "            out_counts[i] = sum(in_weight[temp_bool])\n",
    "        else\n",
    "            temp_bool = (in_vec .>= in_bins[i]) .& (in_vec .< in_bins[i+1])\n",
    "            out_counts[i] = sum(in_weight[temp_bool])\n",
    "        end\n",
    "    end\n",
    "    \n",
    "    # Get bins middle points\n",
    "    out_middle = (in_bins[1:end-1] + in_bins[2:end]) / 2\n",
    "    \n",
    "    # Turn counts into density\n",
    "    if (density == true)\n",
    "        out_counts = out_counts ./ sum(out_counts) \n",
    "    end\n",
    "    return out_counts, out_middle\n",
    "end"
   ]
  },
  {
   "cell_type": "code",
   "execution_count": 4,
   "metadata": {},
   "outputs": [
    {
     "data": {
      "text/plain": [
       "displaceAA (generic function with 1 method)"
      ]
     },
     "execution_count": 4,
     "metadata": {},
     "output_type": "execute_result"
    }
   ],
   "source": [
    "function displaceAA(mod_pdb, in_vector, multiplier)\n",
    "    # Preparo variables\n",
    "    pdb = copy(mod_pdb)\n",
    "    struct_xyz = coordinatesmatrix(pdb)\n",
    "    new_struct_xyz = copy(struct_xyz)\n",
    "        aa = length(pdb)\n",
    "        # Determino el nro de atomos de c/ aminoácido\n",
    "        natom = Array{Int64}(aa)\n",
    "        [ natom[i] = length(pdb[i]) for i = 1:aa ]\n",
    "        # Adapto el vector p/ darle la misma forma q la matriz de coordenadas\n",
    "        vector = Array{Float64}\n",
    "        const tmp_size = size(in_vector)\n",
    "        const natoms = sum(natom)\n",
    "\n",
    "        if tmp_size == (aa*3, )\n",
    "                vector = transpose(reshape(in_vector, 3, aa))\n",
    "        elseif tmp_size == (aa, 3)\n",
    "                vector = in_vector\n",
    "        else\n",
    "                error(\"Input vector with wrong dimensions: \", tmp_size, \"  \", (aa*3, 1))\n",
    "        end\n",
    "        sum_mat = Array{Float64}(sum(natom),3)\n",
    "        cursor = 0\n",
    "        for i = 1:aa\n",
    "                rango = Array{Int64}(natom[i])\n",
    "        if i == 1\n",
    "                        sum_mat[1:natom[i], :] = repmat(transpose(vector[i, :]),\n",
    "                                natom[i], 1)\n",
    "                        cursor = natom[i]\n",
    "                        continue\n",
    "                end\n",
    "                rango = collect(cursor+1:cursor + natom[i])\n",
    "                sum_mat[rango, :] = repmat(transpose(vector[i, :]), natom[i], 1)\n",
    "                cursor += natom[i]\n",
    "        end\n",
    "\n",
    "   # Listo, ahora puedo mover el pdb\n",
    "   new_struct_xyz  = struct_xyz + sum_mat .* multiplier\n",
    "   pdb = change_coordinates(pdb, new_struct_xyz);\n",
    "   return pdb\n",
    "end"
   ]
  },
  {
   "cell_type": "markdown",
   "metadata": {},
   "source": [
    "# Obtengo Bfators"
   ]
  },
  {
   "cell_type": "code",
   "execution_count": 6,
   "metadata": {},
   "outputs": [
    {
     "data": {
      "text/plain": [
       "\"/home/german/labo/18/egfr/cavidad/egfr.cfg\""
      ]
     },
     "execution_count": 6,
     "metadata": {},
     "output_type": "execute_result"
    }
   ],
   "source": [
    "# Leo nombres de structuras\n",
    "tmp = readdlm(joinpath(home, \"pdbs.list\"))\n",
    "pdbs_list = convert(Array{String, 1}, reshape(tmp, length(tmp)));\n",
    "aa = 277\n",
    "aa_3 = aa * 3\n",
    "aa_36 = aa_3 - 6\n",
    "structs = length(pdbs_list)\n",
    "\n",
    "# Leo activas e inactivas\n",
    "tmp = readdlm(joinpath(home, \"am.list\"))\n",
    "am_list = convert(Array{String, 1}, reshape(tmp, length(tmp)));\n",
    "\n",
    "tmp = readdlm(joinpath(home, \"im.list\"))\n",
    "im_list = convert(Array{String, 1}, reshape(tmp, length(tmp)));\n",
    "\n",
    "cfg_filename = joinpath(home, \"egfr.cfg\")"
   ]
  },
  {
   "cell_type": "markdown",
   "metadata": {},
   "source": [
    "### Leo modos y frecuencias"
   ]
  },
  {
   "cell_type": "code",
   "execution_count": 21,
   "metadata": {},
   "outputs": [],
   "source": [
    "proto_teo_bfactors = Array{Array{Float64, 1}}(length(pdbs_list))\n",
    "modos = Array{Array{Float64, 2}}(length(pdbs_list))\n",
    "freqs = Array{Array{Float64, 1}}(length(pdbs_list))\n",
    "\n",
    "for i = 1:length(pdbs_list)\n",
    "    each = pdbs_list[i]\n",
    "    modos[i] = readdlm(joinpath(home_modos, each, string(\"modos_\", each)))\n",
    "    freqs[i] = convert(Array{Float64}, readdlm(joinpath(home_modos, each, string(\"freq_\", each)))[8:end, 1])\n",
    "\n",
    "end"
   ]
  },
  {
   "cell_type": "markdown",
   "metadata": {},
   "source": [
    "### Obtengo Bfactors teóricos"
   ]
  },
  {
   "cell_type": "code",
   "execution_count": 29,
   "metadata": {},
   "outputs": [
    {
     "data": {
      "text/plain": [
       "831×1 Array{Float64,2}:\n",
       " 178.585 \n",
       " 110.313 \n",
       "  49.4086\n",
       "  86.8141\n",
       "  85.4585\n",
       "  57.8547\n",
       " 101.472 \n",
       "  71.9284\n",
       "  77.9335\n",
       "  90.2357\n",
       " 189.578 \n",
       " 114.202 \n",
       " 103.084 \n",
       "   ⋮     \n",
       "  34.6585\n",
       " 115.892 \n",
       " 103.466 \n",
       "  67.7123\n",
       " 112.817 \n",
       "  94.7746\n",
       "  46.2714\n",
       "  61.0024\n",
       "  69.6327\n",
       "  45.4481\n",
       "  50.6372\n",
       "  68.4962"
      ]
     },
     "execution_count": 29,
     "metadata": {},
     "output_type": "execute_result"
    }
   ],
   "source": [
    "mapslices(x -> sum(x), modos[i] .^ 2 * diagm(1 ./ freqs[i]), 2)"
   ]
  },
  {
   "cell_type": "code",
   "execution_count": 27,
   "metadata": {},
   "outputs": [
    {
     "data": {
      "text/plain": [
       "825×825 Array{Float64,2}:\n",
       " 41892.7      0.0     0.0      0.0   …  0.0       0.0        0.0     \n",
       "     0.0  12367.1     0.0      0.0      0.0       0.0        0.0     \n",
       "     0.0      0.0  6784.29     0.0      0.0       0.0        0.0     \n",
       "     0.0      0.0     0.0   4623.88     0.0       0.0        0.0     \n",
       "     0.0      0.0     0.0      0.0      0.0       0.0        0.0     \n",
       "     0.0      0.0     0.0      0.0   …  0.0       0.0        0.0     \n",
       "     0.0      0.0     0.0      0.0      0.0       0.0        0.0     \n",
       "     0.0      0.0     0.0      0.0      0.0       0.0        0.0     \n",
       "     0.0      0.0     0.0      0.0      0.0       0.0        0.0     \n",
       "     0.0      0.0     0.0      0.0      0.0       0.0        0.0     \n",
       "     0.0      0.0     0.0      0.0   …  0.0       0.0        0.0     \n",
       "     0.0      0.0     0.0      0.0      0.0       0.0        0.0     \n",
       "     0.0      0.0     0.0      0.0      0.0       0.0        0.0     \n",
       "     ⋮                               ⋱                               \n",
       "     0.0      0.0     0.0      0.0      0.0       0.0        0.0     \n",
       "     0.0      0.0     0.0      0.0      0.0       0.0        0.0     \n",
       "     0.0      0.0     0.0      0.0   …  0.0       0.0        0.0     \n",
       "     0.0      0.0     0.0      0.0      0.0       0.0        0.0     \n",
       "     0.0      0.0     0.0      0.0      0.0       0.0        0.0     \n",
       "     0.0      0.0     0.0      0.0      0.0       0.0        0.0     \n",
       "     0.0      0.0     0.0      0.0      0.0       0.0        0.0     \n",
       "     0.0      0.0     0.0      0.0   …  0.0       0.0        0.0     \n",
       "     0.0      0.0     0.0      0.0      0.0       0.0        0.0     \n",
       "     0.0      0.0     0.0      0.0      0.031388  0.0        0.0     \n",
       "     0.0      0.0     0.0      0.0      0.0       0.0310383  0.0     \n",
       "     0.0      0.0     0.0      0.0      0.0       0.0        0.029909"
      ]
     },
     "execution_count": 27,
     "metadata": {},
     "output_type": "execute_result"
    }
   ],
   "source": []
  }
 ],
 "metadata": {
  "kernelspec": {
   "display_name": "Julia 0.6.0",
   "language": "julia",
   "name": "julia-0.6"
  },
  "language_info": {
   "file_extension": ".jl",
   "mimetype": "application/julia",
   "name": "julia",
   "version": "0.6.0"
  }
 },
 "nbformat": 4,
 "nbformat_minor": 2
}
