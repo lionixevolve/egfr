{
 "cells": [
  {
   "cell_type": "code",
   "execution_count": 82,
   "metadata": {},
   "outputs": [
    {
     "data": {
      "text/html": [
       "277"
      ],
      "text/plain": [
       "277"
      ]
     },
     "execution_count": 82,
     "metadata": {},
     "output_type": "execute_result"
    }
   ],
   "source": [
    "using DataFrames\n",
    "using Chemfiles\n",
    "using MIToS.PDB\n",
    "using Gadfly\n",
    "using Cairo\n",
    "using Compose\n",
    "set_default_plot_size(40cm, 14cm)\n",
    "\n",
    "home = \"/home/german/labo/18/egfr/1cavidad\"\n",
    "home_modos = \"/home/german/labo/18/egfr/modos\"\n",
    "home_rtdos = \"/home/german/labo/18/egfr/rtdos_log\"\n",
    "aa = 277"
   ]
  },
  {
   "cell_type": "code",
   "execution_count": 83,
   "metadata": {},
   "outputs": [
    {
     "data": {
      "text/plain": [
       "to3 (generic function with 3 methods)"
      ]
     },
     "execution_count": 83,
     "metadata": {},
     "output_type": "execute_result"
    }
   ],
   "source": [
    "function to3(in_v::Array{Real, 1})\n",
    "    return repeat(in_v .* 3, inner = [3]) .+ repeat([-2 ; -1 ; 0], outer = [length(in_v)])\n",
    "end\n",
    "\n",
    "function to3(in_v::Array{Int64, 1})\n",
    "    return repeat(in_v .* 3, inner = [3]) .+ repeat([-2 ; -1 ; 0], outer = [length(in_v)])\n",
    "end"
   ]
  },
  {
   "cell_type": "code",
   "execution_count": 2,
   "metadata": {},
   "outputs": [
    {
     "data": {
      "text/plain": [
       "tognm (generic function with 1 method)"
      ]
     },
     "execution_count": 2,
     "metadata": {},
     "output_type": "execute_result"
    }
   ],
   "source": [
    "function tognm(vtor_anm)\n",
    "    vtor_gnm = Array{Float64}(convert(Int64, length(vtor_anm)/3));\n",
    "    vtor_anm =  vtor_anm.^2\n",
    "    for i=1:convert(Int64, length(vtor_anm)/3)\n",
    "        vtor_gnm[i] = sqrt(vtor_anm[i*3-2] + vtor_anm[i*3-1] + vtor_anm[i*3])\n",
    "    end\n",
    "    return vtor_gnm\n",
    "end"
   ]
  },
  {
   "cell_type": "code",
   "execution_count": 3,
   "metadata": {},
   "outputs": [
    {
     "data": {
      "text/plain": [
       "WeightedHist (generic function with 2 methods)"
      ]
     },
     "execution_count": 3,
     "metadata": {},
     "output_type": "execute_result"
    }
   ],
   "source": [
    "function WeightedHist(in_vec, in_bins, in_weight, density = false)\n",
    "    # Safety check    \n",
    "    if length(in_vec) != length(in_weight)\n",
    "        println(\"Each element of the input vector needs one weight\")\n",
    "        return\n",
    "    end\n",
    "    \n",
    "    # Prepare variables\n",
    "    out_counts = Array{Float64}(length(in_bins)-1)\n",
    "    \n",
    "    # Get weighted histogram\n",
    "    for i=1:length(in_bins)-1\n",
    "        if i == 1\n",
    "            # Include those that fall before the beggining of the bins\n",
    "            temp_bool = (in_vec .>= in_bins[i]) .& (in_vec .< in_bins[i+1]) .| (in_vec .<= in_bins[i])\n",
    "            out_counts[i] = sum(in_weight[temp_bool])\n",
    "        elseif i == length(in_bins)-1\n",
    "            # Include those that fall after the end of the bins\n",
    "            temp_bool = (in_vec .>= in_bins[i]) .& (in_vec .< in_bins[i+1]) .| (in_vec .>= in_bins[end])\n",
    "            out_counts[i] = sum(in_weight[temp_bool])\n",
    "        else\n",
    "            temp_bool = (in_vec .>= in_bins[i]) .& (in_vec .< in_bins[i+1])\n",
    "            out_counts[i] = sum(in_weight[temp_bool])\n",
    "        end\n",
    "    end\n",
    "    \n",
    "    # Get bins middle points\n",
    "    out_middle = (in_bins[1:end-1] + in_bins[2:end]) / 2\n",
    "    \n",
    "    # Turn counts into density\n",
    "    if (density == true)\n",
    "        out_counts = out_counts ./ sum(out_counts) \n",
    "    end\n",
    "    return out_counts, out_middle\n",
    "end"
   ]
  },
  {
   "cell_type": "code",
   "execution_count": 4,
   "metadata": {},
   "outputs": [
    {
     "data": {
      "text/plain": [
       "displaceAA (generic function with 1 method)"
      ]
     },
     "execution_count": 4,
     "metadata": {},
     "output_type": "execute_result"
    }
   ],
   "source": [
    "function displaceAA(mod_pdb, in_vector, multiplier)\n",
    "    # Preparo variables\n",
    "    pdb = copy(mod_pdb)\n",
    "    struct_xyz = coordinatesmatrix(pdb)\n",
    "    new_struct_xyz = copy(struct_xyz)\n",
    "        aa = length(pdb)\n",
    "        # Determino el nro de atomos de c/ aminoácido\n",
    "        natom = Array{Int64}(aa)\n",
    "        [ natom[i] = length(pdb[i]) for i = 1:aa ]\n",
    "        # Adapto el vector p/ darle la misma forma q la matriz de coordenadas\n",
    "        vector = Array{Float64}\n",
    "        const tmp_size = size(in_vector)\n",
    "        const natoms = sum(natom)\n",
    "\n",
    "        if tmp_size == (aa*3, )\n",
    "                vector = transpose(reshape(in_vector, 3, aa))\n",
    "        elseif tmp_size == (aa, 3)\n",
    "                vector = in_vector\n",
    "        else\n",
    "                error(\"Input vector with wrong dimensions: \", tmp_size, \"  \", (aa*3, 1))\n",
    "        end\n",
    "        sum_mat = Array{Float64}(sum(natom),3)\n",
    "        cursor = 0\n",
    "        for i = 1:aa\n",
    "                rango = Array{Int64}(natom[i])\n",
    "        if i == 1\n",
    "                        sum_mat[1:natom[i], :] = repmat(transpose(vector[i, :]),\n",
    "                                natom[i], 1)\n",
    "                        cursor = natom[i]\n",
    "                        continue\n",
    "                end\n",
    "                rango = collect(cursor+1:cursor + natom[i])\n",
    "                sum_mat[rango, :] = repmat(transpose(vector[i, :]), natom[i], 1)\n",
    "                cursor += natom[i]\n",
    "        end\n",
    "\n",
    "   # Listo, ahora puedo mover el pdb\n",
    "   new_struct_xyz  = struct_xyz + sum_mat .* multiplier\n",
    "   pdb = change_coordinates(pdb, new_struct_xyz);\n",
    "   return pdb\n",
    "end"
   ]
  },
  {
   "cell_type": "markdown",
   "metadata": {},
   "source": [
    "# Obtengo Bfators"
   ]
  },
  {
   "cell_type": "code",
   "execution_count": 6,
   "metadata": {},
   "outputs": [
    {
     "data": {
      "text/plain": [
       "\"/home/german/labo/18/egfr/cavidad/egfr.cfg\""
      ]
     },
     "execution_count": 6,
     "metadata": {},
     "output_type": "execute_result"
    }
   ],
   "source": [
    "# Leo nombres de structuras\n",
    "tmp = readdlm(joinpath(home, \"pdbs.list\"))\n",
    "pdbs_list = convert(Array{String, 1}, reshape(tmp, length(tmp)));\n",
    "aa = 277\n",
    "aa_3 = aa * 3\n",
    "aa_36 = aa_3 - 6\n",
    "n_pdbs = length(pdbs_list)\n",
    "\n",
    "# Leo activas e inactivas\n",
    "tmp = readdlm(joinpath(home, \"am.list\"))\n",
    "am_list = convert(Array{String, 1}, reshape(tmp, length(tmp)));\n",
    "\n",
    "tmp = readdlm(joinpath(home, \"im.list\"))\n",
    "im_list = convert(Array{String, 1}, reshape(tmp, length(tmp)));\n",
    "\n",
    "cfg_filename = joinpath(home, \"egfr.cfg\")"
   ]
  },
  {
   "cell_type": "markdown",
   "metadata": {},
   "source": [
    "### Leo modos y frecuencias. También leo Bfactors experimentales y los índices de los residuos nonmissing"
   ]
  },
  {
   "cell_type": "code",
   "execution_count": 43,
   "metadata": {
    "collapsed": true
   },
   "outputs": [],
   "source": [
    "proto_teo_bfactors = Array{Array{Float64, 1}}(n_pdbs)\n",
    "modos = Array{Array{Float64, 2}}(n_pdbs)\n",
    "freqs = Array{Array{Float64, 1}}(n_pdbs)\n",
    "bf_exps = Array{Array{Float64, 1}}(n_pdbs)\n",
    "nonmissings = Array{Array{Int64, 1}}(n_pdbs)\n",
    "nonmissings_3 = Array{Array{Int64, 1}}(n_pdbs)\n",
    "\n",
    "for i = 1:n_pdbs\n",
    "    each = pdbs_list[i]\n",
    "    modos[i] = readdlm(joinpath(home_modos, each, string(\"modos_\", each)))\n",
    "    freqs[i] = convert(Array{Float64}, readdlm(joinpath(home_modos, each, string(\"freq_\", each)))[8:end, 1])\n",
    "\n",
    "    bf_exps[i] = readdlm(joinpath(home_modos, each, string(\"exp_bf_\", each)))[:, 1]\n",
    "    nonmissings[i] = convert(Array{Int64}, readdlm(joinpath(home_modos, each, string(\"nonmissing_\", each)))[:, 1])\n",
    "end"
   ]
  },
  {
   "cell_type": "markdown",
   "metadata": {},
   "source": [
    "### Obtengo Bfactors teóricos. Obtengo βs."
   ]
  },
  {
   "cell_type": "code",
   "execution_count": 119,
   "metadata": {
    "collapsed": true
   },
   "outputs": [],
   "source": [
    "bf_teos = Array{Array{Float64, 1}}(n_pdbs)\n",
    "\n",
    "for i = 1:n_pdbs\n",
    "    tmp = mapslices(x -> sum(x), modos[i] .^ 2 * diagm(1 ./ freqs[i]), 2)[:, 1]\n",
    "    bf_teos[i] = [ tmp[j] + tmp[j+1] + tmp[j+2] for j = 1:3:length(tmp) ]\n",
    "end\n",
    "\n",
    "β = Array{Float64, 1}(n_pdbs)\n",
    "\n",
    "for i = 1:n_pdbs\n",
    "    β[i] = sum(bf_exps[i]) / sum(bf_teos[i][nonmissings[i]])\n",
    "end"
   ]
  },
  {
   "cell_type": "markdown",
   "metadata": {},
   "source": [
    "### Finalmente, obtengo las amplitudes de los modos"
   ]
  },
  {
   "cell_type": "code",
   "execution_count": 141,
   "metadata": {},
   "outputs": [],
   "source": [
    "amps = Array{Array{Float64, 1}}(n_pdbs)\n",
    "for j = 1:n_pdbs\n",
    "    amps[j] = β[j] .* 1 ./ (4 .* pi .* freqs[j])\n",
    "end"
   ]
  },
  {
   "cell_type": "code",
   "execution_count": 144,
   "metadata": {},
   "outputs": [
    {
     "data": {
      "text/plain": [
       "825-element Array{Float64,1}:\n",
       " 227.068      \n",
       " 131.339      \n",
       "  65.8074     \n",
       "  50.4649     \n",
       "  47.0872     \n",
       "  36.1815     \n",
       "  27.6694     \n",
       "  23.6741     \n",
       "  22.9818     \n",
       "  21.8568     \n",
       "  20.8011     \n",
       "  19.4189     \n",
       "  18.5506     \n",
       "   ⋮          \n",
       "   0.000629534\n",
       "   0.000627359\n",
       "   0.000623193\n",
       "   0.000616446\n",
       "   0.00060711 \n",
       "   0.000605416\n",
       "   0.000604904\n",
       "   0.000604515\n",
       "   0.000591666\n",
       "   0.00058249 \n",
       "   0.000578466\n",
       "   0.000575404"
      ]
     },
     "execution_count": 144,
     "metadata": {},
     "output_type": "execute_result"
    }
   ],
   "source": [
    "amps[2]"
   ]
  }
 ],
 "metadata": {
  "kernelspec": {
   "display_name": "Julia 0.6.0",
   "language": "julia",
   "name": "julia-0.6"
  },
  "language_info": {
   "file_extension": ".jl",
   "mimetype": "application/julia",
   "name": "julia",
   "version": "0.6.0"
  }
 },
 "nbformat": 4,
 "nbformat_minor": 2
}
