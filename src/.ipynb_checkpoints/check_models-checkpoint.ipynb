{
 "cells": [
  {
   "cell_type": "code",
   "execution_count": 1,
   "metadata": {},
   "outputs": [
    {
     "name": "stderr",
     "output_type": "stream",
     "text": [
      "WARNING: Method definition midpoints(Base.Range{T} where T) in module Base at deprecated.jl:56 overwritten in module StatsBase at /home/german/.julia/v0.6/StatsBase/src/hist.jl:535.\n",
      "WARNING: Method definition midpoints(AbstractArray{T, 1} where T) in module Base at deprecated.jl:56 overwritten in module StatsBase at /home/german/.julia/v0.6/StatsBase/src/hist.jl:533.\n"
     ]
    },
    {
     "data": {
      "text/plain": [
       "\"/home/german/labo/18/egfr/model/\""
      ]
     },
     "execution_count": 1,
     "metadata": {},
     "output_type": "execute_result"
    }
   ],
   "source": [
    "using DataFrames\n",
    "using Chemfiles\n",
    "\n",
    "home = \"/home/german/labo/18/egfr/model/\""
   ]
  },
  {
   "cell_type": "markdown",
   "metadata": {},
   "source": [
    "# Escribo el script p/ evaluar modelos"
   ]
  },
  {
   "cell_type": "code",
   "execution_count": 10,
   "metadata": {
    "scrolled": true
   },
   "outputs": [
    {
     "name": "stdout",
     "output_type": "stream",
     "text": [
      "1M14_A\n",
      "1M17_A\n",
      "1XKK_A\n",
      "2EB2_A\n",
      "2GS2_A\n",
      "2GS6_A\n",
      "2GS7_A\n",
      "2ITN_A\n",
      "2ITP_A\n",
      "2ITU_A\n",
      "2ITX_A\n",
      "2ITZ_A\n",
      "2J5F_A\n",
      "2RGP_A\n",
      "3BEL_A\n",
      "3GOP_A\n",
      "3GT8_A\n",
      "3GT8_C\n",
      "3IKA_A\n",
      "3IKA_B\n",
      "3LZB_A\n",
      "3UG1_A\n",
      "3VJN_A\n",
      "3W2O_A\n",
      "3W2R_A\n",
      "3W2S_A\n",
      "3W32_A\n",
      "3W33_A\n",
      "4G5J_A\n",
      "4I1Z_A\n",
      "4I22_A\n",
      "4I23_A\n",
      "4I24_A\n",
      "4LI5_A\n",
      "4LQM_A\n",
      "4R3P_A\n",
      "4R5S_A\n",
      "4RJ4_A\n",
      "4ZAU_A\n",
      "4ZJV_A\n",
      "5C8K_A\n",
      "5CAO_A\n",
      "5CAP_A\n",
      "5CAV_A\n",
      "5CNN_A\n",
      "5CNN_B\n",
      "5CNO_A\n",
      "5CZH_A\n",
      "5EDP_A\n",
      "5EM5_A\n",
      "5EM6_A\n",
      "5EM7_A\n",
      "5EM8_A\n",
      "5HG5_A\n",
      "5HG7_A\n",
      "5HG8_A\n",
      "5HIB_A\n",
      "5HIC_A\n"
     ]
    }
   ],
   "source": [
    "tmp = readdlm(string(home, \"/pdbs.list\"))\n",
    "pdbs_list = convert(Array{String, 1}, reshape(tmp, length(tmp)))\n",
    "\n",
    "for each in pdbs_list\n",
    "\n",
    "    println(each)\n",
    "\n",
    "    for x = 1:50\n",
    "        modelo = String\n",
    "        if x < 10\n",
    "            modelo = string(each, \"_full.B9999000\", x, \".pdb\")\n",
    "        else\n",
    "            modelo = string(each, \"_full.B999900\", x, \".pdb\")\n",
    "        end\n",
    "\n",
    "        perfil = string(\"profile_\", modelo[1:end-4])\n",
    "        script_filename = string(home, each, \"/script_eval_\", each, \"_\", x, \".py\")\n",
    "\n",
    "        open(script_filename, \"w\") do script_file\n",
    "            write(script_file, \"from modeller import *\\n\")\n",
    "            write(script_file, \"from modeller.scripts import complete_pdb\\n\")\n",
    "            write(script_file, \"\\n\")\n",
    "            write(script_file, \"log.verbose()    # request verbose output\\n\")\n",
    "            write(script_file, \"env = environ()\\n\")\n",
    "            write(script_file, \"env.libs.topology.read(file='\\$(LIB)/top_heav.lib') # read topology\\n\")\n",
    "            write(script_file, \"env.libs.parameters.read(file='\\$(LIB)/par.lib') # read parameters\\n\")\n",
    "            write(script_file, \"\\n\")\n",
    "            write(script_file, \"# read model file\\n\")\n",
    "            write(script_file, \"mdl = complete_pdb(env, '$modelo')\\n\")\n",
    "            write(script_file, \"\\n\")\n",
    "            write(script_file, \"# Assess with DOPE:\\n\")\n",
    "            write(script_file, \"s = selection(mdl)   # all atom selection\\n\")\n",
    "            write(script_file, \"s.assess_dope(output='ENERGY_PROFILE NO_REPORT', file='$perfil',\\n\")\n",
    "            write(script_file, \"              normalize_profile=True, smoothing_window=15)\\n\")\n",
    "        end\n",
    "    end\n",
    "end"
   ]
  },
  {
   "cell_type": "code",
   "execution_count": 3,
   "metadata": {},
   "outputs": [
    {
     "data": {
      "text/plain": [
       "String"
      ]
     },
     "execution_count": 3,
     "metadata": {},
     "output_type": "execute_result"
    }
   ],
   "source": [
    "x = 5\n",
    "typeof(string(x))"
   ]
  },
  {
   "cell_type": "code",
   "execution_count": null,
   "metadata": {
    "collapsed": true
   },
   "outputs": [],
   "source": []
  },
  {
   "cell_type": "code",
   "execution_count": null,
   "metadata": {
    "collapsed": true
   },
   "outputs": [],
   "source": []
  },
  {
   "cell_type": "code",
   "execution_count": null,
   "metadata": {
    "collapsed": true
   },
   "outputs": [],
   "source": []
  },
  {
   "cell_type": "code",
   "execution_count": null,
   "metadata": {
    "collapsed": true
   },
   "outputs": [],
   "source": []
  }
 ],
 "metadata": {
  "kernelspec": {
   "display_name": "Julia 0.6.0",
   "language": "julia",
   "name": "julia-0.6"
  },
  "language_info": {
   "file_extension": ".jl",
   "mimetype": "application/julia",
   "name": "julia",
   "version": "0.6.0"
  }
 },
 "nbformat": 4,
 "nbformat_minor": 2
}
