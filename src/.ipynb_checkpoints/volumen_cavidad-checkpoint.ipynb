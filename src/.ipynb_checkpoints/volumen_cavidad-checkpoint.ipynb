{
 "cells": [
  {
   "cell_type": "code",
   "execution_count": 1,
   "metadata": {},
   "outputs": [
    {
     "name": "stderr",
     "output_type": "stream",
     "text": [
      "\u001b[1m\u001b[36mINFO: \u001b[39m\u001b[22m\u001b[36mPrecompiling module Gadfly.\n",
      "\u001b[39mWARNING: could not import Juno.Hiccup into Gadfly\n"
     ]
    },
    {
     "data": {
      "text/html": [
       "277"
      ],
      "text/plain": [
       "277"
      ]
     },
     "execution_count": 1,
     "metadata": {},
     "output_type": "execute_result"
    }
   ],
   "source": [
    "using DataFrames\n",
    "using Chemfiles\n",
    "using MIToS.PDB\n",
    "using Gadfly\n",
    "using Cairo\n",
    "using Compose\n",
    "set_default_plot_size(40cm, 14cm)\n",
    "\n",
    "home = \"/home/german/labo/18/egfr/cavidad\"\n",
    "home_rtdos = \"/home/german/labo/18/egfr/rtdos_log\"\n",
    "aa = 277"
   ]
  },
  {
   "cell_type": "code",
   "execution_count": 2,
   "metadata": {},
   "outputs": [
    {
     "data": {
      "text/plain": [
       "tognm (generic function with 1 method)"
      ]
     },
     "execution_count": 2,
     "metadata": {},
     "output_type": "execute_result"
    }
   ],
   "source": [
    "function tognm(vtor_anm)\n",
    "    vtor_gnm = Array{Float64}(convert(Int64, length(vtor_anm)/3));\n",
    "    vtor_anm =  vtor_anm.^2\n",
    "    for i=1:convert(Int64, length(vtor_anm)/3)\n",
    "        vtor_gnm[i] = sqrt(vtor_anm[i*3-2] + vtor_anm[i*3-1] + vtor_anm[i*3])\n",
    "    end\n",
    "    return vtor_gnm\n",
    "end"
   ]
  },
  {
   "cell_type": "code",
   "execution_count": 3,
   "metadata": {},
   "outputs": [
    {
     "data": {
      "text/plain": [
       "WeightedHist (generic function with 2 methods)"
      ]
     },
     "execution_count": 3,
     "metadata": {},
     "output_type": "execute_result"
    }
   ],
   "source": [
    "function WeightedHist(in_vec, in_bins, in_weight, density = false)\n",
    "    # Safety check    \n",
    "    if length(in_vec) != length(in_weight)\n",
    "        println(\"Each element of the input vector needs one weight\")\n",
    "        return\n",
    "    end\n",
    "    \n",
    "    # Prepare variables\n",
    "    out_counts = Array{Float64}(length(in_bins)-1)\n",
    "    \n",
    "    # Get weighted histogram\n",
    "    for i=1:length(in_bins)-1\n",
    "        if i == 1\n",
    "            # Include those that fall before the beggining of the bins\n",
    "            temp_bool = (in_vec .>= in_bins[i]) .& (in_vec .< in_bins[i+1]) .| (in_vec .<= in_bins[i])\n",
    "            out_counts[i] = sum(in_weight[temp_bool])\n",
    "        elseif i == length(in_bins)-1\n",
    "            # Include those that fall after the end of the bins\n",
    "            temp_bool = (in_vec .>= in_bins[i]) .& (in_vec .< in_bins[i+1]) .| (in_vec .>= in_bins[end])\n",
    "            out_counts[i] = sum(in_weight[temp_bool])\n",
    "        else\n",
    "            temp_bool = (in_vec .>= in_bins[i]) .& (in_vec .< in_bins[i+1])\n",
    "            out_counts[i] = sum(in_weight[temp_bool])\n",
    "        end\n",
    "    end\n",
    "    \n",
    "    # Get bins middle points\n",
    "    out_middle = (in_bins[1:end-1] + in_bins[2:end]) / 2\n",
    "    \n",
    "    # Turn counts into density\n",
    "    if (density == true)\n",
    "        out_counts = out_counts ./ sum(out_counts) \n",
    "    end\n",
    "    return out_counts, out_middle\n",
    "end"
   ]
  },
  {
   "cell_type": "code",
   "execution_count": 23,
   "metadata": {},
   "outputs": [
    {
     "data": {
      "text/plain": [
       "displaceAA (generic function with 1 method)"
      ]
     },
     "execution_count": 23,
     "metadata": {},
     "output_type": "execute_result"
    }
   ],
   "source": [
    "function displaceAA(mod_pdb, in_vector, multiplier)\n",
    "    # Preparo variables\n",
    "    pdb = copy(mod_pdb)\n",
    "    struct_xyz = coordinatesmatrix(pdb)\n",
    "    new_struct_xyz = copy(struct_xyz)\n",
    "        aa = length(pdb)\n",
    "        # Determino el nro de atomos de c/ aminoácido\n",
    "        natom = Array{Int64}(aa)\n",
    "        [ natom[i] = length(pdb[i]) for i = 1:aa ]\n",
    "        # Adapto el vector p/ darle la misma forma q la matriz de coordenadas\n",
    "        vector = Array{Float64}\n",
    "        const tmp_size = size(in_vector)\n",
    "        const natoms = sum(natom)\n",
    "\n",
    "        if tmp_size == (aa*3, )\n",
    "                vector = transpose(reshape(in_vector, 3, aa))\n",
    "        elseif tmp_size == (aa, 3)\n",
    "                vector = in_vector\n",
    "        else\n",
    "                error(\"Input vector with wrong dimensions: \", tmp_size, \"  \", (aa*3, 1))\n",
    "        end\n",
    "        sum_mat = Array{Float64}(sum(natom),3)\n",
    "        cursor = 0\n",
    "        for i = 1:aa\n",
    "                rango = Array{Int64}(natom[i])\n",
    "        if i == 1\n",
    "                        sum_mat[1:natom[i], :] = repmat(transpose(vector[i, :]),\n",
    "                                natom[i], 1)\n",
    "                        cursor = natom[i]\n",
    "                        continue\n",
    "                end\n",
    "                rango = collect(cursor+1:cursor + natom[i])\n",
    "                sum_mat[rango, :] = repmat(transpose(vector[i, :]), natom[i], 1)\n",
    "                cursor += natom[i]\n",
    "        end\n",
    "\n",
    "   # Listo, ahora puedo mover el pdb\n",
    "   new_struct_xyz  = struct_xyz + sum_mat .* multiplier\n",
    "   pdb = change_coordinates(pdb, new_struct_xyz);\n",
    "   return pdb\n",
    "end"
   ]
  },
  {
   "cell_type": "markdown",
   "metadata": {},
   "source": [
    "# Cavidad"
   ]
  },
  {
   "cell_type": "code",
   "execution_count": 38,
   "metadata": {},
   "outputs": [
    {
     "data": {
      "text/plain": [
       "\"/home/german/labo/18/egfr/cavidad/egfr.cfg\""
      ]
     },
     "execution_count": 38,
     "metadata": {},
     "output_type": "execute_result"
    }
   ],
   "source": [
    "# Leo nombres de structuras\n",
    "tmp = readdlm(joinpath(home, \"pdbs.list\"))\n",
    "pdbs_list = convert(Array{String, 1}, reshape(tmp, length(tmp)));\n",
    "aa = 277\n",
    "aa_3 = aa * 3\n",
    "aa_36 = aa_3 - 6\n",
    "structs = length(pdbs_list)\n",
    "\n",
    "# Leo activas e inactivas\n",
    "tmp = readdlm(joinpath(home, \"am.list\"))\n",
    "am_list = convert(Array{String, 1}, reshape(tmp, length(tmp)));\n",
    "\n",
    "tmp = readdlm(joinpath(home, \"im.list\"))\n",
    "im_list = convert(Array{String, 1}, reshape(tmp, length(tmp)));\n",
    "\n",
    "cfg_filename = joinpath(home, \"egfr.cfg\")"
   ]
  },
  {
   "cell_type": "code",
   "execution_count": 80,
   "metadata": {},
   "outputs": [],
   "source": [
    "# Read PDB\n",
    "for each in pdbs_list\n",
    "    # Leo pdb\n",
    "    in_pdb_filename = string(each, \".pdb\")\n",
    "    in_pdb = read(joinpath(home, each, in_pdb_filename), PDBFile, group=\"ATOM\");\n",
    "\n",
    "    # Leo modo 1\n",
    "    in_vec1_filename = string(\"1modo_\", each)\n",
    "    tmp = readdlm(joinpath(home, each, in_vec1_filename))\n",
    "    modo_1 = reshape(tmp, length(tmp))\n",
    "\n",
    "    # Desplazo\n",
    "    out_pdb_1_neg = displaceAA(in_pdb, modo_1, -5.0)\n",
    "    out_pdb_1_pos = displaceAA(in_pdb, modo_1, 5.0)\n",
    "\n",
    "    # Guardo la struct modificada\n",
    "    out_filename_1_neg = string(\"_5_modo1_\", each, \".pdb\")\n",
    "    write(joinpath(home, each, out_filename_1_neg), out_pdb_1_neg, PDBFile)\n",
    "    out_filename_1_pos = string(\"5_modo1_\", each, \".pdb\")\n",
    "    write(joinpath(home, each, out_filename_1_pos), out_pdb_1_pos, PDBFile)\n",
    "\n",
    "\n",
    "    # Leo modo 2 y desplazo\n",
    "    in_vec2_filename = string(\"2modo_\", each)\n",
    "    tmp = readdlm(joinpath(home, each, in_vec2_filename))\n",
    "    modo_2 = reshape(tmp, length(tmp));\n",
    "\n",
    "    # Desplazo\n",
    "    out_pdb_2_neg = displaceAA(in_pdb, modo_2, -5.0)\n",
    "    out_pdb_2_pos = displaceAA(in_pdb, modo_2, 5.0)\n",
    "\n",
    "    # Guardo las struct modificadas\n",
    "    out_filename_2_neg = string(\"_5_modo2_\", each, \".pdb\")\n",
    "    write(joinpath(home, each, out_filename_2_neg), out_pdb_2_neg, PDBFile)\n",
    "    out_filename_2_pos = string(\"5_modo2_\", each, \".pdb\")\n",
    "    write(joinpath(home, each, out_filename_2_pos), out_pdb_2_pos, PDBFile)\n",
    "end"
   ]
  },
  {
   "cell_type": "code",
   "execution_count": 81,
   "metadata": {
    "scrolled": true
   },
   "outputs": [
    {
     "name": "stderr",
     "output_type": "stream",
     "text": [
      "Warning: sphere_sector_vol gave NaN value. Void calculation keeps going.\n",
      "Warning: sphere_sector_vol gave NaN value. Void calculation keeps going.\n",
      "Warning: sphere_sector_vol gave NaN value. Void calculation keeps going.\n",
      "Warning: sphere_sector_vol gave NaN value. Void calculation keeps going.\n",
      "Warning: sphere_sector_vol gave NaN value. Void calculation keeps going.\n",
      "Warning: sphere_sector_vol gave NaN value. Void calculation keeps going.\n",
      "Warning: sphere_sector_vol gave NaN value. Void calculation keeps going.\n",
      "Warning: sphere_sector_vol gave NaN value. Void calculation keeps going.\n",
      "Warning: sphere_sector_vol gave NaN value. Void calculation keeps going.\n",
      "Warning: sphere_sector_vol gave NaN value. Void calculation keeps going.\n",
      "Warning: sphere_sector_vol gave NaN value. Void calculation keeps going.\n",
      "Warning: sphere_sector_vol gave NaN value. Void calculation keeps going.\n",
      "Warning: sphere_sector_vol gave NaN value. Void calculation keeps going.\n",
      "Warning: sphere_sector_vol gave NaN value. Void calculation keeps going.\n",
      "Warning: sphere_sector_vol gave NaN value. Void calculation keeps going.\n",
      "Warning: sphere_sector_vol gave NaN value. Void calculation keeps going.\n",
      "Warning: sphere_sector_vol gave NaN value. Void calculation keeps going.\n",
      "Warning: sphere_sector_vol gave NaN value. Void calculation keeps going.\n",
      "Warning: sphere_sector_vol gave NaN value. Void calculation keeps going.\n",
      "Warning: sphere_sector_vol gave NaN value. Void calculation keeps going.\n",
      "Warning: sphere_sector_vol gave NaN value. Void calculation keeps going.\n",
      "Warning: sphere_sector_vol gave NaN value. Void calculation keeps going.\n",
      "terminate called after throwing an instance of 'std::runtime_error'\n",
      "  what():  Not possible to triangulate less than 4 points.\n"
     ]
    },
    {
     "ename": "LoadError",
     "evalue": "\u001b[91mfailed process: Process(`ANA /home/german/labo/18/egfr/cavidad/4I22_A/_5_modo1_4I22_A.pdb -c /home/german/labo/18/egfr/cavidad/egfr.cfg`, ProcessSignaled(6)) [0]\u001b[39m",
     "output_type": "error",
     "traceback": [
      "\u001b[91mfailed process: Process(`ANA /home/german/labo/18/egfr/cavidad/4I22_A/_5_modo1_4I22_A.pdb -c /home/german/labo/18/egfr/cavidad/egfr.cfg`, ProcessSignaled(6)) [0]\u001b[39m",
      "",
      "Stacktrace:",
      " [1] \u001b[1mpipeline_error\u001b[22m\u001b[22m\u001b[1m(\u001b[22m\u001b[22m::Base.Process\u001b[1m)\u001b[22m\u001b[22m at \u001b[1m./process.jl:682\u001b[22m\u001b[22m",
      " [2] \u001b[1mrun\u001b[22m\u001b[22m\u001b[1m(\u001b[22m\u001b[22m::Base.CmdRedirect\u001b[1m)\u001b[22m\u001b[22m at \u001b[1m./process.jl:651\u001b[22m\u001b[22m",
      " [3] \u001b[1mmacro expansion\u001b[22m\u001b[22m at \u001b[1m./In[81]:46\u001b[22m\u001b[22m [inlined]",
      " [4] \u001b[1manonymous\u001b[22m\u001b[22m at \u001b[1m./<missing>:?\u001b[22m\u001b[22m",
      " [5] \u001b[1minclude_string\u001b[22m\u001b[22m\u001b[1m(\u001b[22m\u001b[22m::String, ::String\u001b[1m)\u001b[22m\u001b[22m at \u001b[1m./loading.jl:515\u001b[22m\u001b[22m"
     ]
    }
   ],
   "source": [
    "# IM\n",
    "der_im_1 = Array{Float64}(length(im_list))\n",
    "der_im_2 = Array{Float64}(length(im_list))\n",
    "for i = 1:length(im_list)\n",
    "    each = pdbs_list[i]\n",
    "    in_pdb_filename_1_neg = joinpath(home, each, string(\"_5_modo1_\", each, \".pdb\"))\n",
    "    in_pdb_filename_1_pos = joinpath(home, each, string(\"5_modo1_\", each, \".pdb\"))\n",
    "    in_pdb_filename_2_neg = joinpath(home, each, string(\"_5_modo2_\", each, \".pdb\"))\n",
    "    in_pdb_filename_2_pos = joinpath(home, each, string(\"5_modo2_\", each, \".pdb\"))\n",
    "\n",
    "    out_filename_1_neg = joinpath(home, each, string(\"vol_1_5\"))\n",
    "    out_filename_1_pos = joinpath(home, each, string(\"vol_1__5\"))\n",
    "    out_filename_2_neg = joinpath(home, each, string(\"vol_2_5\"))\n",
    "    out_filename_2_pos = joinpath(home, each, string(\"vol_2__5\"))\n",
    "\n",
    "    run(pipeline(`ANA $in_pdb_filename_1_neg -c $cfg_filename`, stdout = out_filename_1_neg))\n",
    "    run(pipeline(`ANA $in_pdb_filename_1_pos -c $cfg_filename`, stdout = out_filename_1_pos))\n",
    "    run(pipeline(`ANA $in_pdb_filename_2_neg -c $cfg_filename`, stdout = out_filename_2_neg))\n",
    "    run(pipeline(`ANA $in_pdb_filename_2_pos -c $cfg_filename`, stdout = out_filename_2_pos))\n",
    "\n",
    "    vol_1__5 = readdlm(out_filename_1_neg)[end]\n",
    "    vol_1_5 = readdlm(out_filename_1_pos)[end]\n",
    "    vol_2__5 = readdlm(out_filename_2_neg)[end]\n",
    "    vol_2_5 = readdlm(out_filename_2_neg)[end]\n",
    "\n",
    "    der_im_1[i] = vol_1_5 - vol_1__5\n",
    "    der_im_2[i] = vol_2_5 - vol_2__5    \n",
    "end\n",
    "\n",
    "\n",
    "# AM\n",
    "der_am_1 = Array{Float64}(length(am_list))\n",
    "der_am_2 = Array{Float64}(length(am_list))\n",
    "for i = 1:length(am_list)\n",
    "    each = pdbs_list[i]\n",
    "    in_pdb_filename_1_neg = joinpath(home, each, string(\"_5_modo1_\", each, \".pdb\"))\n",
    "    in_pdb_filename_1_pos = joinpath(home, each, string(\"5_modo1_\", each, \".pdb\"))\n",
    "    in_pdb_filename_2_neg = joinpath(home, each, string(\"_5_modo2_\", each, \".pdb\"))\n",
    "    in_pdb_filename_2_pos = joinpath(home, each, string(\"5_modo2_\", each, \".pdb\"))\n",
    "\n",
    "    out_filename_1_neg = joinpath(home, each, string(\"vol_1_5\"))\n",
    "    out_filename_1_pos = joinpath(home, each, string(\"vol_1__5\"))\n",
    "    out_filename_2_neg = joinpath(home, each, string(\"vol_2_5\"))\n",
    "    out_filename_2_pos = joinpath(home, each, string(\"vol_2__5\"))\n",
    "\n",
    "    run(pipeline(`ANA $in_pdb_filename_1_neg -c $cfg_filename`, stdout = out_filename_1_neg))\n",
    "    run(pipeline(`ANA $in_pdb_filename_1_pos -c $cfg_filename`, stdout = out_filename_1_pos))\n",
    "    run(pipeline(`ANA $in_pdb_filename_2_neg -c $cfg_filename`, stdout = out_filename_2_neg))\n",
    "    run(pipeline(`ANA $in_pdb_filename_2_pos -c $cfg_filename`, stdout = out_filename_2_pos))\n",
    "\n",
    "    vol_1__5 = readdlm(out_filename_1_neg)[end]\n",
    "    vol_1_5 = readdlm(out_filename_1_pos)[end]\n",
    "    vol_2__5 = readdlm(out_filename_2_neg)[end]\n",
    "    vol_2_5 = readdlm(out_filename_2_neg)[end]\n",
    "\n",
    "    der_am_1[i] = vol_1_5 - vol_1__5\n",
    "    der_am_2[i] = vol_2_5 - vol_2__5    \n",
    "end"
   ]
  },
  {
   "cell_type": "code",
   "execution_count": 83,
   "metadata": {},
   "outputs": [],
   "source": [
    "der_im_1 = abs.(der_im_1)\n",
    "der_im_2 = abs.(der_im_2)\n",
    "der_am_1 = abs.(der_am_1)\n",
    "der_am_2 = abs.(der_am_2);"
   ]
  },
  {
   "cell_type": "markdown",
   "metadata": {},
   "source": [
    "## Grafico"
   ]
  },
  {
   "cell_type": "code",
   "execution_count": 86,
   "metadata": {
    "collapsed": true
   },
   "outputs": [],
   "source": [
    "# Vec 1\n",
    "hbins = collect(minimum(der_im_1):0.5:maximum(der_am_1))\n",
    "hweights_im = repeat([1.0], inner = [length(der_im_1)])\n",
    "hweights_am = repeat([1.0], inner = [length(der_am_1)])\n",
    "\n",
    "counts_im, bins = WeightedHist(der_im_1, hbins, hweights_im, true)\n",
    "counts_am, bins = WeightedHist(der_am_1, hbins, hweights_am, true)\n",
    "\n",
    "\n",
    "df_hist_der_vec1 = DataFrame(Probability = [counts_am ; counts_im],\n",
    "    ΔRg = [ bins ; bins ],\n",
    "    Conformer = repeat([\"AM\" ; \"IM\"], inner = [ length(bins)]));\n",
    "\n",
    "# Vec 2\n",
    "hbins = collect(minimum(der_im_2):0.5:maximum(der_am_2))\n",
    "hweights_im = repeat([1.0], inner = [length(der_im_2)])\n",
    "hweights_am = repeat([1.0], inner = [length(der_am_2)])\n",
    "\n",
    "counts_im, bins = WeightedHist(der_im_1, hbins, hweights_im, true)\n",
    "counts_am, bins = WeightedHist(der_am_1, hbins, hweights_am, true)\n",
    "\n",
    "\n",
    "df_hist_der_vec2 = DataFrame(Probability = [counts_am ; counts_im],\n",
    "    ΔRg = [ bins ; bins ],\n",
    "    Conformer = repeat([\"AM\" ; \"IM\"], inner = [ length(bins)]));"
   ]
  },
  {
   "cell_type": "code",
   "execution_count": 87,
   "metadata": {},
   "outputs": [
    {
     "data": {
      "text/plain": [
       "11-element Array{Float64,1}:\n",
       " 0.0\n",
       " 0.5\n",
       " 1.0\n",
       " 1.5\n",
       " 2.0\n",
       " 2.5\n",
       " 3.0\n",
       " 3.5\n",
       " 4.0\n",
       " 4.5\n",
       " 5.0"
      ]
     },
     "execution_count": 87,
     "metadata": {},
     "output_type": "execute_result"
    }
   ],
   "source": [
    "hbins"
   ]
  },
  {
   "cell_type": "code",
   "execution_count": null,
   "metadata": {},
   "outputs": [],
   "source": [
    "pdf_hist_der_vec1 = plot(df_hist_der_vec1, x=\"ΔRg\", y=\"Probability\", color = \"Conformer\", \n",
    "    Geom.bar(position = :dodge),\n",
    "\n",
    "    #Guide.title(\"Figure 2.AA\"),\n",
    "    #Guide.ylabel(\"δV * Probability\", orientation=:vertical), \n",
    "    #Guide.yticks(ticks = collect(0.25:0.25:1.0)),\n",
    "    #Coord.cartesian(xmin = 0, xmax = 15),\n",
    "    Scale.color_discrete_manual(\"Firebrick\",\"SlateBlue\"),\n",
    "\n",
    "\n",
    "    Theme(bar_spacing = 2pt, grid_line_width=1pt, key_label_font_size = 20pt,\n",
    "        minor_label_font_size = 14pt, major_label_font_size = 20pt, key_title_font_size = 20pt))"
   ]
  },
  {
   "cell_type": "code",
   "execution_count": null,
   "metadata": {
    "scrolled": true
   },
   "outputs": [],
   "source": [
    "pdf_hist_der_vec2 = plot(df_hist_der_vec2, x=\"ΔRg\", y=\"Probability\", color = \"Conformer\", \n",
    "    Geom.bar(position = :dodge),\n",
    "\n",
    "    #Guide.title(\"Figure 2.AA\"),\n",
    "    #Guide.ylabel(\"δV * Probability\", orientation=:vertical), \n",
    "    #Guide.yticks(ticks = collect(0.25:0.25:1.0)),\n",
    "    #Coord.cartesian(xmin = 0, xmax = 15),\n",
    "    Scale.color_discrete_manual(\"Firebrick\",\"SlateBlue\"),\n",
    "\n",
    "\n",
    "    Theme(bar_spacing = 2pt, grid_line_width=1pt, key_label_font_size = 20pt,\n",
    "        minor_label_font_size = 14pt, major_label_font_size = 20pt, key_title_font_size = 20pt))"
   ]
  },
  {
   "cell_type": "markdown",
   "metadata": {},
   "source": [
    "## Guardo resultados"
   ]
  },
  {
   "cell_type": "code",
   "execution_count": null,
   "metadata": {
    "collapsed": true
   },
   "outputs": [],
   "source": [
    "writedlm(string(home_rtdos, \"rg_im_vec1\"), der_im_vec1)\n",
    "writedlm(string(home_rtdos, \"rg_im_vec2\"), der_im_vec2)\n",
    "\n",
    "writedlm(string(home_rtdos, \"rg_am_vec1\"), der_am_vec1)\n",
    "writedlm(string(home_rtdos, \"rg_am_vec2\"), der_am_vec2)"
   ]
  }
 ],
 "metadata": {
  "kernelspec": {
   "display_name": "Julia 0.6.0",
   "language": "julia",
   "name": "julia-0.6"
  },
  "language_info": {
   "file_extension": ".jl",
   "mimetype": "application/julia",
   "name": "julia",
   "version": "0.6.0"
  }
 },
 "nbformat": 4,
 "nbformat_minor": 2
}
