{
 "cells": [
  {
   "cell_type": "code",
   "execution_count": 1,
   "metadata": {},
   "outputs": [
    {
     "name": "stderr",
     "output_type": "stream",
     "text": [
      "WARNING: Method definition midpoints(Base.Range{T} where T) in module Base at deprecated.jl:56 overwritten in module StatsBase at /home/german/.julia/v0.6/StatsBase/src/hist.jl:535.\n",
      "WARNING: Method definition midpoints(AbstractArray{T, 1} where T) in module Base at deprecated.jl:56 overwritten in module StatsBase at /home/german/.julia/v0.6/StatsBase/src/hist.jl:533.\n"
     ]
    },
    {
     "data": {
      "text/plain": [
       "277"
      ]
     },
     "execution_count": 1,
     "metadata": {},
     "output_type": "execute_result"
    }
   ],
   "source": [
    "using DataFrames\n",
    "using Chemfiles\n",
    "using Gadfly\n",
    "using Cairo\n",
    "using Compose\n",
    "set_default_plot_size(40cm, 14cm)\n",
    "\n",
    "home = \"/home/german/labo/18/egfr/modos/\"\n",
    "rehome = \"/home/german/labo/18/egfr/gram/\"\n",
    "aa = 277"
   ]
  },
  {
   "cell_type": "code",
   "execution_count": 2,
   "metadata": {},
   "outputs": [
    {
     "data": {
      "text/plain": [
       "tognm (generic function with 1 method)"
      ]
     },
     "execution_count": 2,
     "metadata": {},
     "output_type": "execute_result"
    }
   ],
   "source": [
    "function tognm(vtor_anm)\n",
    "    vtor_gnm = Array{Float64}(convert(Int64, length(vtor_anm)/3));\n",
    "    vtor_anm =  vtor_anm.^2\n",
    "    for i=1:convert(Int64, length(vtor_anm)/3)\n",
    "        vtor_gnm[i] = sqrt(vtor_anm[i*3-2] + vtor_anm[i*3-1] + vtor_anm[i*3])\n",
    "    end\n",
    "    return vtor_gnm\n",
    "end"
   ]
  },
  {
   "cell_type": "code",
   "execution_count": 3,
   "metadata": {},
   "outputs": [
    {
     "data": {
      "text/plain": [
       "qgrammian0 (generic function with 2 methods)"
      ]
     },
     "execution_count": 3,
     "metadata": {},
     "output_type": "execute_result"
    }
   ],
   "source": [
    "function qgrammian0(mtx_1, mtx_2, weight_1 = 0)\n",
    "    # Projects mtx_1 onto mtx_2 and gets the mean of the elements in the diagonal.\n",
    "    if size(mtx_1)[1] != size(mtx_2)[1]\n",
    "        println(\"Length of matrices columns must be the same. Aborting.\")\n",
    "        return 0\n",
    "    end\n",
    "    \n",
    "    mtx_g = transpose(mtx_1) * mtx_2 * transpose(mtx_2) * mtx_1\n",
    "      \n",
    "    if weight_1 != 0\n",
    "        # Weights were specified\n",
    "        if length(weight_1) != size(mtx_1)[2]\n",
    "            println(\"There must be as many weights as columns. Aborting.\")\n",
    "            return 0\n",
    "        end\n",
    "        weighted = diag(mtx_g) .* weight_1\n",
    "        zeta = sum(weighted)\n",
    "    else\n",
    "        zeta = mean(diag(mtx_g))   \n",
    "    end\n",
    "    \n",
    "    \n",
    "    return zeta\n",
    "end"
   ]
  },
  {
   "cell_type": "markdown",
   "metadata": {},
   "source": [
    "# Arranco"
   ]
  },
  {
   "cell_type": "code",
   "execution_count": 4,
   "metadata": {
    "collapsed": true
   },
   "outputs": [],
   "source": [
    "# Leo nombres de structuras\n",
    "tmp = readdlm(string(rehome, \"/pdbs.list\"))\n",
    "pdbs_list = convert(Array{String, 1}, reshape(tmp, length(tmp)));\n",
    "aa = 277\n",
    "aa_3 = aa * 3\n",
    "aa_36 = aa_3 - 6\n",
    "structs = length(pdbs_list)\n",
    "\n",
    "# Leo activas e inactivas\n",
    "tmp = readdlm(string(rehome, \"/am.list\"))\n",
    "am_list = convert(Array{String, 1}, reshape(tmp, length(tmp)));\n",
    "\n",
    "tmp = readdlm(string(rehome, \"/im.list\"))\n",
    "im_list = convert(Array{String, 1}, reshape(tmp, length(tmp)));"
   ]
  },
  {
   "cell_type": "code",
   "execution_count": 5,
   "metadata": {
    "collapsed": true
   },
   "outputs": [],
   "source": [
    "# Leo nonmissing residuos de pocket\n",
    "tmp = readdlm(string(rehome, \"nonmis_aa_pocket\"))\n",
    "nonmis_aa_pocket = convert(Array{Int64, 1}, reshape(tmp, length(tmp)))\n",
    "\n",
    "aa_pocket_nonmis = length(nonmis_aa_pocket)\n",
    "aa_3_pocket_nonmis = aa_pocket_nonmis * 3\n",
    "\n",
    "nonmis_aa_pocket_3 = Array{Int64}(aa_3_pocket_nonmis)\n",
    "for i = 1:aa_pocket_nonmis\n",
    "    nonmis_aa_pocket_3[3*i - 2] = nonmis_aa_pocket[i] * 3\n",
    "    nonmis_aa_pocket_3[3*i - 1] = nonmis_aa_pocket[i] * 3 + 1\n",
    "    nonmis_aa_pocket_3[3*i] = nonmis_aa_pocket[i] * 3 + 2\n",
    "end\n",
    "\n",
    "# Leo todos los residuos de pocket\n",
    "tmp = readdlm(string(rehome, \"aa_pocket\"))\n",
    "aa_pocket = convert(Array{Int64, 1}, reshape(tmp, length(tmp)))\n",
    "\n",
    "aa_pocket_nonmis = length(aa_pocket)\n",
    "aa_3_pocket_nonmis = aa_pocket_nonmis * 3\n",
    "\n",
    "aa_pocket_3 = Array{Int64}(aa_3_pocket_nonmis)\n",
    "for i = 1:aa_pocket_nonmis\n",
    "    aa_pocket_3[3*i - 2] = aa_pocket[i] * 3\n",
    "    aa_pocket_3[3*i - 1] = aa_pocket[i] * 3 + 1\n",
    "    aa_pocket_3[3*i] = aa_pocket[i] * 3 + 2\n",
    "end"
   ]
  },
  {
   "cell_type": "markdown",
   "metadata": {},
   "source": [
    "## Versión con los residuos nonmissing del pocket"
   ]
  },
  {
   "cell_type": "code",
   "execution_count": 6,
   "metadata": {
    "collapsed": true
   },
   "outputs": [],
   "source": [
    "am_pesos_nonmis = Array{Float64, 2}(aa_36, length(am_list))\n",
    "\n",
    "for i = 1:length(am_list)\n",
    "    each = am_list[i]\n",
    "\n",
    "    freq = readdlm(string(home, each, \"/\", \"freq_\", each))[8:end, 1]\n",
    "    freq = convert(Array{Float64, 1}, freq)\n",
    "    modos = readdlm(string(rehome, each, \"/\", \"modos_\", each))[:, 1:aa_36]\n",
    "\n",
    "    am_pesos_nonmis[:, i] = [ sum(modos[nonmis_aa_pocket_3, k] .^ 2 ./ freq[k]) for k = 1:aa_36 ]\n",
    "    am_pesos_nonmis[:, i] = am_pesos_nonmis[:, i] ./ sum(am_pesos_nonmis[:, i]);\n",
    "end"
   ]
  },
  {
   "cell_type": "code",
   "execution_count": 7,
   "metadata": {},
   "outputs": [],
   "source": [
    "im_pesos_nonmis = Array{Float64, 2}(aa_36, length(im_list))\n",
    "\n",
    "for i = 1:length(im_list)\n",
    "    each = im_list[i]\n",
    "    \n",
    "    freq = readdlm(string(home, each, \"/\", \"freq_\", each))[8:end, 1]\n",
    "    freq = convert(Array{Float64, 1}, freq)\n",
    "    modos = readdlm(string(rehome, each, \"/\", \"modos_\", each))[:, 1:aa_36]\n",
    "    \n",
    "    im_pesos_nonmis[:, i] = [ sum(modos[nonmis_aa_pocket_3, k] .^ 2 ./ freq[k]) for k = 1:aa_36 ]\n",
    "    im_pesos_nonmis[:, i] = im_pesos_nonmis[:, i] ./ sum(im_pesos_nonmis[:, i]);\n",
    "end"
   ]
  },
  {
   "cell_type": "markdown",
   "metadata": {},
   "source": [
    "### Obtengo los zeta vals"
   ]
  },
  {
   "cell_type": "code",
   "execution_count": 8,
   "metadata": {
    "collapsed": true
   },
   "outputs": [],
   "source": [
    "am_zeta_nonmis = zeros(length(am_list) - 1, length(am_list) - 1)\n",
    "\n",
    "for i = 1:length(am_list)\n",
    "    each = am_list[i]\n",
    "    for j = i+1:length(am_list)\n",
    "        cada = am_list[j]\n",
    "\n",
    "        modos_1 = readdlm(string(rehome, each, \"/\", \"modos_\", each))[:, 1:aa_36]\n",
    "        modos_2 = readdlm(string(rehome, each, \"/\", each, \"_\", cada, \"_ord\"))[:, 1:aa_36]\n",
    "\n",
    "        am_zeta_nonmis[j-1, i] = qgrammian0(modos_1, modos_2, am_pesos_nonmis[:, j])\n",
    "    end\n",
    "end"
   ]
  },
  {
   "cell_type": "code",
   "execution_count": 9,
   "metadata": {
    "collapsed": true
   },
   "outputs": [],
   "source": [
    "im_zeta_nonmis = zeros(length(im_list) - 1, length(im_list) - 1)\n",
    "\n",
    "for i = 1:length(im_list)\n",
    "    each = im_list[i]\n",
    "    for j = i+1:length(im_list)\n",
    "        cada = im_list[j]\n",
    "\n",
    "        modos_1 = readdlm(string(rehome, each, \"/\", \"modos_\", each))[:, 1:aa_36]\n",
    "        modos_2 = readdlm(string(rehome, each, \"/\", each, \"_\", cada, \"_ord\"))[:, 1:aa_36]\n",
    "\n",
    "        im_zeta_nonmis[j-1, i] = qgrammian0(modos_1, modos_2, im_pesos_nonmis[:, j])\n",
    "    end\n",
    "end"
   ]
  },
  {
   "cell_type": "markdown",
   "metadata": {},
   "source": [
    "## Versión con todos los residuos del pocket"
   ]
  },
  {
   "cell_type": "code",
   "execution_count": 10,
   "metadata": {},
   "outputs": [],
   "source": [
    "am_pesos = Array{Float64, 2}(aa_36, length(am_list))\n",
    "\n",
    "for i = 1:length(am_list)\n",
    "    each = am_list[i]\n",
    "\n",
    "    freq = readdlm(string(home, each, \"/\", \"freq_\", each))[8:end, 1]\n",
    "    freq = convert(Array{Float64, 1}, freq)\n",
    "    modos = readdlm(string(rehome, each, \"/\", \"modos_\", each))[:, 1:aa_36]\n",
    "\n",
    "    am_pesos[:, i] = [ sum(modos[aa_pocket_3, k] .^ 2 ./ freq[k]) for k = 1:aa_36 ]\n",
    "    am_pesos[:, i] = am_pesos[:, i] ./ sum(am_pesos[:, i]);\n",
    "end"
   ]
  },
  {
   "cell_type": "code",
   "execution_count": 11,
   "metadata": {
    "collapsed": true
   },
   "outputs": [],
   "source": [
    "im_pesos = Array{Float64, 2}(aa_36, length(im_list))\n",
    "\n",
    "for i = 1:length(im_list)\n",
    "    each = im_list[i]\n",
    "    \n",
    "    freq = readdlm(string(home, each, \"/\", \"freq_\", each))[8:end, 1]\n",
    "    freq = convert(Array{Float64, 1}, freq)\n",
    "    modos = readdlm(string(rehome, each, \"/\", \"modos_\", each))[:, 1:aa_36]\n",
    "    \n",
    "    im_pesos[:, i] = [ sum(modos[aa_pocket_3, k] .^ 2 ./ freq[k]) for k = 1:aa_36 ]\n",
    "    im_pesos[:, i] = im_pesos[:, i] ./ sum(im_pesos[:, i]);\n",
    "end"
   ]
  },
  {
   "cell_type": "markdown",
   "metadata": {},
   "source": [
    "### Obtengo los zeta vals"
   ]
  },
  {
   "cell_type": "code",
   "execution_count": null,
   "metadata": {
    "collapsed": true
   },
   "outputs": [],
   "source": [
    "am_zeta = zeros(length(am_list) - 1, length(am_list) - 1)\n",
    "\n",
    "for i = 1:length(am_list)\n",
    "    each = am_list[i]\n",
    "    for j = i+1:length(am_list)\n",
    "        cada = am_list[j]\n",
    "\n",
    "        modos_1 = readdlm(string(rehome, each, \"/\", \"modos_\", each))[:, 1:aa_36]\n",
    "        modos_2 = readdlm(string(rehome, each, \"/\", each, \"_\", cada, \"_ord\"))[:, 1:aa_36]\n",
    "\n",
    "        am_zeta[j-1, i] = qgrammian0(modos_1, modos_2, am_pesos[:, j])\n",
    "    end\n",
    "end"
   ]
  },
  {
   "cell_type": "code",
   "execution_count": null,
   "metadata": {
    "collapsed": true
   },
   "outputs": [],
   "source": [
    "im_zeta = zeros(length(im_list) - 1, length(im_list) - 1)\n",
    "\n",
    "for i = 1:length(im_list)\n",
    "    each = im_list[i]\n",
    "    for j = i+1:length(im_list)\n",
    "        cada = im_list[j]\n",
    "\n",
    "        modos_1 = readdlm(string(rehome, each, \"/\", \"modos_\", each))[:, 1:aa_36]\n",
    "        modos_2 = readdlm(string(rehome, each, \"/\", each, \"_\", cada, \"_ord\"))[:, 1:aa_36]\n",
    "\n",
    "        im_zeta[j-1, i] = qgrammian0(modos_1, modos_2, im_pesos[:, j])\n",
    "    end\n",
    "end"
   ]
  },
  {
   "cell_type": "markdown",
   "metadata": {},
   "source": [
    "# Grafico"
   ]
  },
  {
   "cell_type": "code",
   "execution_count": null,
   "metadata": {},
   "outputs": [],
   "source": [
    "vec_im_pesos = mapslices(x -> mean(x), im_pesos_nonmis, 2)\n",
    "vec_im_pesos = reshape(vec_im_pesos, length(vec_im_pesos))\n",
    "vec_am_pesos = mapslices(x -> mean(x), am_pesos, 2)\n",
    "vec_am_pesos = reshape(vec_am_pesos, length(vec_am_pesos))\n",
    "\n",
    "df_pesos_nonmis = DataFrame(Weights = [ vec_im_pesos ./ vec_im_pesos[1] ; vec_am_pesos ./ vec_am_pesos[1]], \n",
    "    Modes = [ collect(1:aa_36) ; collect(1:aa_36) ],\n",
    "    Conformer = repeat([\"IM\" ; \"AM\"], inner = [ aa_36]));"
   ]
  },
  {
   "cell_type": "code",
   "execution_count": null,
   "metadata": {
    "collapsed": true
   },
   "outputs": [],
   "source": [
    "vec_im_pesos = mapslices(x -> mean(x), im_pesos, 2)\n",
    "vec_im_pesos = reshape(vec_im_pesos, length(vec_im_pesos))\n",
    "vec_am_pesos = mapslices(x -> mean(x), am_pesos, 2)\n",
    "vec_am_pesos = reshape(vec_am_pesos, length(vec_am_pesos))\n",
    "\n",
    "df_pesos = DataFrame(Weights = [ vec_im_pesos ./ vec_im_pesos[1] ; vec_am_pesos ./ vec_am_pesos[1]], \n",
    "    Modes = [ collect(1:aa_36) ; collect(1:aa_36) ],\n",
    "    Conformer = repeat([\"IM\" ; \"AM\"], inner = [ aa_36]));"
   ]
  },
  {
   "cell_type": "code",
   "execution_count": null,
   "metadata": {},
   "outputs": [],
   "source": [
    "pdf_pesos = plot(df_pesos, x=\"Modes\", y=\"Weights\", color = \"Conformer\", Geom.bar(position = :dodge),\n",
    "\n",
    "    #Guide.title(\"Figure 2.AA\"),\n",
    "    #Guide.ylabel(\"δV * Probability\", orientation=:vertical), \n",
    "    Guide.yticks(ticks = collect(0.25:0.25:1.0)),\n",
    "    Coord.cartesian(xmin = 0, xmax = 15),\n",
    "\n",
    "    Theme(bar_spacing = 2pt, grid_line_width=1pt, key_label_font_size = 20pt,\n",
    "        minor_label_font_size = 14pt, major_label_font_size = 20pt, key_title_font_size = 20pt))"
   ]
  },
  {
   "cell_type": "code",
   "execution_count": null,
   "metadata": {},
   "outputs": [],
   "source": [
    "pdf_pesos = plot(df_pesos, x=\"Modes\", y=\"Weights\", color = \"Conformer\", Geom.bar(position = :dodge),\n",
    "\n",
    "    #Guide.title(\"Figure 2.AA\"),\n",
    "    #Guide.ylabel(\"δV * Probability\", orientation=:vertical),\n",
    "    Guide.yticks(ticks = collect(0.25:0.25:1.0)),\n",
    "    Coord.cartesian(xmin = 0, xmax = 15),\n",
    "\n",
    "    Theme(bar_spacing = 2pt, grid_line_width=1pt,\n",
    "        minor_label_font_size = 14pt, major_label_font_size = 20pt, key_title_font_size = 20pt))"
   ]
  },
  {
   "cell_type": "code",
   "execution_count": null,
   "metadata": {},
   "outputs": [],
   "source": [
    "am_zeta"
   ]
  },
  {
   "cell_type": "code",
   "execution_count": null,
   "metadata": {},
   "outputs": [],
   "source": [
    "im_zeta"
   ]
  },
  {
   "cell_type": "code",
   "execution_count": null,
   "metadata": {
    "collapsed": true
   },
   "outputs": [],
   "source": [
    "pdf_mode_κ_whole_Whis = plot(df_mode_κ_whole_Whis, x=\"Collectivity\", y=\"Probability\", Geom.bar,\n",
    "Guide.title(\"Figure 2.AA\"),\n",
    "Guide.ylabel(\"δV * Probability\", orientation=:vertical), Coord.cartesian(xmin = 0, xmax = 0.7),\n",
    "Theme(bar_spacing=2pt, grid_line_width=1pt, Theme(default_color=colorant\"DarkBlue \"),\n",
    "minor_label_font_size = 14pt, major_label_font_size = 20pt, key_title_font_size = 20pt))"
   ]
  },
  {
   "cell_type": "code",
   "execution_count": null,
   "metadata": {
    "collapsed": true
   },
   "outputs": [],
   "source": []
  },
  {
   "cell_type": "code",
   "execution_count": null,
   "metadata": {
    "collapsed": true
   },
   "outputs": [],
   "source": [
    "writedlm(string(rehome, \"am_zeta\"), am_zeta)"
   ]
  },
  {
   "cell_type": "code",
   "execution_count": null,
   "metadata": {
    "collapsed": true
   },
   "outputs": [],
   "source": [
    "writedlm(string(rehome, \"im_zeta\"), im_zeta)"
   ]
  }
 ],
 "metadata": {
  "kernelspec": {
   "display_name": "Julia 0.6.0",
   "language": "julia",
   "name": "julia-0.6"
  },
  "language_info": {
   "file_extension": ".jl",
   "mimetype": "application/julia",
   "name": "julia",
   "version": "0.6.0"
  }
 },
 "nbformat": 4,
 "nbformat_minor": 2
}
