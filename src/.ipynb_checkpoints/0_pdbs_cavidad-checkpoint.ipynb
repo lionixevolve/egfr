{
 "cells": [
  {
   "cell_type": "code",
   "execution_count": 1,
   "metadata": {},
   "outputs": [
    {
     "data": {
      "text/html": [
       "277"
      ],
      "text/plain": [
       "277"
      ]
     },
     "execution_count": 1,
     "metadata": {},
     "output_type": "execute_result"
    }
   ],
   "source": [
    "using DataFrames\n",
    "using Chemfiles\n",
    "using MIToS.PDB\n",
    "using Gadfly\n",
    "using Cairo\n",
    "using Compose\n",
    "set_default_plot_size(40cm, 14cm)\n",
    "\n",
    "home1 = \"/home/german/labo/18/egfr/1cavidad\"\n",
    "home2 = \"/home/german/labo/18/egfr/2cavidad\"\n",
    "home3 = \"/home/german/labo/18/egfr/3cavidad\"\n",
    "home_modos = \"/home/german/labo/18/egfr/modos\"\n",
    "home_rtdos = \"/home/german/labo/18/egfr/rtdos_log\"\n",
    "aa = 277"
   ]
  },
  {
   "cell_type": "code",
   "execution_count": 2,
   "metadata": {},
   "outputs": [
    {
     "data": {
      "text/plain": [
       "to3 (generic function with 2 methods)"
      ]
     },
     "execution_count": 2,
     "metadata": {},
     "output_type": "execute_result"
    }
   ],
   "source": [
    "function to3(in_v::Array{Real, 1})\n",
    "    return repeat(in_v .* 3, inner = [3]) .+ repeat([-2 ; -1 ; 0], outer = [length(in_v)])\n",
    "end\n",
    "\n",
    "function to3(in_v::Array{Int64, 1})\n",
    "    return repeat(in_v .* 3, inner = [3]) .+ repeat([-2 ; -1 ; 0], outer = [length(in_v)])\n",
    "end"
   ]
  },
  {
   "cell_type": "code",
   "execution_count": 3,
   "metadata": {},
   "outputs": [
    {
     "data": {
      "text/plain": [
       "tognm (generic function with 1 method)"
      ]
     },
     "execution_count": 3,
     "metadata": {},
     "output_type": "execute_result"
    }
   ],
   "source": [
    "function tognm(vtor_anm)\n",
    "    vtor_gnm = Array{Float64}(convert(Int64, length(vtor_anm)/3));\n",
    "    vtor_anm =  vtor_anm.^2\n",
    "    for i=1:convert(Int64, length(vtor_anm)/3)\n",
    "        vtor_gnm[i] = sqrt(vtor_anm[i*3-2] + vtor_anm[i*3-1] + vtor_anm[i*3])\n",
    "    end\n",
    "    return vtor_gnm\n",
    "end"
   ]
  },
  {
   "cell_type": "code",
   "execution_count": 4,
   "metadata": {},
   "outputs": [
    {
     "data": {
      "text/plain": [
       "WeightedHist (generic function with 2 methods)"
      ]
     },
     "execution_count": 4,
     "metadata": {},
     "output_type": "execute_result"
    }
   ],
   "source": [
    "function WeightedHist(in_vec, in_bins, in_weight, density = false)\n",
    "    # Safety check    \n",
    "    if length(in_vec) != length(in_weight)\n",
    "        println(\"Each element of the input vector needs one weight\")\n",
    "        return\n",
    "    end\n",
    "    \n",
    "    # Prepare variables\n",
    "    out_counts = Array{Float64}(length(in_bins)-1)\n",
    "    \n",
    "    # Get weighted histogram\n",
    "    for i=1:length(in_bins)-1\n",
    "        if i == 1\n",
    "            # Include those that fall before the beggining of the bins\n",
    "            temp_bool = (in_vec .>= in_bins[i]) .& (in_vec .< in_bins[i+1]) .| (in_vec .<= in_bins[i])\n",
    "            out_counts[i] = sum(in_weight[temp_bool])\n",
    "        elseif i == length(in_bins)-1\n",
    "            # Include those that fall after the end of the bins\n",
    "            temp_bool = (in_vec .>= in_bins[i]) .& (in_vec .< in_bins[i+1]) .| (in_vec .>= in_bins[end])\n",
    "            out_counts[i] = sum(in_weight[temp_bool])\n",
    "        else\n",
    "            temp_bool = (in_vec .>= in_bins[i]) .& (in_vec .< in_bins[i+1])\n",
    "            out_counts[i] = sum(in_weight[temp_bool])\n",
    "        end\n",
    "    end\n",
    "    \n",
    "    # Get bins middle points\n",
    "    out_middle = (in_bins[1:end-1] + in_bins[2:end]) / 2\n",
    "    \n",
    "    # Turn counts into density\n",
    "    if (density == true)\n",
    "        out_counts = out_counts ./ sum(out_counts) \n",
    "    end\n",
    "    return out_counts, out_middle\n",
    "end"
   ]
  },
  {
   "cell_type": "code",
   "execution_count": 5,
   "metadata": {},
   "outputs": [
    {
     "data": {
      "text/plain": [
       "displaceAA (generic function with 1 method)"
      ]
     },
     "execution_count": 5,
     "metadata": {},
     "output_type": "execute_result"
    }
   ],
   "source": [
    "function displaceAA(mod_pdb, in_vector, multiplier)\n",
    "    # Preparo variables\n",
    "    pdb = copy(mod_pdb)\n",
    "    struct_xyz = coordinatesmatrix(pdb)\n",
    "    new_struct_xyz = copy(struct_xyz)\n",
    "        aa = length(pdb)\n",
    "        # Determino el nro de atomos de c/ aminoácido\n",
    "        natom = Array{Int64}(aa)\n",
    "        [ natom[i] = length(pdb[i]) for i = 1:aa ]\n",
    "        # Adapto el vector p/ darle la misma forma q la matriz de coordenadas\n",
    "        vector = Array{Float64}\n",
    "        const tmp_size = size(in_vector)\n",
    "        const natoms = sum(natom)\n",
    "\n",
    "        if tmp_size == (aa*3, )\n",
    "                vector = transpose(reshape(in_vector, 3, aa))\n",
    "        elseif tmp_size == (aa, 3)\n",
    "                vector = in_vector\n",
    "        else\n",
    "                error(\"Input vector with wrong dimensions: \", tmp_size, \"  \", (aa*3, 1))\n",
    "        end\n",
    "        sum_mat = Array{Float64}(sum(natom),3)\n",
    "        cursor = 0\n",
    "        for i = 1:aa\n",
    "                rango = Array{Int64}(natom[i])\n",
    "        if i == 1\n",
    "                        sum_mat[1:natom[i], :] = repmat(transpose(vector[i, :]),\n",
    "                                natom[i], 1)\n",
    "                        cursor = natom[i]\n",
    "                        continue\n",
    "                end\n",
    "                rango = collect(cursor+1:cursor + natom[i])\n",
    "                sum_mat[rango, :] = repmat(transpose(vector[i, :]), natom[i], 1)\n",
    "                cursor += natom[i]\n",
    "        end\n",
    "\n",
    "   # Listo, ahora puedo mover el pdb\n",
    "   new_struct_xyz  = struct_xyz + sum_mat .* multiplier\n",
    "   pdb = change_coordinates(pdb, new_struct_xyz);\n",
    "   return pdb\n",
    "end"
   ]
  },
  {
   "cell_type": "markdown",
   "metadata": {},
   "source": [
    "# Obtengo Bfators"
   ]
  },
  {
   "cell_type": "code",
   "execution_count": 6,
   "metadata": {},
   "outputs": [
    {
     "data": {
      "text/plain": [
       "\"/home/german/labo/18/egfr/1cavidad/egfr.cfg\""
      ]
     },
     "execution_count": 6,
     "metadata": {},
     "output_type": "execute_result"
    }
   ],
   "source": [
    "# Leo nombres de structuras\n",
    "tmp = readdlm(joinpath(home1, \"pdbs.list\"))\n",
    "pdbs_list = convert(Array{String, 1}, reshape(tmp, length(tmp)));\n",
    "aa = 277\n",
    "aa_3 = aa * 3\n",
    "aa_36 = aa_3 - 6\n",
    "n_pdbs = length(pdbs_list)\n",
    "\n",
    "# Leo activas e inactivas\n",
    "tmp = readdlm(joinpath(home1, \"am.list\"))\n",
    "am_list = convert(Array{String, 1}, reshape(tmp, length(tmp)));\n",
    "\n",
    "tmp = readdlm(joinpath(home1, \"im.list\"))\n",
    "im_list = convert(Array{String, 1}, reshape(tmp, length(tmp)));\n",
    "\n",
    "cfg_filename = joinpath(home1, \"egfr.cfg\")"
   ]
  },
  {
   "cell_type": "markdown",
   "metadata": {},
   "source": [
    "### Leo modos y frecuencias. También leo Bfactors experimentales y los índices de los residuos nonmissing"
   ]
  },
  {
   "cell_type": "code",
   "execution_count": 7,
   "metadata": {
    "collapsed": true
   },
   "outputs": [],
   "source": [
    "proto_teo_bfactors = Array{Array{Float64, 1}}(n_pdbs)\n",
    "modos = Array{Array{Float64, 2}}(n_pdbs)\n",
    "freqs = Array{Array{Float64, 1}}(n_pdbs)\n",
    "bf_exps = Array{Array{Float64, 1}}(n_pdbs)\n",
    "nonmissings = Array{Array{Int64, 1}}(n_pdbs)\n",
    "nonmissings_3 = Array{Array{Int64, 1}}(n_pdbs)\n",
    "\n",
    "for i = 1:n_pdbs\n",
    "    each = pdbs_list[i]\n",
    "    modos[i] = readdlm(joinpath(home_modos, each, string(\"modos_\", each)))\n",
    "    freqs[i] = convert(Array{Float64}, readdlm(joinpath(home_modos, each, string(\"freq_\", each)))[8:end, 1])\n",
    "\n",
    "    bf_exps[i] = readdlm(joinpath(home_modos, each, string(\"exp_bf_\", each)))[:, 1]\n",
    "    nonmissings[i] = convert(Array{Int64}, readdlm(joinpath(home_modos, each, string(\"nonmissing_\", each)))[:, 1])\n",
    "end"
   ]
  },
  {
   "cell_type": "markdown",
   "metadata": {},
   "source": [
    "### Obtengo Bfactors teóricos. Obtengo βs."
   ]
  },
  {
   "cell_type": "code",
   "execution_count": 8,
   "metadata": {},
   "outputs": [],
   "source": [
    "bf_teos = Array{Array{Float64, 1}}(n_pdbs)\n",
    "\n",
    "for i = 1:n_pdbs\n",
    "    tmp = mapslices(x -> sum(x), modos[i] .^ 2 * diagm(1 ./ freqs[i]), 2)[:, 1]\n",
    "    bf_teos[i] = [ tmp[j] + tmp[j+1] + tmp[j+2] for j = 1:3:length(tmp) ]\n",
    "end\n",
    "\n",
    "β = Array{Float64, 1}(n_pdbs)\n",
    "\n",
    "for i = 1:n_pdbs\n",
    "    β[i] = sum(bf_exps[i]) / sum(bf_teos[i][nonmissings[i]])\n",
    "end"
   ]
  },
  {
   "cell_type": "markdown",
   "metadata": {},
   "source": [
    "### Finalmente, obtengo las amplitudes de los modos"
   ]
  },
  {
   "cell_type": "code",
   "execution_count": 9,
   "metadata": {},
   "outputs": [],
   "source": [
    "amps = Array{Array{Float64, 1}}(n_pdbs)\n",
    "for j = 1:n_pdbs\n",
    "    amps[j] = sqrt.(β[j] ./ (4 * π^2 .* freqs[j]))\n",
    "end"
   ]
  },
  {
   "cell_type": "markdown",
   "metadata": {},
   "source": [
    "# Empiezo a desplazar pdbs"
   ]
  },
  {
   "cell_type": "markdown",
   "metadata": {},
   "source": [
    "## 1cavidad: desplazo según modos 1 y 2"
   ]
  },
  {
   "cell_type": "code",
   "execution_count": 14,
   "metadata": {
    "collapsed": true
   },
   "outputs": [],
   "source": [
    "# Read PDB\n",
    "for i = 1:n_pdbs\n",
    "    each = pdbs_list[i]\n",
    "\n",
    "    # Leo pdb\n",
    "    in_pdb_filename = string(each, \".pdb\")\n",
    "    in_pdb = read(joinpath(home1, each, in_pdb_filename), PDBFile, group=\"ATOM\");\n",
    "\n",
    "    # Leo modo 1\n",
    "    in_vec1_filename = string(\"1modo_\", each)\n",
    "    tmp = readdlm(joinpath(home1, each, in_vec1_filename))\n",
    "    modo_1 = reshape(tmp, length(tmp))\n",
    "\n",
    "    # Desplazo\n",
    "    out_pdb_1_neg = displaceAA(in_pdb, modo_1, -amps[i][1])\n",
    "    out_pdb_1_pos = displaceAA(in_pdb, modo_1, amps[i][1])\n",
    "\n",
    "    # Guardo la struct modificada\n",
    "    out_filename_1_neg = string(\"neg_modo1_\", each, \".pdb\")\n",
    "    write(joinpath(home1, each, out_filename_1_neg), out_pdb_1_neg, PDBFile)\n",
    "    out_filename_1_pos = string(\"pos_modo1_\", each, \".pdb\")\n",
    "    write(joinpath(home1, each, out_filename_1_pos), out_pdb_1_pos, PDBFile)\n",
    "\n",
    "    # Leo modo 2\n",
    "    in_vec2_filename = string(\"2modo_\", each)\n",
    "    tmp = readdlm(joinpath(home1, each, in_vec2_filename))\n",
    "    modo_2 = reshape(tmp, length(tmp));\n",
    "\n",
    "    # Desplazo\n",
    "    out_pdb_2_neg = displaceAA(in_pdb, modo_2, -amps[i][2])\n",
    "    out_pdb_2_pos = displaceAA(in_pdb, modo_2, amps[i][2])\n",
    "\n",
    "    # Guardo las struct modificadas\n",
    "    out_filename_2_neg = string(\"neg_modo2_\", each, \".pdb\")\n",
    "    write(joinpath(home1, each, out_filename_2_neg), out_pdb_2_neg, PDBFile)\n",
    "    out_filename_2_pos = string(\"pos_modo2_\", each, \".pdb\")\n",
    "    write(joinpath(home1, each, out_filename_2_pos), out_pdb_2_pos, PDBFile)\n",
    "end"
   ]
  },
  {
   "cell_type": "markdown",
   "metadata": {},
   "source": [
    "### 2cavidad: desplazo según combinación random de modos 1 y 2"
   ]
  },
  {
   "cell_type": "code",
   "execution_count": 29,
   "metadata": {
    "scrolled": true
   },
   "outputs": [
    {
     "name": "stdout",
     "output_type": "stream",
     "text": [
      "1M17_A\n",
      "2EB2_A\n",
      "2GS2_A\n",
      "2GS6_A\n",
      "2GS7_A\n",
      "2ITN_A\n",
      "2ITP_A\n",
      "2ITU_A\n",
      "2ITX_A\n",
      "2ITZ_A\n",
      "2RGP_A\n",
      "3BEL_A\n",
      "3GOP_A\n",
      "3GT8_A\n",
      "3IKA_A\n",
      "3IKA_B\n",
      "3UG1_A\n",
      "3VJN_A\n",
      "3W2R_A\n",
      "3W2S_A\n",
      "3W32_A\n",
      "3W33_A\n",
      "4G5J_A\n",
      "4I1Z_A\n",
      "4I22_A\n",
      "4I23_A\n",
      "4I24_A\n",
      "4LI5_A\n",
      "4LQM_A\n",
      "4R3P_A\n",
      "4R5S_A\n",
      "4RJ4_A\n",
      "4ZAU_A\n",
      "4ZJV_A\n",
      "5C8K_A\n",
      "5CAO_A\n",
      "5CAP_A\n",
      "5CAV_A\n",
      "5CNN_A\n",
      "5CZH_A\n",
      "5HG5_A\n",
      "5HG7_A\n",
      "5HG8_A\n"
     ]
    }
   ],
   "source": [
    "function c()\n",
    "    return rand(collect(-1:1E-7:1))\n",
    "end\n",
    "\n",
    "for i = 1:n_pdbs\n",
    "    each = pdbs_list[i]\n",
    "    # Ajusto la constante de desplazamiento de c/ modo\n",
    "    cte_1 = amps[i][1] *.05\n",
    "    cte_2 = amps[i][2] *.05\n",
    "\n",
    "    # Leo pdb\n",
    "    in_pdb_filename = string(each, \".pdb\")\n",
    "    in_pdb = read(joinpath(home2, each, in_pdb_filename), PDBFile, group=\"ATOM\");\n",
    "\n",
    "    # Leo modo 1\n",
    "    in_vec1_filename = string(\"1modo_\", each)\n",
    "    tmp = readdlm(joinpath(home2, each, in_vec1_filename))\n",
    "    modo_1 = reshape(tmp, length(tmp)) .* amps[i][1]\n",
    "\n",
    "    # Leo modo 2\n",
    "    in_vec2_filename = string(\"2modo_\", each)\n",
    "    tmp = readdlm(joinpath(home2, each, in_vec2_filename))\n",
    "    modo_2 = reshape(tmp, length(tmp)) .* amps[i][2]\n",
    "\n",
    "    for j = 1:500\n",
    "        # Combino\n",
    "        modo = c() .* modo_1 .+ c() .* modo_2\n",
    "        # Desplazo\n",
    "        out_pdb = displaceAA(in_pdb, modo, 1)\n",
    "\n",
    "        # Guardo la struct modificada\n",
    "        out_filename = string(j, \"_\", each, \".pdb\")\n",
    "        write(joinpath(home2, each, out_filename), out_pdb, PDBFile)\n",
    "    end\n",
    "    println(each)\n",
    "end"
   ]
  },
  {
   "cell_type": "markdown",
   "metadata": {},
   "source": [
    "### 3cavidad: desplazo a lo largo de todos los modos, p/ hacer el gdte"
   ]
  },
  {
   "cell_type": "code",
   "execution_count": 27,
   "metadata": {},
   "outputs": [],
   "source": [
    "for i = 1:n_pdbs\n",
    "    each = pdbs_list[i]\n",
    "    # Guardo las amplitudes de los modos\n",
    "    writedlm(joinpath(home3, each, string(\"amp_\", each)), amps[i])\n",
    "end"
   ]
  },
  {
   "cell_type": "code",
   "execution_count": null,
   "metadata": {},
   "outputs": [],
   "source": []
  }
 ],
 "metadata": {
  "kernelspec": {
   "display_name": "Julia 0.6.0",
   "language": "julia",
   "name": "julia-0.6"
  },
  "language_info": {
   "file_extension": ".jl",
   "mimetype": "application/julia",
   "name": "julia",
   "version": "0.6.0"
  }
 },
 "nbformat": 4,
 "nbformat_minor": 2
}
