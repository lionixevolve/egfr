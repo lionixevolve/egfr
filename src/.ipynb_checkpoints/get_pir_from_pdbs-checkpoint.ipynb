{
 "cells": [
  {
   "cell_type": "code",
   "execution_count": 1,
   "metadata": {},
   "outputs": [
    {
     "name": "stderr",
     "output_type": "stream",
     "text": [
      "WARNING: Method definition midpoints(Base.Range{T} where T) in module Base at deprecated.jl:56 overwritten in module StatsBase at /home/german/.julia/v0.6/StatsBase/src/hist.jl:535.\n",
      "WARNING: Method definition midpoints(AbstractArray{T, 1} where T) in module Base at deprecated.jl:56 overwritten in module StatsBase at /home/german/.julia/v0.6/StatsBase/src/hist.jl:533.\n"
     ]
    }
   ],
   "source": [
    "using DataFrames\n",
    "using Chemfiles\n",
    "\n",
    "home = \"/home/german/labo/18/egfr/model/\""
   ]
  },
  {
   "cell_type": "code",
   "execution_count": 2,
   "metadata": {},
   "outputs": [
    {
     "data": {
      "text/plain": [
       "res_3_to_1 (generic function with 2 methods)"
      ]
     },
     "execution_count": 2,
     "metadata": {},
     "output_type": "execute_result"
    }
   ],
   "source": [
    "function res_3_to_1(in_3::AbstractString)\n",
    "    \n",
    "    res = lowercase(in_3)\n",
    "    out_1 = AbstractString\n",
    "    \n",
    "    if res == \"ala\"\n",
    "        out_1 = \"A\"\n",
    "    elseif res == \"arg\"\n",
    "        out_1 = \"R\"\n",
    "    elseif res == \"asn\"\n",
    "        out_1 = \"N\"\n",
    "    elseif res == \"asp\"\n",
    "        out_1 = \"D\"\n",
    "    elseif res == \"cys\"\n",
    "        out_1 = \"C\"\n",
    "    elseif res == \"gln\"\n",
    "        out_1 = \"Q\"\n",
    "    elseif res == \"glu\"\n",
    "        out_1 = \"E\"\n",
    "    elseif res == \"gly\"\n",
    "        out_1 = \"G\"\n",
    "    elseif res == \"his\"\n",
    "        out_1 = \"H\"\n",
    "    elseif res == \"ile\"\n",
    "        out_1 = \"I\"\n",
    "    elseif res == \"leu\"\n",
    "        out_1 = \"L\"\n",
    "    elseif res == \"lys\"\n",
    "        out_1 = \"K\"\n",
    "    elseif res == \"met\"\n",
    "        out_1 = \"M\"\n",
    "    elseif res == \"phe\"\n",
    "        out_1 = \"F\"\n",
    "    elseif res == \"pro\"\n",
    "        out_1 = \"P\"\n",
    "    elseif res == \"ser\"\n",
    "        out_1 = \"S\"\n",
    "    elseif res == \"thr\"\n",
    "        out_1 = \"T\"\n",
    "    elseif res == \"trp\"\n",
    "        out_1 = \"W\"\n",
    "    elseif res == \"tyr\"\n",
    "        out_1 = \"Y\"\n",
    "    elseif res == \"val\"\n",
    "        out_1 = \"V\"\n",
    "    else\n",
    "        error(\"Unknown aminoacid: \", in_3)\n",
    "    end\n",
    "    \n",
    "    return out_1\n",
    "end\n",
    "\n",
    "function res_3_to_1(in_vec::Array{String, 1})\n",
    "\n",
    "    out_vec = Array{String, 1}(length(in_vec))\n",
    "    i = 0\n",
    "    for each in in_vec\n",
    "        i+=1\n",
    "        try \n",
    "            out_vec[i] = res_3_to_1(each)\n",
    "        catch e\n",
    "            error(\"Malformed array list.\\nCaught error: $e\")\n",
    "        end\n",
    "    end\n",
    "    \n",
    "    return out_vec\n",
    "end"
   ]
  },
  {
   "cell_type": "code",
   "execution_count": 3,
   "metadata": {},
   "outputs": [
    {
     "data": {
      "text/plain": [
       "seq_from_top (generic function with 1 method)"
      ]
     },
     "execution_count": 3,
     "metadata": {},
     "output_type": "execute_result"
    }
   ],
   "source": [
    "function seq_from_top(in_top::Chemfiles.Topology)\n",
    "    # Get 1 letter code amino acid list from a topology\n",
    "    aa = convert(Int64, count_residues(in_pdb_top))\n",
    "    ids = Array{Int64, 1}(aa)\n",
    "\n",
    "    for i=1:aa\n",
    "        ids[i] = id(Residue(in_pdb_top, i-1))\n",
    "    end\n",
    "    ids_sorted_indices = sortperm(ids);\n",
    "\n",
    "    seq_3 = Array{String, 1}(aa)\n",
    "    i = 0\n",
    "    for each in ids_sorted_indices\n",
    "        i+=1\n",
    "        seq_3[i] = name((Residue(in_pdb_top, each-1)))\n",
    "    end\n",
    "    seq_1 = res_3_to_1(seq_3);\n",
    "    \n",
    "    return seq_1\n",
    "end"
   ]
  },
  {
   "cell_type": "code",
   "execution_count": 4,
   "metadata": {},
   "outputs": [
    {
     "data": {
      "text/plain": [
       "Chemfiles.Topology(Ptr{Chemfiles.lib.CHFL_TOPOLOGY} @0x00000000036b4a50)"
      ]
     },
     "execution_count": 4,
     "metadata": {},
     "output_type": "execute_result"
    }
   ],
   "source": [
    "each = \"1XKK_A\"\n",
    "in_pdb_trj = Trajectory(string(home, each, \"/\", each, \".pdb\"))\n",
    "in_pdb_frm = read(in_pdb_trj)\n",
    "in_pdb_top = Topology(in_pdb_frm)\n",
    "seq_from_top(in_pdb_top)"
   ]
  },
  {
   "cell_type": "code",
   "execution_count": 6,
   "metadata": {},
   "outputs": [
    {
     "data": {
      "text/plain": [
       "289-element Array{String,1}:\n",
       " \"A\"\n",
       " \"L\"\n",
       " \"L\"\n",
       " \"R\"\n",
       " \"I\"\n",
       " \"L\"\n",
       " \"K\"\n",
       " \"E\"\n",
       " \"T\"\n",
       " \"E\"\n",
       " \"F\"\n",
       " \"K\"\n",
       " \"K\"\n",
       " ⋮  \n",
       " \"M\"\n",
       " \"D\"\n",
       " \"E\"\n",
       " \"V\"\n",
       " \"V\"\n",
       " \"D\"\n",
       " \"A\"\n",
       " \"D\"\n",
       " \"E\"\n",
       " \"Y\"\n",
       " \"L\"\n",
       " \"I\""
      ]
     },
     "execution_count": 6,
     "metadata": {},
     "output_type": "execute_result"
    }
   ],
   "source": []
  }
 ],
 "metadata": {
  "kernelspec": {
   "display_name": "Julia 0.6.0",
   "language": "julia",
   "name": "julia-0.6"
  },
  "language_info": {
   "file_extension": ".jl",
   "mimetype": "application/julia",
   "name": "julia",
   "version": "0.6.0"
  }
 },
 "nbformat": 4,
 "nbformat_minor": 2
}
