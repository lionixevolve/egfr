{
 "cells": [
  {
   "cell_type": "code",
   "execution_count": 1,
   "metadata": {},
   "outputs": [
    {
     "name": "stderr",
     "output_type": "stream",
     "text": [
      "WARNING: Method definition midpoints(Base.Range{T} where T) in module Base at deprecated.jl:56 overwritten in module StatsBase at /home/german/.julia/v0.6/StatsBase/src/hist.jl:535.\n",
      "WARNING: Method definition midpoints(AbstractArray{T, 1} where T) in module Base at deprecated.jl:56 overwritten in module StatsBase at /home/german/.julia/v0.6/StatsBase/src/hist.jl:533.\n"
     ]
    },
    {
     "data": {
      "text/plain": [
       "\"/home/german/labo/18/egfr/model/\""
      ]
     },
     "execution_count": 1,
     "metadata": {},
     "output_type": "execute_result"
    }
   ],
   "source": [
    "using DataFrames\n",
    "using Chemfiles\n",
    "\n",
    "home = \"/home/german/labo/18/egfr/model/\""
   ]
  },
  {
   "cell_type": "code",
   "execution_count": 2,
   "metadata": {},
   "outputs": [
    {
     "data": {
      "text/plain": [
       "res_3_to_1 (generic function with 2 methods)"
      ]
     },
     "execution_count": 2,
     "metadata": {},
     "output_type": "execute_result"
    }
   ],
   "source": [
    "function res_3_to_1(in_3::AbstractString)\n",
    "    \n",
    "    res = lowercase(in_3)\n",
    "    out_1 = AbstractString\n",
    "    \n",
    "    if res == \"ala\"\n",
    "        out_1 = \"A\"\n",
    "    elseif res == \"arg\"\n",
    "        out_1 = \"R\"\n",
    "    elseif res == \"asn\"\n",
    "        out_1 = \"N\"\n",
    "    elseif res == \"asp\"\n",
    "        out_1 = \"D\"\n",
    "    elseif res == \"cys\"\n",
    "        out_1 = \"C\"\n",
    "    elseif res == \"gln\"\n",
    "        out_1 = \"Q\"\n",
    "    elseif res == \"glu\"\n",
    "        out_1 = \"E\"\n",
    "    elseif res == \"gly\"\n",
    "        out_1 = \"G\"\n",
    "    elseif res == \"his\"\n",
    "        out_1 = \"H\"\n",
    "    elseif res == \"ile\"\n",
    "        out_1 = \"I\"\n",
    "    elseif res == \"leu\"\n",
    "        out_1 = \"L\"\n",
    "    elseif res == \"lys\"\n",
    "        out_1 = \"K\"\n",
    "    elseif res == \"met\"\n",
    "        out_1 = \"M\"\n",
    "    elseif res == \"phe\"\n",
    "        out_1 = \"F\"\n",
    "    elseif res == \"pro\"\n",
    "        out_1 = \"P\"\n",
    "    elseif res == \"ser\"\n",
    "        out_1 = \"S\"\n",
    "    elseif res == \"thr\"\n",
    "        out_1 = \"T\"\n",
    "    elseif res == \"trp\"\n",
    "        out_1 = \"W\"\n",
    "    elseif res == \"tyr\"\n",
    "        out_1 = \"Y\"\n",
    "    elseif res == \"val\"\n",
    "        out_1 = \"V\"\n",
    "    else\n",
    "        error(\"Unknown aminoacid: \", in_3)\n",
    "    end\n",
    "    \n",
    "    return out_1\n",
    "end\n",
    "\n",
    "function res_3_to_1(in_vec::Array{String, 1})\n",
    "\n",
    "    out_vec = Array{String, 1}(length(in_vec))\n",
    "    i = 0\n",
    "    for each in in_vec\n",
    "        i+=1\n",
    "        try \n",
    "            out_vec[i] = res_3_to_1(each)\n",
    "        catch e\n",
    "            error(\"Malformed array list.\\nCaught error: $e\")\n",
    "        end\n",
    "    end\n",
    "    \n",
    "    return out_vec\n",
    "end"
   ]
  },
  {
   "cell_type": "code",
   "execution_count": 3,
   "metadata": {},
   "outputs": [
    {
     "data": {
      "text/plain": [
       "seq_from_top (generic function with 1 method)"
      ]
     },
     "execution_count": 3,
     "metadata": {},
     "output_type": "execute_result"
    }
   ],
   "source": [
    "function seq_from_top(in_top::Chemfiles.Topology)\n",
    "    # Get 1 letter code amino acid list from a topology\n",
    "    aa = convert(Int64, count_residues(in_top))\n",
    "    ids = Array{Int64, 1}(aa)\n",
    "\n",
    "    for i=1:aa\n",
    "        ids[i] = id(Residue(in_top, i-1))\n",
    "    end\n",
    "    ids_sorted_indices = sortperm(ids);\n",
    "\n",
    "    seq_3 = Array{String, 1}(aa)\n",
    "    i = 0\n",
    "    for each in ids_sorted_indices\n",
    "        i+=1\n",
    "        seq_3[i] = name((Residue(in_top, each-1)))\n",
    "    end\n",
    "    seq_1 = res_3_to_1(seq_3);\n",
    "    \n",
    "    return seq_1\n",
    "end"
   ]
  },
  {
   "cell_type": "code",
   "execution_count": 4,
   "metadata": {},
   "outputs": [
    {
     "data": {
      "text/plain": [
       "write_pdb_to_pir (generic function with 1 method)"
      ]
     },
     "execution_count": 4,
     "metadata": {},
     "output_type": "execute_result"
    }
   ],
   "source": [
    "function write_pdb_to_pir(in_top::Chemfiles.Topology, in_pdb_filename::AbstractString,\n",
    "        out_filename::AbstractString)\n",
    "\n",
    "    aa = convert(Int64, count_residues(in_top))\n",
    "    ids = convert(Array{Int64, 1}, [ id(Residue(in_top, i-1)) for i=1:aa ])\n",
    "    primer_aa = minimum(ids)\n",
    "    ultimo_aa = maximum(ids)\n",
    "    seq = seq_from_top(in_top)\n",
    "\n",
    "    open(out_filename, \"w\") do f\n",
    "        # Header\n",
    "        write(f, string(\">P1;\", in_pdb_filename, \"\\n\"))\n",
    "        write(f, string(\"structureX:\", in_pdb_filename, \":\", primer_aa, \":A:+\", aa, \":A:::-1.00:-1.00\\n\"))\n",
    "        # Sequence\n",
    "        nlineas = convert(Int64, floor(aa / 80))\n",
    "        for i = 1:nlineas\n",
    "            uno = (i-1) * 80 + 1\n",
    "            ult = i * 80\n",
    "            write(f, seq[uno:ult])\n",
    "            write(f, \"\\n\")\n",
    "        end\n",
    "        uno = nlineas * 80 + 1\n",
    "        write(f, seq[uno:end])\n",
    "        write(f, \"*\\n\")\n",
    "    end\n",
    "end"
   ]
  },
  {
   "cell_type": "markdown",
   "metadata": {},
   "source": [
    "# Escribo secuencias modelo"
   ]
  },
  {
   "cell_type": "code",
   "execution_count": 5,
   "metadata": {
    "scrolled": true
   },
   "outputs": [
    {
     "name": "stdout",
     "output_type": "stream",
     "text": [
      "1M14_A\n",
      "1M17_A\n",
      "1XKK_A\n",
      "2EB2_A\n",
      "2GS2_A\n",
      "2GS6_A\n",
      "2GS7_A\n",
      "2ITN_A\n",
      "2ITP_A\n",
      "2ITU_A\n",
      "2ITX_A\n",
      "2ITZ_A\n",
      "2J5F_A\n",
      "2RGP_A\n",
      "3BEL_A\n",
      "3GOP_A\n",
      "3GT8_A\n",
      "3GT8_C\n",
      "3IKA_A\n",
      "3IKA_B\n",
      "3LZB_A\n",
      "3UG1_A\n",
      "3VJN_A\n",
      "3W2O_A\n",
      "3W2R_A\n",
      "3W2S_A\n",
      "3W32_A\n",
      "3W33_A\n",
      "4G5J_A\n",
      "4I1Z_A\n",
      "4I22_A\n",
      "4I23_A\n",
      "4I24_A\n",
      "4LI5_A\n",
      "4LQM_A\n",
      "4R3P_A\n",
      "4R5S_A\n",
      "4RJ4_A\n",
      "4ZAU_A\n",
      "4ZJV_A\n",
      "5C8K_A\n",
      "5CAO_A\n",
      "5CAP_A\n",
      "5CAV_A\n",
      "5CNN_A\n",
      "5CNN_B\n",
      "5CNO_A\n",
      "5CZH_A\n",
      "5EDP_A\n",
      "5EM5_A\n",
      "5EM6_A\n",
      "5EM7_A\n",
      "5EM8_A\n",
      "5HG5_A\n",
      "5HG7_A\n",
      "5HG8_A\n",
      "5HIB_A\n",
      "5HIC_A\n"
     ]
    }
   ],
   "source": [
    "tmp = readdlm(string(home, \"/pdbs.list\"))\n",
    "pdbs_list = convert(Array{String, 1}, reshape(tmp, length(tmp)))\n",
    "\n",
    "for each in pdbs_list\n",
    "    println(each)\n",
    "    in_pdb_trj = Trajectory(string(home, each, \"/\", each, \".pdb\"))\n",
    "    in_pdb_frm = read(in_pdb_trj)\n",
    "    in_pdb_top = Topology(in_pdb_frm)\n",
    "    seq = seq_from_top(in_pdb_top)\n",
    "    salida_filename = string(home, each, \"/\", each, \".pir\")\n",
    "\n",
    "    write_pdb_to_pir(in_pdb_top, each, salida_filename)\n",
    "end"
   ]
  },
  {
   "cell_type": "markdown",
   "metadata": {},
   "source": [
    "# Alineo"
   ]
  },
  {
   "cell_type": "code",
   "execution_count": 6,
   "metadata": {},
   "outputs": [
    {
     "name": "stdout",
     "output_type": "stream",
     "text": [
      "1M14_A\n",
      "1M17_A\n",
      "1XKK_A\n",
      "2EB2_A\n",
      "2GS2_A\n"
     ]
    },
    {
     "name": "stderr",
     "output_type": "stream",
     "text": [
      "Needleman-Wunsch global alignment of two sequences\n",
      "Needleman-Wunsch global alignment of two sequences\n",
      "Needleman-Wunsch global alignment of two sequences\n",
      "Needleman-Wunsch global alignment of two sequences\n"
     ]
    },
    {
     "name": "stdout",
     "output_type": "stream",
     "text": [
      "2GS6_A\n",
      "2GS7_A\n",
      "2ITN_A\n",
      "2ITP_A\n",
      "2ITU_A\n",
      "2ITX_A\n",
      "2ITZ_A\n",
      "2J5F_A\n"
     ]
    },
    {
     "name": "stderr",
     "output_type": "stream",
     "text": [
      "Needleman-Wunsch global alignment of two sequences\n",
      "Needleman-Wunsch global alignment of two sequences\n",
      "Needleman-Wunsch global alignment of two sequences\n",
      "Needleman-Wunsch global alignment of two sequences\n",
      "Needleman-Wunsch global alignment of two sequences\n",
      "Needleman-Wunsch global alignment of two sequences\n",
      "Needleman-Wunsch global alignment of two sequences\n",
      "Needleman-Wunsch global alignment of two sequences\n"
     ]
    },
    {
     "name": "stdout",
     "output_type": "stream",
     "text": [
      "2RGP_A\n",
      "3BEL_A\n",
      "3GOP_A\n",
      "3GT8_A\n",
      "3GT8_C\n",
      "3IKA_A\n",
      "3IKA_B\n",
      "3LZB_A\n"
     ]
    },
    {
     "name": "stderr",
     "output_type": "stream",
     "text": [
      "Needleman-Wunsch global alignment of two sequences\n",
      "Needleman-Wunsch global alignment of two sequences\n",
      "Needleman-Wunsch global alignment of two sequences\n",
      "Needleman-Wunsch global alignment of two sequences\n",
      "Needleman-Wunsch global alignment of two sequences\n",
      "Needleman-Wunsch global alignment of two sequences\n",
      "Needleman-Wunsch global alignment of two sequences\n",
      "Needleman-Wunsch global alignment of two sequences\n",
      "Needleman-Wunsch global alignment of two sequences\n"
     ]
    },
    {
     "name": "stdout",
     "output_type": "stream",
     "text": [
      "3UG1_A\n",
      "3VJN_A\n",
      "3W2O_A\n",
      "3W2R_A\n",
      "3W2S_A\n",
      "3W32_A\n",
      "3W33_A\n"
     ]
    },
    {
     "name": "stderr",
     "output_type": "stream",
     "text": [
      "Needleman-Wunsch global alignment of two sequences\n",
      "Needleman-Wunsch global alignment of two sequences\n",
      "Needleman-Wunsch global alignment of two sequences\n",
      "Needleman-Wunsch global alignment of two sequences\n",
      "Needleman-Wunsch global alignment of two sequences\n",
      "Needleman-Wunsch global alignment of two sequences\n"
     ]
    },
    {
     "name": "stdout",
     "output_type": "stream",
     "text": [
      "4G5J_A\n",
      "4I1Z_A\n",
      "4I22_A\n",
      "4I23_A\n",
      "4I24_A\n",
      "4LI5_A\n",
      "4LQM_A\n"
     ]
    },
    {
     "name": "stderr",
     "output_type": "stream",
     "text": [
      "Needleman-Wunsch global alignment of two sequences\n",
      "Needleman-Wunsch global alignment of two sequences\n",
      "Needleman-Wunsch global alignment of two sequences\n",
      "Needleman-Wunsch global alignment of two sequences\n",
      "Needleman-Wunsch global alignment of two sequences\n",
      "Needleman-Wunsch global alignment of two sequences\n",
      "Needleman-Wunsch global alignment of two sequences\n"
     ]
    },
    {
     "name": "stdout",
     "output_type": "stream",
     "text": [
      "4R3P_A\n",
      "4R5S_A\n",
      "4RJ4_A\n",
      "4ZAU_A\n",
      "4ZJV_A\n",
      "5C8K_A\n",
      "5CAO_A\n",
      "5CAP_A\n"
     ]
    },
    {
     "name": "stderr",
     "output_type": "stream",
     "text": [
      "Needleman-Wunsch global alignment of two sequences\n",
      "Needleman-Wunsch global alignment of two sequences\n",
      "Needleman-Wunsch global alignment of two sequences\n",
      "Needleman-Wunsch global alignment of two sequences\n",
      "Needleman-Wunsch global alignment of two sequences\n",
      "Needleman-Wunsch global alignment of two sequences\n",
      "Needleman-Wunsch global alignment of two sequences\n",
      "Needleman-Wunsch global alignment of two sequences\n"
     ]
    },
    {
     "name": "stdout",
     "output_type": "stream",
     "text": [
      "5CAV_A\n",
      "5CNN_A\n",
      "5CNN_B\n",
      "5CNO_A\n",
      "5CZH_A\n",
      "5EDP_A\n",
      "5EM5_A\n"
     ]
    },
    {
     "name": "stderr",
     "output_type": "stream",
     "text": [
      "Needleman-Wunsch global alignment of two sequences\n",
      "Needleman-Wunsch global alignment of two sequences\n",
      "Needleman-Wunsch global alignment of two sequences\n",
      "Needleman-Wunsch global alignment of two sequences\n",
      "Needleman-Wunsch global alignment of two sequences\n",
      "Needleman-Wunsch global alignment of two sequences\n",
      "Needleman-Wunsch global alignment of two sequences\n"
     ]
    },
    {
     "name": "stdout",
     "output_type": "stream",
     "text": [
      "5EM6_A\n",
      "5EM7_A\n",
      "5EM8_A\n",
      "5HG5_A\n",
      "5HG7_A\n",
      "5HG8_A\n",
      "5HIB_A\n",
      "5HIC_A\n"
     ]
    },
    {
     "name": "stderr",
     "output_type": "stream",
     "text": [
      "Needleman-Wunsch global alignment of two sequences\n",
      "Needleman-Wunsch global alignment of two sequences\n",
      "Needleman-Wunsch global alignment of two sequences\n",
      "Needleman-Wunsch global alignment of two sequences\n",
      "Needleman-Wunsch global alignment of two sequences\n",
      "Needleman-Wunsch global alignment of two sequences\n",
      "Needleman-Wunsch global alignment of two sequences\n",
      "Needleman-Wunsch global alignment of two sequences\n",
      "Needleman-Wunsch global alignment of two sequences\n"
     ]
    }
   ],
   "source": [
    "for each in pdbs_list\n",
    "    println(each)\n",
    "    out_filename = string(home, each, \"/alignment_\", each)\n",
    "    in_a = string(home, each, \"/canonical\")\n",
    "    in_b = string(home, each, \"/\", each, \".pir\")\n",
    "    run(`needle $in_a $in_b -gapopen 10.0 -gapextend 0.5 $out_filename`)\n",
    "end"
   ]
  },
  {
   "cell_type": "markdown",
   "metadata": {},
   "source": [
    "# Leo alineamiento"
   ]
  },
  {
   "cell_type": "code",
   "execution_count": 7,
   "metadata": {
    "scrolled": true
   },
   "outputs": [
    {
     "name": "stdout",
     "output_type": "stream",
     "text": [
      "1M14_A\n",
      "1M17_A\n",
      "1XKK_A\n",
      "2EB2_A\n",
      "2GS2_A\n",
      "2GS6_A\n",
      "2GS7_A\n",
      "2ITN_A\n",
      "2ITP_A\n",
      "2ITU_A\n",
      "2ITX_A\n",
      "2ITZ_A\n",
      "2J5F_A\n",
      "2RGP_A\n",
      "3BEL_A\n",
      "3GOP_A\n",
      "3GT8_A\n",
      "3GT8_C\n",
      "3IKA_A\n",
      "3IKA_B\n",
      "3LZB_A\n",
      "3UG1_A\n",
      "3VJN_A\n",
      "3W2O_A\n",
      "3W2R_A\n",
      "3W2S_A\n",
      "3W32_A\n",
      "3W33_A\n",
      "4G5J_A\n",
      "4I1Z_A\n",
      "4I22_A\n",
      "4I23_A\n",
      "4I24_A\n",
      "4LI5_A\n",
      "4LQM_A\n",
      "4R3P_A\n",
      "4R5S_A\n",
      "4RJ4_A\n",
      "4ZAU_A\n",
      "4ZJV_A\n",
      "5C8K_A\n",
      "5CAO_A\n",
      "5CAP_A\n",
      "5CAV_A\n",
      "5CNN_A\n",
      "5CNN_B\n",
      "5CNO_A\n",
      "5CZH_A\n",
      "5EDP_A\n",
      "5EM5_A\n",
      "5EM6_A\n",
      "5EM7_A\n",
      "5EM8_A\n",
      "5HG5_A\n",
      "5HG7_A\n",
      "5HG8_A\n",
      "5HIB_A\n",
      "5HIC_A\n"
     ]
    }
   ],
   "source": [
    "alineamientos = Array{Array{Any, 2}, 1}(length(pdbs_list))\n",
    "indices_mut = Array{Array{Int64, 1}, 1}(length(pdbs_list))\n",
    "indices_mis = Array{Array{Int64, 1}, 1}(length(pdbs_list))\n",
    "\n",
    "j = 0\n",
    "\n",
    "for each in pdbs_list\n",
    "    j += 1\n",
    "    println(each) \n",
    "    \n",
    "    in_seq_canonical = Array{AbstractString, 1}\n",
    "    in_seq_each = Array{AbstractString, 1}\n",
    "    in_mut_each = Array{AbstractString, 1}\n",
    "\n",
    "    seq_canonical = Array{AbstractString, 1}\n",
    "    seq_each = Array{AbstractString, 1}\n",
    "    mut_each = Array{AbstractString, 1}\n",
    "    \n",
    "    \n",
    "    # Leo archivo.\n",
    "    in_filename = string(home, each, \"/alignment_\", each)\n",
    "    alignment_file = open(in_filename)\n",
    "    lineas = readlines(alignment_file)\n",
    "\n",
    "    k = 0\n",
    "    # Ahora leo todas las líneas y tomo los arrays en bruto\n",
    "    for linea in lineas\n",
    "        k+=1\n",
    "        inicio = 31\n",
    "        final = length(lineas) - 3\n",
    "    \n",
    "        if inicio < k < final\n",
    "            n_linea = k - 31\n",
    "            altura = ((n_linea - 1 + 4) % 4)\n",
    "        \n",
    "            if altura == 0\n",
    "                in_seq_canonical = [ in_seq_canonical ; linea[22:end-7] ]\n",
    "            elseif altura == 1\n",
    "                in_mut_each = [ in_mut_each ; linea[22:end] ]\n",
    "            elseif altura == 2\n",
    "                in_seq_each = [ in_seq_each ; linea[22:end-7] ]\n",
    "            end\n",
    "        end\n",
    "    end\n",
    "    \n",
    "    # Paso las secuencias en bruto a arrays bien formados.\n",
    "    for i = 2:length(in_seq_canonical)\n",
    "        tmp_canonical = [ in_seq_canonical[i][j] for j = 1:length(in_seq_canonical[i]) ]\n",
    "        seq_canonical = [ seq_canonical ; tmp_canonical]\n",
    "    \n",
    "        tmp_each = [ in_seq_each[i][j] for j = 1:length(in_seq_each[i]) ]\n",
    "        seq_each = [ seq_each ; tmp_each]\n",
    "\n",
    "        tmp = [ in_mut_each[i][j] for j = 1:length(in_mut_each[i]) ]\n",
    "        mut_each = [ mut_each ; tmp]\n",
    "    end\n",
    "\n",
    "    # Determino q pdbs tienen mutaciones y en q posiciones.\n",
    "    tmp_indices_mut = findin(mut_each, \".\")\n",
    "    indices_mut[j] = tmp_indices_mut\n",
    "    \n",
    "    # Determino las regiones a modelar\n",
    "    tmp_indices_mis = findin(mut_each, \" \") .- 1\n",
    "    indices_mis[j] = tmp_indices_mis\n",
    "\n",
    "    # Guardo todo\n",
    "    alineamiento = [ seq_canonical seq_each mut_each ]\n",
    "    alineamientos[j] = alineamiento \n",
    "end"
   ]
  },
  {
   "cell_type": "markdown",
   "metadata": {},
   "source": [
    "# Hago las mutaciones en la secuencia original"
   ]
  },
  {
   "cell_type": "code",
   "execution_count": 8,
   "metadata": {},
   "outputs": [],
   "source": [
    "k = 0\n",
    "for each in indices_mut\n",
    "    k += 1\n",
    "    if length(each) != 0\n",
    "        for cada in each\n",
    "            alineamientos[k][cada, 1] = alineamientos[k][cada, 2]\n",
    "        end\n",
    "    end\n",
    "end"
   ]
  },
  {
   "cell_type": "markdown",
   "metadata": {},
   "source": [
    "# El array de las regiones a modelar enumera aminoácidos, lo paso a rangos"
   ]
  },
  {
   "cell_type": "code",
   "execution_count": 9,
   "metadata": {},
   "outputs": [],
   "source": [
    "regiones_mis = Array{Array{Array{Int64, 1}, 1}, 1}(length(pdbs_list))\n",
    "\n",
    "for i = 1:length(pdbs_list)\n",
    "    tmp_indices = Array{Int64}[]\n",
    "    primero = indices_mis[i][1]\n",
    "    for j = 1:length(indices_mis[i]) - 1\n",
    "\n",
    "        uno = indices_mis[i][j]\n",
    "        dos = indices_mis[i][j+1]\n",
    "        # ### \n",
    "        # Checkeo q no pase del 277\n",
    "        if uno > 277\n",
    "            break\n",
    "        elseif dos > 277\n",
    "            push!(tmp_indices, [ primero, uno ])\n",
    "            break\n",
    "        end\n",
    "        # ###\n",
    "        if (dos - uno) > 1\n",
    "            # Non-consecutive numbers        \n",
    "            push!(tmp_indices, [ primero, uno ])            \n",
    "            primero = dos            \n",
    "        elseif j == (length(indices_mis[i]) - 1)\n",
    "            # Last iteration\n",
    "            push!(tmp_indices, [ primero, uno ])\n",
    "        else\n",
    "            # Consecutive numbers\n",
    "            continue\n",
    "        end\n",
    "    end\n",
    "    regiones_mis[i] = tmp_indices\n",
    "end"
   ]
  },
  {
   "cell_type": "markdown",
   "metadata": {},
   "source": [
    "# Escribo el alineamiento p/ modelar"
   ]
  },
  {
   "cell_type": "code",
   "execution_count": 93,
   "metadata": {
    "scrolled": true
   },
   "outputs": [
    {
     "name": "stdout",
     "output_type": "stream",
     "text": [
      "1M14_A\n",
      "1M17_A\n",
      "1XKK_A\n",
      "2EB2_A\n",
      "2GS2_A\n",
      "2GS6_A\n",
      "2GS7_A\n",
      "2ITN_A\n",
      "2ITP_A\n",
      "2ITU_A\n",
      "2ITX_A\n",
      "2ITZ_A\n",
      "2J5F_A\n",
      "2RGP_A\n",
      "3BEL_A\n",
      "3GOP_A\n",
      "3GT8_A\n",
      "3GT8_C\n",
      "3IKA_A\n",
      "3IKA_B\n",
      "3LZB_A\n",
      "3UG1_A\n",
      "3VJN_A\n",
      "3W2O_A\n",
      "3W2R_A\n",
      "3W2S_A\n",
      "3W32_A\n",
      "3W33_A\n",
      "4G5J_A\n",
      "4I1Z_A\n",
      "4I22_A\n",
      "4I23_A\n",
      "4I24_A\n",
      "4LI5_A\n",
      "4LQM_A\n",
      "4R3P_A\n",
      "4R5S_A\n",
      "4RJ4_A\n",
      "4ZAU_A\n",
      "4ZJV_A\n",
      "5C8K_A\n",
      "5CAO_A\n",
      "5CAP_A\n",
      "5CAV_A\n",
      "5CNN_A\n",
      "5CNN_B\n",
      "5CNO_A\n",
      "5CZH_A\n",
      "5EDP_A\n",
      "5EM5_A\n",
      "5EM6_A\n",
      "5EM7_A\n",
      "5EM8_A\n",
      "5HG5_A\n",
      "5HG7_A\n",
      "5HG8_A\n",
      "5HIB_A\n",
      "5HIC_A\n"
     ]
    }
   ],
   "source": [
    "k = 0\n",
    "  \n",
    "for each in pdbs_list\n",
    "    k += 1\n",
    "    modelo = string(each, \"_full\")\n",
    "    out_filename = string(home, each, \"/to_model_\", each)\n",
    "    \n",
    "    println(each)\n",
    "\n",
    "    in_pdb_trj = Trajectory(string(home, each, \"/\", each, \".pdb\"))\n",
    "    in_pdb_frm = read(in_pdb_trj)\n",
    "    in_pdb_top = Topology(in_pdb_frm)\n",
    "    \n",
    "    aa = convert(Int64, count_residues(in_pdb_top))\n",
    "    npos = length(alineamientos[k][:, 1])\n",
    "    ids = convert(Array{Int64, 1}, [ id(Residue(in_pdb_top, i-1)) for i=1:aa ])\n",
    "    primer_aa = minimum(ids)\n",
    "    ultimo_aa = maximum(ids)\n",
    "    seq = seq_from_top(in_pdb_top)\n",
    "\n",
    "    open(out_filename, \"w\") do f\n",
    "        nlineas = convert(Int64, ceil(npos / 80))\n",
    "        \n",
    "        # 1era secuencia:\n",
    "        # Header\n",
    "        write(f, string(\">P1;\", each, \"\\n\"))\n",
    "        write(f, string(\"structureX:\", each, \":\", primer_aa, \":A:+\", aa, \":A:::-1.00:-1.00\\n\"))\n",
    "        # Sequence\n",
    "        \n",
    "        for i = 1:nlineas\n",
    "            uno = (i-1) * 80 + 2 # uno y ult tienen un desplazamiento de 1 unidad pq\n",
    "            ult = i * 80 + 1 # los vectores de las secuencias arrancan con un char vacío\n",
    "            try\n",
    "                write(f, alineamientos[k][:, 2][uno:ult])\n",
    "                write(f, \"\\n\")\n",
    "            catch e\n",
    "                write(f, alineamientos[k][:, 2][uno:end])\n",
    "                write(f, \"*\\n\\n\")\n",
    "            end\n",
    "        end\n",
    "    \n",
    "        # 2da secuencia:\n",
    "        # Header\n",
    "        write(f, string(\">P1;\", modelo, \"\\n\"))\n",
    "        write(f, string(\"sequence\", \":::::::::\\n\"))\n",
    "        # Sequence\n",
    "        for i = 1:nlineas\n",
    "            uno = (i-1) * 80 + 2 # uno y ult tienen un desplazamiento de 1 unidad pq\n",
    "            ult = i * 80 + 1 # los vectores de las secuencias arrancan con un char vacío\n",
    "            try\n",
    "                write(f, alineamientos[k][:, 1][uno:ult])\n",
    "                write(f, \"\\n\")\n",
    "            catch e \n",
    "                write(f, alineamientos[k][:, 1][uno:end])\n",
    "                write(f, \"*\\n\\n\")\n",
    "            end\n",
    "        end\n",
    "    end\n",
    "end"
   ]
  },
  {
   "cell_type": "markdown",
   "metadata": {},
   "source": [
    "# Escribo el script p/ modelar"
   ]
  },
  {
   "cell_type": "code",
   "execution_count": 96,
   "metadata": {
    "scrolled": true
   },
   "outputs": [
    {
     "name": "stdout",
     "output_type": "stream",
     "text": [
      "1M14_A\n",
      "1M17_A\n",
      "1XKK_A\n",
      "2EB2_A\n",
      "2GS2_A\n",
      "2GS6_A\n",
      "2GS7_A\n",
      "2ITN_A\n",
      "2ITP_A\n",
      "2ITU_A\n",
      "2ITX_A\n",
      "2ITZ_A\n",
      "2J5F_A\n",
      "2RGP_A\n",
      "3BEL_A\n",
      "3GOP_A\n",
      "3GT8_A\n",
      "3GT8_C\n",
      "3IKA_A\n",
      "3IKA_B\n",
      "3LZB_A\n",
      "3UG1_A\n",
      "3VJN_A\n",
      "3W2O_A\n",
      "3W2R_A\n",
      "3W2S_A\n",
      "3W32_A\n",
      "3W33_A\n",
      "4G5J_A\n",
      "4I1Z_A\n",
      "4I22_A\n",
      "4I23_A\n",
      "4I24_A\n",
      "4LI5_A\n",
      "4LQM_A\n",
      "4R3P_A\n",
      "4R5S_A\n",
      "4RJ4_A\n",
      "4ZAU_A\n",
      "4ZJV_A\n",
      "5C8K_A\n",
      "5CAO_A\n",
      "5CAP_A\n",
      "5CAV_A\n",
      "5CNN_A\n",
      "5CNN_B\n",
      "5CNO_A\n",
      "5CZH_A\n",
      "5EDP_A\n",
      "5EM5_A\n",
      "5EM6_A\n",
      "5EM7_A\n",
      "5EM8_A\n",
      "5HG5_A\n",
      "5HG7_A\n",
      "5HG8_A\n",
      "5HIB_A\n",
      "5HIC_A\n"
     ]
    }
   ],
   "source": [
    "k = 0\n",
    "each = \"1XKK_A\"\n",
    "\n",
    "for each in pdbs_list\n",
    "    k += 1\n",
    "    \n",
    "    println(each)\n",
    "\n",
    "    to_model_filename = string(home, each, \"/to_model_\", each)\n",
    "    modelo = string(each, \"_full\")\n",
    "    script_filename = string(home, each, \"/script_mod_\", each, \".py\")\n",
    "\n",
    "    open(script_filename, \"w\") do script_file\n",
    "        write(script_file, \"from modeller import *\\n\")\n",
    "        write(script_file, \"from modeller.automodel import *    # Load the automodel class\\n\")\n",
    "        write(script_file, \"\\n\")\n",
    "        write(script_file, \"log.verbose()\\n\")\n",
    "        write(script_file, \"env = environ()\\n\")\n",
    "        write(script_file, \"\\n\")\n",
    "        write(script_file, \"# directories for input atom files\\n\")\n",
    "        write(script_file, \"env.io.atom_files_directory = ['.', '../atom_files']\\n\")\n",
    "        write(script_file, \"\\n\")\n",
    "        write(script_file, \"class MyModel(automodel):\\n\")\n",
    "        write(script_file, \"\\tdef select_atoms(self):\\n\")\n",
    "\n",
    "\n",
    "        j = 0\n",
    "        n_regiones = length(regiones_mis[k])\n",
    "        for cada in regiones_mis[k]\n",
    "            j += 1\n",
    "            uno = cada[1]\n",
    "            dos = cada[2]\n",
    "\n",
    "            if j == 1\n",
    "                write(script_file, \"\\t\\treturn selection(self.residue_range('$uno', '$dos'),\\n\")\n",
    "            elseif j == n_regiones\n",
    "                write(script_file, \"\\t\\t\\tself.residue_range('$uno', '$dos'),)\\n\")\n",
    "            else\n",
    "                write(script_file, \"\\t\\t\\tself.residue_range('$uno', '$dos'),\\n\")\n",
    "            end\n",
    "        end\n",
    "\n",
    "        write(script_file, \"\\n\")\n",
    "        write(script_file, \"\\n\")\n",
    "        write(script_file, \"a = MyModel(env, alnfile = '$to_model_filename',\\n\")\n",
    "        write(script_file, \"            knowns = '$each', sequence = '$modelo')\\n\")\n",
    "        write(script_file, \"a.starting_model= 1\\n\")\n",
    "        write(script_file, \"a.ending_model  = 1\\n\")\n",
    "        write(script_file, \"\\n\")\n",
    "        write(script_file, \"a.make()\\n\")\n",
    "    end\n",
    "end"
   ]
  },
  {
   "cell_type": "code",
   "execution_count": 12,
   "metadata": {},
   "outputs": [
    {
     "name": "stderr",
     "output_type": "stream",
     "text": [
      "Could not find platform independent libraries <prefix>\n",
      "Could not find platform dependent libraries <exec_prefix>\n",
      "Consider setting $PYTHONHOME to <prefix>[:<exec_prefix>]\n",
      "'import site' failed; use -v for traceback\n",
      "  File \"/home/german/labo/18/egfr/model/1XKK_A/model_1XKK_A.py\", line 14\n",
      "    a = MyModel(env, alnfile = '/home/german/labo/18/egfr/model/1XKK_A/to_model_1XKK_A',\n",
      "    ^\n",
      "IndentationError: expected an indented block\n"
     ]
    },
    {
     "ename": "LoadError",
     "evalue": "\u001b[91mfailed process: Process(`mod9.19 /home/german/labo/18/egfr/model/1XKK_A/model_1XKK_A.py`, ProcessExited(1)) [1]\u001b[39m",
     "output_type": "error",
     "traceback": [
      "\u001b[91mfailed process: Process(`mod9.19 /home/german/labo/18/egfr/model/1XKK_A/model_1XKK_A.py`, ProcessExited(1)) [1]\u001b[39m",
      "",
      "Stacktrace:",
      " [1] \u001b[1mpipeline_error\u001b[22m\u001b[22m\u001b[1m(\u001b[22m\u001b[22m::Base.Process\u001b[1m)\u001b[22m\u001b[22m at \u001b[1m./process.jl:682\u001b[22m\u001b[22m",
      " [2] \u001b[1mrun\u001b[22m\u001b[22m\u001b[1m(\u001b[22m\u001b[22m::Cmd\u001b[1m)\u001b[22m\u001b[22m at \u001b[1m./process.jl:651\u001b[22m\u001b[22m",
      " [3] \u001b[1minclude_string\u001b[22m\u001b[22m\u001b[1m(\u001b[22m\u001b[22m::String, ::String\u001b[1m)\u001b[22m\u001b[22m at \u001b[1m./loading.jl:515\u001b[22m\u001b[22m"
     ]
    }
   ],
   "source": [
    "run(`mod9.19 $script_filename`)"
   ]
  }
 ],
 "metadata": {
  "kernelspec": {
   "display_name": "Julia 0.6.0",
   "language": "julia",
   "name": "julia-0.6"
  },
  "language_info": {
   "file_extension": ".jl",
   "mimetype": "application/julia",
   "name": "julia",
   "version": "0.6.0"
  }
 },
 "nbformat": 4,
 "nbformat_minor": 2
}
