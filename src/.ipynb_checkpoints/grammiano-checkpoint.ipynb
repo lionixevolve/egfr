{
 "cells": [
  {
   "cell_type": "code",
   "execution_count": 1,
   "metadata": {},
   "outputs": [
    {
     "name": "stderr",
     "output_type": "stream",
     "text": [
      "WARNING: Method definition midpoints(Base.Range{T} where T) in module Base at deprecated.jl:56 overwritten in module StatsBase at /home/german/.julia/v0.6/StatsBase/src/hist.jl:535.\n",
      "WARNING: Method definition midpoints(AbstractArray{T, 1} where T) in module Base at deprecated.jl:56 overwritten in module StatsBase at /home/german/.julia/v0.6/StatsBase/src/hist.jl:533.\n"
     ]
    },
    {
     "data": {
      "text/plain": [
       "277"
      ]
     },
     "execution_count": 1,
     "metadata": {},
     "output_type": "execute_result"
    }
   ],
   "source": [
    "using DataFrames\n",
    "using Chemfiles\n",
    "\n",
    "home = \"/home/german/labo/18/egfr/modos/\"\n",
    "rehome = \"/home/german/labo/18/egfr/gram/\"\n",
    "aa = 277"
   ]
  },
  {
   "cell_type": "code",
   "execution_count": 46,
   "metadata": {},
   "outputs": [
    {
     "data": {
      "text/plain": [
       "tognm (generic function with 1 method)"
      ]
     },
     "execution_count": 46,
     "metadata": {},
     "output_type": "execute_result"
    }
   ],
   "source": [
    "function tognm(vtor_anm)\n",
    "    vtor_gnm = Array{Float64}(convert(Int64, length(vtor_anm)/3));\n",
    "    vtor_anm =  vtor_anm.^2\n",
    "    for i=1:convert(Int64, length(vtor_anm)/3)\n",
    "        vtor_gnm[i] = sqrt(vtor_anm[i*3-2] + vtor_anm[i*3-1] + vtor_anm[i*3])\n",
    "    end\n",
    "    return vtor_gnm\n",
    "end"
   ]
  },
  {
   "cell_type": "code",
   "execution_count": 2,
   "metadata": {},
   "outputs": [
    {
     "data": {
      "text/plain": [
       "qgrammian0 (generic function with 2 methods)"
      ]
     },
     "execution_count": 2,
     "metadata": {},
     "output_type": "execute_result"
    }
   ],
   "source": [
    "function qgrammian0(mtx_1, mtx_2, weight_1 = 0)\n",
    "    # Projects mtx_1 onto mtx_2 and gets the mean of the elements in the diagonal.\n",
    "    if size(mtx_1)[1] != size(mtx_2)[1]\n",
    "        println(\"Length of matrices columns must be the same. Aborting.\")\n",
    "        return 0\n",
    "    end\n",
    "    \n",
    "    mtx_g = transpose(mtx_1) * mtx_2 * transpose(mtx_2) * mtx_1\n",
    "      \n",
    "    if weight_1 != 0\n",
    "        # Weights were specified\n",
    "        if length(weight_1) != size(mtx_1)[2]\n",
    "            println(\"There must be as many weights as columns. Aborting.\")\n",
    "            return 0\n",
    "        end\n",
    "        weighted = diag(mtx_g) .* weight_1\n",
    "        zeta = sum(weighted)\n",
    "    else\n",
    "        zeta = mean(diag(mtx_g))   \n",
    "    end\n",
    "    \n",
    "    \n",
    "    return zeta\n",
    "end"
   ]
  },
  {
   "cell_type": "code",
   "execution_count": 32,
   "metadata": {},
   "outputs": [
    {
     "data": {
      "text/plain": [
       "96"
      ]
     },
     "execution_count": 32,
     "metadata": {},
     "output_type": "execute_result"
    }
   ],
   "source": [
    "# Leo nombres de structuras\n",
    "tmp = readdlm(string(rehome, \"/pdbs.list\"))\n",
    "pdbs_list = convert(Array{String, 1}, reshape(tmp, length(tmp)));\n",
    "aa = 277\n",
    "aa_3 = aa * 3\n",
    "aa_36 = aa_3 - 6\n",
    "structs = length(pdbs_list)\n",
    "\n",
    "# Leo activas e inactivas\n",
    "tmp = readdlm(string(rehome, \"/am.list\"))\n",
    "am_list = convert(Array{String, 1}, reshape(tmp, length(tmp)));\n",
    "\n",
    "tmp = readdlm(string(rehome, \"/im.list\"))\n",
    "im_list = convert(Array{String, 1}, reshape(tmp, length(tmp)));\n",
    "\n",
    "# Leo nonmissing residuos de pocket\n",
    "tmp = readdlm(string(rehome, \"nonmis_aa_pocket\"))\n",
    "nonmis_aa_pocket = convert(Array{Int64, 1}, reshape(tmp, length(tmp)))\n",
    "\n",
    "aa_pocket_nonmis = length(nonmis_aa_pocket)\n",
    "aa_3_pocket_nonmis = aa_pocket_nonmis * 3\n",
    "\n",
    "nonmis_aa_pocket_3 = Array{Int64}(aa_3_pocket_nonmis)\n",
    "for i = 1:aa_pocket_nonmis\n",
    "    nonmis_aa_pocket_3[3*i - 2] = nonmis_aa_pocket[i] * 3\n",
    "    nonmis_aa_pocket_3[3*i - 1] = nonmis_aa_pocket[i] * 3 + 1\n",
    "    nonmis_aa_pocket_3[3*i] = nonmis_aa_pocket[i] * 3 + 2\n",
    "end"
   ]
  },
  {
   "cell_type": "code",
   "execution_count": 67,
   "metadata": {},
   "outputs": [],
   "source": [
    "pesos = Array{Float64, 2}(aa_36, structs)\n",
    "\n",
    "for i = 1:structs\n",
    "    each = pdbs_list[i]\n",
    "\n",
    "    modos = readdlm(string(rehome, each, \"/\", \"modos_\", each))[:, 1:aa_36]\n",
    "    pesos[:, i] = [ norm(modos[nonmis_aa_pocket_3, k]) for k = 1:aa_36 ]\n",
    "    pesos[:, i] = pesos[:, i] ./ sum(pesos[:, i])\n",
    "end"
   ]
  },
  {
   "cell_type": "code",
   "execution_count": null,
   "metadata": {},
   "outputs": [],
   "source": [
    "am_zeta = Array{Float64, 2}(length(am_list) - 1, length(am_list))\n",
    "\n",
    "for i = 1:length(am_list)\n",
    "    each = am_list[i]\n",
    "    for j = i+1:length(am_list)\n",
    "        cada = am_list[j]\n",
    "\n",
    "        modos_1 = readdlm(string(rehome, each, \"/\", \"modos_\", each))[:, 1:aa_36]\n",
    "        modos_2 = readdlm(string(rehome, each, \"/\", each, \"_\", cada, \"_ord\"))[:, 1:aa_36]\n",
    "\n",
    "        am_zeta[j-1, i] = qgrammian0(modos_1, modos_2, pesos[:, j])\n",
    "    end\n",
    "end"
   ]
  },
  {
   "cell_type": "code",
   "execution_count": null,
   "metadata": {
    "collapsed": true
   },
   "outputs": [],
   "source": [
    "am_zeta = Array{Float64, 2}(length(am_list) - 1, length(am_list))\n",
    "\n",
    "for i = 1:length(am_list)\n",
    "    each = am_list[i]\n",
    "    for j = i+1:length(am_list)\n",
    "        cada = am_list[j]\n",
    "\n",
    "        modos_1 = readdlm(string(rehome, each, \"/\", \"modos_\", each))[:, 1:aa_36]\n",
    "        modos_2 = readdlm(string(rehome, each, \"/\", each, \"_\", cada, \"_ord\"))[:, 1:aa_36]\n",
    "\n",
    "        am_zeta[j-1, i] = qgrammian0(modos_1, modos_2, pesos[:, j])\n",
    "    end\n",
    "end"
   ]
  },
  {
   "cell_type": "code",
   "execution_count": 75,
   "metadata": {},
   "outputs": [
    {
     "data": {
      "text/plain": [
       "34×35 Array{Float64,2}:\n",
       " 6.95318e-310  0.999999      0.999997      …    0.999993        0.999917    \n",
       " 6.91806e-310  6.91803e-310  6.91805e-310       7.48238e-316    6.91803e-310\n",
       " 6.95318e-310  0.0           6.91803e-310       7.48238e-316    6.91803e-310\n",
       " 6.91803e-310  0.0           6.91805e-310       2.122e-314      6.91803e-310\n",
       " 6.91806e-310  0.0           6.91803e-310       6.91792e-310    6.91803e-310\n",
       " 6.91806e-310  1.09035e-319  0.0           …    8.70424e-316    6.91803e-310\n",
       " 6.95318e-310  6.91805e-310  0.0                6.91803e-310    6.91803e-310\n",
       " 6.91806e-310  1.08694e-322  6.95318e-310       6.91803e-310    6.91803e-310\n",
       " 6.95318e-310  6.95318e-310  6.91803e-310       6.91806e-310    6.91803e-310\n",
       " 3.34826e-284  0.0           4.94066e-324       6.91806e-310    6.91803e-310\n",
       " 6.91803e-310  0.0           6.91805e-310  …    6.91803e-310  NaN           \n",
       " 6.91806e-310  0.0           6.91806e-310       6.91806e-310    6.91803e-310\n",
       " 6.91806e-310  0.0           6.95318e-310       6.91803e-310    6.91803e-310\n",
       " ⋮                                         ⋱                                \n",
       " 6.95318e-310  6.91806e-310  0.0              NaN               6.91803e-310\n",
       " 6.91806e-310  6.91805e-310  6.95318e-310       6.91803e-310    6.91806e-310\n",
       " 6.95318e-310  6.95318e-310  6.91803e-310       6.91803e-310    6.91806e-310\n",
       " 6.91803e-310  6.91806e-310  6.91805e-310  …    6.91803e-310    6.91803e-310\n",
       " 6.91806e-310  6.95318e-310  6.91803e-310       6.91803e-310    6.91806e-310\n",
       " 6.91806e-310  1.18576e-322  6.91805e-310       6.91803e-310    6.91803e-310\n",
       " 6.95318e-310  6.95318e-310  6.91803e-310       6.91806e-310    6.91803e-310\n",
       " 6.91806e-310  0.0           6.91803e-310       6.91806e-310    6.91803e-310\n",
       " 6.95318e-310  0.0           0.0           …    6.91803e-310    6.91803e-310\n",
       " 3.34826e-284  6.91803e-310  0.0                6.91806e-310    6.91803e-310\n",
       " 6.91803e-310  6.91803e-310  0.0                6.91806e-310  NaN           \n",
       " 6.95318e-310  6.91805e-310  6.91803e-310       6.91803e-310    6.91806e-310"
      ]
     },
     "execution_count": 75,
     "metadata": {},
     "output_type": "execute_result"
    }
   ],
   "source": [
    "im_zeta = Array{Float64, 2}(length(im_list) - 1, length(im_list))\n",
    "\n",
    "for i = 1:length(im_list)\n",
    "    each = im_list[i]\n",
    "    for j = 2:length(im_list)\n",
    "        cada = im_list[j]\n",
    "\n",
    "        modos_1 = readdlm(string(rehome, each, \"/\", \"modos_\", each))[:, 1:aa_36]\n",
    "        modos_2 = readdlm(string(rehome, each, \"/\", each, \"_\", cada, \"_ord\"))[:, 1:aa_36]\n",
    "\n",
    "        im_zeta[j-1, i] = qgrimmian0(modos_1, modos_2, pesos[:, j])\n",
    "    end\n",
    "end"
   ]
  },
  {
   "cell_type": "code",
   "execution_count": 42,
   "metadata": {},
   "outputs": [
    {
     "data": {
      "text/plain": [
       "96-element Array{Int64,1}:\n",
       "  60\n",
       "  61\n",
       "  62\n",
       "  63\n",
       "  64\n",
       "  65\n",
       " 285\n",
       " 286\n",
       " 287\n",
       " 291\n",
       " 292\n",
       " 293\n",
       " 294\n",
       "   ⋮\n",
       " 633\n",
       " 634\n",
       " 635\n",
       " 636\n",
       " 637\n",
       " 638\n",
       " 654\n",
       " 655\n",
       " 656\n",
       " 657\n",
       " 658\n",
       " 659"
      ]
     },
     "execution_count": 42,
     "metadata": {},
     "output_type": "execute_result"
    }
   ],
   "source": [
    "nonmis_aa_pocket_3"
   ]
  },
  {
   "cell_type": "code",
   "execution_count": 57,
   "metadata": {},
   "outputs": [
    {
     "data": {
      "text/plain": [
       "1"
      ]
     },
     "execution_count": 57,
     "metadata": {},
     "output_type": "execute_result"
    }
   ],
   "source": [
    "k = 1"
   ]
  },
  {
   "cell_type": "code",
   "execution_count": 54,
   "metadata": {},
   "outputs": [
    {
     "data": {
      "text/plain": [
       "0.9999997234320002"
      ]
     },
     "execution_count": 54,
     "metadata": {},
     "output_type": "execute_result"
    }
   ],
   "source": [
    "sum(modos_1[:, i] .^ 2)"
   ]
  },
  {
   "cell_type": "code",
   "execution_count": 56,
   "metadata": {},
   "outputs": [
    {
     "data": {
      "text/plain": [
       "0.3089929856064697"
      ]
     },
     "execution_count": 56,
     "metadata": {},
     "output_type": "execute_result"
    }
   ],
   "source": [
    "sqrt(sum(modos_1[nonmis_aa_pocket_3, i] .^ 2))"
   ]
  },
  {
   "cell_type": "code",
   "execution_count": 58,
   "metadata": {},
   "outputs": [
    {
     "ename": "LoadError",
     "evalue": "\u001b[91mUndefVarError: modos not defined\u001b[39m",
     "output_type": "error",
     "traceback": [
      "\u001b[91mUndefVarError: modos not defined\u001b[39m",
      "",
      "Stacktrace:",
      " [1] \u001b[1mcollect\u001b[22m\u001b[22m\u001b[1m(\u001b[22m\u001b[22m::Base.Generator{UnitRange{Int64},##11#12}\u001b[1m)\u001b[22m\u001b[22m at \u001b[1m./array.jl:441\u001b[22m\u001b[22m",
      " [2] \u001b[1minclude_string\u001b[22m\u001b[22m\u001b[1m(\u001b[22m\u001b[22m::String, ::String\u001b[1m)\u001b[22m\u001b[22m at \u001b[1m./loading.jl:515\u001b[22m\u001b[22m"
     ]
    }
   ],
   "source": []
  }
 ],
 "metadata": {
  "kernelspec": {
   "display_name": "Julia 0.6.0",
   "language": "julia",
   "name": "julia-0.6"
  },
  "language_info": {
   "file_extension": ".jl",
   "mimetype": "application/julia",
   "name": "julia",
   "version": "0.6.0"
  }
 },
 "nbformat": 4,
 "nbformat_minor": 2
}
