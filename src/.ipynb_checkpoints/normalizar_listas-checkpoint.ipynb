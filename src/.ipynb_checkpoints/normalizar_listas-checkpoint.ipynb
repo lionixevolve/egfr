{
 "cells": [
  {
   "cell_type": "code",
   "execution_count": 21,
   "metadata": {},
   "outputs": [],
   "source": [
    "using DataFrames\n",
    "using CSVFiles\n",
    "using FileIO"
   ]
  },
  {
   "cell_type": "code",
   "execution_count": 2,
   "metadata": {
    "collapsed": true
   },
   "outputs": [],
   "source": [
    "as = readdlm(\"../pdbs/con_datos_pdbs.list\")\n",
    "lista = readdlm(\"../pdbs/pdbs.list\");"
   ]
  },
  {
   "cell_type": "code",
   "execution_count": 3,
   "metadata": {
    "collapsed": true
   },
   "outputs": [],
   "source": [
    "rtdo = DataFrame([])\n",
    "for i=1:58\n",
    "    for j=1:138\n",
    "        if as[j, 1] == lista[i, 1][1:6]\n",
    "            rtdo = [ rtdo ; reshape(as[j, :], 1, 6) ]\n",
    "        end\n",
    "    end\n",
    "end\n",
    "rtdo = rtdo[2:end, :];"
   ]
  },
  {
   "cell_type": "code",
   "execution_count": 4,
   "metadata": {
    "collapsed": true
   },
   "outputs": [],
   "source": [
    "rtdo2 = DataFrame(AbstractString, 58, 2)\n",
    "for i=1:58\n",
    "    for j = 1:6\n",
    "        rtdo2[i, 1] = rtdo[i, 1]\n",
    "        if rtdo[i, j] == \"AD-A\"\n",
    "            rtdo2[i, 2] = \"AM\"\n",
    "            break \n",
    "        elseif rtdo[i, j] == \"AD-B\"\n",
    "            rtdo2[i, 2] = \"IM\"\n",
    "            break \n",
    "        elseif rtdo[i, j] == \"ID-Mig\"\n",
    "            rtdo2[i, 2] = \"IM\"\n",
    "            break \n",
    "        elseif rtdo[i, j] == \"ID\"\n",
    "            rtdo2[i, 2] = \"IM\"\n",
    "            break \n",
    "        elseif length(rtdo[i, j]) == 2\n",
    "            rtdo2[i, 2] = rtdo[i, j]\n",
    "            break\n",
    "        elseif rtdo[i, j] == \"HOD\"\n",
    "            rtdo2[i, 2] = \"IM\"\n",
    "            break \n",
    "        elseif rtdo[i, j] == \"IM-AM\"\n",
    "            rtdo2[i, 2] = rtdo[i, j]\n",
    "            break \n",
    "        end\n",
    "    end\n",
    "end"
   ]
  },
  {
   "cell_type": "code",
   "execution_count": 5,
   "metadata": {},
   "outputs": [],
   "source": [
    "am_list = rtdo2[rtdo2[:, 2] .== \"AM\", :] \n",
    "im_list = rtdo2[rtdo2[:, 2] .== \"IM\", :] \n",
    "mm_list = rtdo2[rtdo2[:, 2] .== \"IM-AM\", :];"
   ]
  },
  {
   "cell_type": "code",
   "execution_count": 45,
   "metadata": {
    "collapsed": true
   },
   "outputs": [],
   "source": [
    "writedlm(\"../pdbs/am.list\", am_list[:, 1])\n",
    "writedlm(\"../pdbs/am.list\", im_list[:, 1])\n",
    "writedlm(\"../pdbs/am.list\", mm_list[:, 1])"
   ]
  },
  {
   "cell_type": "markdown",
   "metadata": {},
   "source": [
    "save(\"../pdbs/am.list.csv\", am_list[:, 1], quotechar = nothing, delim = ' ', header = false)\n",
    "run(`mv ../pdbs/am.list.csv ../pdbs/am.list`)\n",
    "\n",
    "save(\"../pdbs/im.list.csv\", im_list, quotechar = nothing, delim = ' ', header = false)\n",
    "run(`mv ../pdbs/im.list.csv ../pdbs/im.list`)\n",
    "\n",
    "save(\"../pdbs/mm.list.csv\", mm_list, quotechar = nothing, delim = ' ', header = false)\n",
    "run(`mv ../pdbs/mm.list.csv ../pdbs/mm.list`)"
   ]
  },
  {
   "cell_type": "code",
   "execution_count": null,
   "metadata": {
    "collapsed": true
   },
   "outputs": [],
   "source": []
  }
 ],
 "metadata": {
  "kernelspec": {
   "display_name": "Julia 0.6.0",
   "language": "julia",
   "name": "julia-0.6"
  },
  "language_info": {
   "file_extension": ".jl",
   "mimetype": "application/julia",
   "name": "julia",
   "version": "0.6.0"
  }
 },
 "nbformat": 4,
 "nbformat_minor": 2
}
