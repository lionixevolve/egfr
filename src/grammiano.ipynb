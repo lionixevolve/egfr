{
 "cells": [
  {
   "cell_type": "code",
   "execution_count": 9,
   "metadata": {},
   "outputs": [
    {
     "data": {
      "text/plain": [
       "277"
      ]
     },
     "execution_count": 9,
     "metadata": {},
     "output_type": "execute_result"
    }
   ],
   "source": [
    "using DataFrames\n",
    "using Chemfiles\n",
    "\n",
    "home = \"/home/german/labo/18/egfr/modos/\"\n",
    "rehome = \"/home/german/labo/18/egfr/gram/\"\n",
    "aa = 277"
   ]
  },
  {
   "cell_type": "code",
   "execution_count": 10,
   "metadata": {},
   "outputs": [
    {
     "data": {
      "text/plain": [
       "tognm (generic function with 1 method)"
      ]
     },
     "execution_count": 10,
     "metadata": {},
     "output_type": "execute_result"
    }
   ],
   "source": [
    "function tognm(vtor_anm)\n",
    "    vtor_gnm = Array{Float64}(convert(Int64, length(vtor_anm)/3));\n",
    "    vtor_anm =  vtor_anm.^2\n",
    "    for i=1:convert(Int64, length(vtor_anm)/3)\n",
    "        vtor_gnm[i] = sqrt(vtor_anm[i*3-2] + vtor_anm[i*3-1] + vtor_anm[i*3])\n",
    "    end\n",
    "    return vtor_gnm\n",
    "end"
   ]
  },
  {
   "cell_type": "code",
   "execution_count": 11,
   "metadata": {},
   "outputs": [
    {
     "data": {
      "text/plain": [
       "qgrammian0 (generic function with 2 methods)"
      ]
     },
     "execution_count": 11,
     "metadata": {},
     "output_type": "execute_result"
    }
   ],
   "source": [
    "function qgrammian0(mtx_1, mtx_2, weight_1 = 0)\n",
    "    # Projects mtx_1 onto mtx_2 and gets the mean of the elements in the diagonal.\n",
    "    if size(mtx_1)[1] != size(mtx_2)[1]\n",
    "        println(\"Length of matrices columns must be the same. Aborting.\")\n",
    "        return 0\n",
    "    end\n",
    "    \n",
    "    mtx_g = transpose(mtx_1) * mtx_2 * transpose(mtx_2) * mtx_1\n",
    "      \n",
    "    if weight_1 != 0\n",
    "        # Weights were specified\n",
    "        if length(weight_1) != size(mtx_1)[2]\n",
    "            println(\"There must be as many weights as columns. Aborting.\")\n",
    "            return 0\n",
    "        end\n",
    "        weighted = diag(mtx_g) .* weight_1\n",
    "        zeta = sum(weighted)\n",
    "    else\n",
    "        zeta = mean(diag(mtx_g))   \n",
    "    end\n",
    "    \n",
    "    \n",
    "    return zeta\n",
    "end"
   ]
  },
  {
   "cell_type": "code",
   "execution_count": 12,
   "metadata": {
    "collapsed": true
   },
   "outputs": [],
   "source": [
    "# Leo nombres de structuras\n",
    "tmp = readdlm(string(rehome, \"/pdbs.list\"))\n",
    "pdbs_list = convert(Array{String, 1}, reshape(tmp, length(tmp)));\n",
    "aa = 277\n",
    "aa_3 = aa * 3\n",
    "aa_36 = aa_3 - 6\n",
    "structs = length(pdbs_list)\n",
    "\n",
    "# Leo activas e inactivas\n",
    "tmp = readdlm(string(rehome, \"/am.list\"))\n",
    "am_list = convert(Array{String, 1}, reshape(tmp, length(tmp)));\n",
    "\n",
    "tmp = readdlm(string(rehome, \"/im.list\"))\n",
    "im_list = convert(Array{String, 1}, reshape(tmp, length(tmp)));"
   ]
  },
  {
   "cell_type": "code",
   "execution_count": 13,
   "metadata": {
    "collapsed": true
   },
   "outputs": [],
   "source": [
    "# Leo nonmissing residuos de pocket\n",
    "tmp = readdlm(string(rehome, \"nonmis_aa_pocket\"))\n",
    "nonmis_aa_pocket = convert(Array{Int64, 1}, reshape(tmp, length(tmp)))\n",
    "\n",
    "aa_pocket_nonmis = length(nonmis_aa_pocket)\n",
    "aa_3_pocket_nonmis = aa_pocket_nonmis * 3\n",
    "\n",
    "nonmis_aa_pocket_3 = Array{Int64}(aa_3_pocket_nonmis)\n",
    "for i = 1:aa_pocket_nonmis\n",
    "    nonmis_aa_pocket_3[3*i - 2] = nonmis_aa_pocket[i] * 3\n",
    "    nonmis_aa_pocket_3[3*i - 1] = nonmis_aa_pocket[i] * 3 + 1\n",
    "    nonmis_aa_pocket_3[3*i] = nonmis_aa_pocket[i] * 3 + 2\n",
    "end\n",
    "\n",
    "# Leo todos los residuos de pocket\n",
    "tmp = readdlm(string(rehome, \"aa_pocket\"))\n",
    "aa_pocket = convert(Array{Int64, 1}, reshape(tmp, length(tmp)))\n",
    "\n",
    "aa_pocket_nonmis = length(aa_pocket)\n",
    "aa_3_pocket_nonmis = aa_pocket_nonmis * 3\n",
    "\n",
    "aa_pocket_3 = Array{Int64}(aa_3_pocket_nonmis)\n",
    "for i = 1:aa_pocket_nonmis\n",
    "    aa_pocket_3[3*i - 2] = aa_pocket[i] * 3\n",
    "    aa_pocket_3[3*i - 1] = aa_pocket[i] * 3 + 1\n",
    "    aa_pocket_3[3*i] = aa_pocket[i] * 3 + 2\n",
    "end"
   ]
  },
  {
   "cell_type": "markdown",
   "metadata": {},
   "source": [
    "## Versión con los residuos nonmissing del pocket"
   ]
  },
  {
   "cell_type": "code",
   "execution_count": 5,
   "metadata": {
    "collapsed": true
   },
   "outputs": [],
   "source": [
    "am_pesos = Array{Float64, 2}(aa_36, length(am_list))\n",
    "\n",
    "for i = 1:length(am_list)\n",
    "    each = am_list[i]\n",
    "\n",
    "    modos = readdlm(string(rehome, each, \"/\", \"modos_\", each))[:, 1:aa_36]\n",
    "    am_pesos[:, i] = [ norm(modos[nonmis_aa_pocket_3, k]) for k = 1:aa_36 ]\n",
    "    am_pesos[:, i] = am_pesos[:, i] ./ sum(am_pesos[:, i])\n",
    "end"
   ]
  },
  {
   "cell_type": "code",
   "execution_count": 6,
   "metadata": {
    "collapsed": true
   },
   "outputs": [],
   "source": [
    "im_pesos = Array{Float64, 2}(aa_36, length(im_list))\n",
    "\n",
    "for i = 1:length(im_list)\n",
    "    each = im_list[i]\n",
    "\n",
    "    modos = readdlm(string(rehome, each, \"/\", \"modos_\", each))[:, 1:aa_36]\n",
    "    im_pesos[:, i] = [ norm(modos[nonmis_aa_pocket_3, k]) for k = 1:aa_36 ]\n",
    "    im_pesos[:, i] = im_pesos[:, i] ./ sum(im_pesos[:, i])\n",
    "end"
   ]
  },
  {
   "cell_type": "markdown",
   "metadata": {},
   "source": [
    "## Versión con todos los residuos del pocket"
   ]
  },
  {
   "cell_type": "code",
   "execution_count": 14,
   "metadata": {},
   "outputs": [],
   "source": [
    "am_pesos = Array{Float64, 2}(aa_36, length(am_list))\n",
    "\n",
    "for i = 1:length(am_list)\n",
    "    each = am_list[i]\n",
    "\n",
    "    modos = readdlm(string(rehome, each, \"/\", \"modos_\", each))[:, 1:aa_36]\n",
    "    am_pesos[:, i] = [ norm(modos[aa_pocket_3, k]) for k = 1:aa_36 ]\n",
    "    am_pesos[:, i] = am_pesos[:, i] ./ sum(am_pesos[:, i])\n",
    "end"
   ]
  },
  {
   "cell_type": "code",
   "execution_count": 15,
   "metadata": {
    "collapsed": true
   },
   "outputs": [],
   "source": [
    "im_pesos = Array{Float64, 2}(aa_36, length(im_list))\n",
    "\n",
    "for i = 1:length(im_list)\n",
    "    each = im_list[i]\n",
    "\n",
    "    modos = readdlm(string(rehome, each, \"/\", \"modos_\", each))[:, 1:aa_36]\n",
    "    im_pesos[:, i] = [ norm(modos[aa_pocket_3, k]) for k = 1:aa_36 ]\n",
    "    im_pesos[:, i] = im_pesos[:, i] ./ sum(im_pesos[:, i])\n",
    "end"
   ]
  },
  {
   "cell_type": "markdown",
   "metadata": {},
   "source": [
    "## Obtengo los zeta vals"
   ]
  },
  {
   "cell_type": "code",
   "execution_count": 16,
   "metadata": {
    "collapsed": true
   },
   "outputs": [],
   "source": [
    "am_zeta = zeros(length(am_list) - 1, length(am_list) - 1)\n",
    "\n",
    "for i = 1:length(am_list)\n",
    "    each = am_list[i]\n",
    "    for j = i+1:length(am_list)\n",
    "        cada = am_list[j]\n",
    "\n",
    "        modos_1 = readdlm(string(rehome, each, \"/\", \"modos_\", each))[:, 1:aa_36]\n",
    "        modos_2 = readdlm(string(rehome, each, \"/\", each, \"_\", cada, \"_ord\"))[:, 1:aa_36]\n",
    "\n",
    "        am_zeta[j-1, i] = qgrammian0(modos_1, modos_2, am_pesos[:, j])\n",
    "    end\n",
    "end"
   ]
  },
  {
   "cell_type": "code",
   "execution_count": 17,
   "metadata": {
    "collapsed": true
   },
   "outputs": [],
   "source": [
    "im_zeta = zeros(length(im_list) - 1, length(im_list) - 1)\n",
    "\n",
    "for i = 1:length(im_list)\n",
    "    each = im_list[i]\n",
    "    for j = i+1:length(im_list)\n",
    "        cada = im_list[j]\n",
    "\n",
    "        modos_1 = readdlm(string(rehome, each, \"/\", \"modos_\", each))[:, 1:aa_36]\n",
    "        modos_2 = readdlm(string(rehome, each, \"/\", each, \"_\", cada, \"_ord\"))[:, 1:aa_36]\n",
    "\n",
    "        im_zeta[j-1, i] = qgrammian0(modos_1, modos_2, im_pesos[:, j])\n",
    "    end\n",
    "end"
   ]
  },
  {
   "cell_type": "code",
   "execution_count": 20,
   "metadata": {},
   "outputs": [
    {
     "data": {
      "text/plain": [
       "825×15 Array{Float64,2}:\n",
       " 0.000821179  0.00139029   0.000878193  …  0.00075967   0.000320683\n",
       " 0.00101854   0.00156213   0.00121529      0.00147416   0.000583021\n",
       " 0.00108597   0.000987874  0.000848967     0.00115515   0.000340568\n",
       " 0.000855051  0.00146671   0.000979457     0.00116796   0.000763678\n",
       " 0.000842752  0.00218525   0.000483899     0.000970831  0.00039242 \n",
       " 0.000829664  0.0013982    0.00100791   …  0.000904448  0.000924051\n",
       " 0.000796267  0.0012323    0.000918887     0.00160569   0.00131339 \n",
       " 0.000969446  0.00134088   0.000541578     0.00129438   0.000982642\n",
       " 0.00128948   0.00116079   0.00157887      0.0010332    0.00130366 \n",
       " 0.00135483   0.000977449  0.00158905      0.00125061   0.00157859 \n",
       " 0.000784397  0.00114147   0.00141863   …  0.00181325   0.000718203\n",
       " 0.000985989  0.00106184   0.000975283     0.00136798   0.0012242  \n",
       " 0.00128666   0.00105374   0.00130973      0.000780017  0.00134622 \n",
       " ⋮                                      ⋱                          \n",
       " 0.00116067   0.0012921    0.00129843      0.00201625   0.00132431 \n",
       " 0.00102278   0.000808888  0.000919632     0.00138347   0.000947815\n",
       " 0.00133232   0.00208144   0.000738977  …  0.00104127   0.00172979 \n",
       " 0.00189396   0.0011462    0.00112688      0.00104976   0.0008242  \n",
       " 0.00194828   0.00130017   0.00195599      0.00113299   0.00136083 \n",
       " 0.00162788   0.00148523   0.00133554      0.0014022    0.00161238 \n",
       " 0.00189365   0.00131637   0.00180091      0.00150526   0.00147094 \n",
       " 0.00136872   0.00108466   0.00133165   …  0.00129832   0.00130839 \n",
       " 0.00138368   0.00116932   0.00100677      0.00123827   0.000643702\n",
       " 0.00175475   0.000902222  0.000899611     0.00121252   0.00121012 \n",
       " 0.00170591   0.00205581   0.00151896      0.00115201   0.000841275\n",
       " 0.0017146    0.00165468   0.00161988      0.00152148   0.00165344 "
      ]
     },
     "execution_count": 20,
     "metadata": {},
     "output_type": "execute_result"
    }
   ],
   "source": [
    "im_pesos"
   ]
  },
  {
   "cell_type": "code",
   "execution_count": null,
   "metadata": {
    "collapsed": true
   },
   "outputs": [],
   "source": []
  },
  {
   "cell_type": "code",
   "execution_count": 18,
   "metadata": {},
   "outputs": [
    {
     "data": {
      "text/plain": [
       "31×31 Array{Float64,2}:\n",
       " 0.999998  0.0       0.0       0.0       …  0.0       0.0       0.0     \n",
       " 0.999997  0.999996  0.0       0.0          0.0       0.0       0.0     \n",
       " 0.999995  0.999995  0.999997  0.0          0.0       0.0       0.0     \n",
       " 0.999994  0.999994  0.999992  0.999994     0.0       0.0       0.0     \n",
       " 0.99996   0.99996   0.999963  0.999961     0.0       0.0       0.0     \n",
       " 0.999996  0.999996  0.999995  0.999996  …  0.0       0.0       0.0     \n",
       " 0.999946  0.999945  0.999948  0.999944     0.0       0.0       0.0     \n",
       " 0.999996  0.999995  0.999996  0.999996     0.0       0.0       0.0     \n",
       " 0.999939  0.999941  0.999942  0.99994      0.0       0.0       0.0     \n",
       " 0.999967  0.999968  0.999965  0.999962     0.0       0.0       0.0     \n",
       " 0.999992  0.999992  0.999991  0.999992  …  0.0       0.0       0.0     \n",
       " 0.999994  0.999994  0.999996  0.999995     0.0       0.0       0.0     \n",
       " 0.999995  0.999993  0.999997  0.999994     0.0       0.0       0.0     \n",
       " ⋮                                       ⋱                      ⋮       \n",
       " 0.999896  0.999898  0.9999    0.999898     0.0       0.0       0.0     \n",
       " 0.999982  0.99998   0.999983  0.999982  …  0.0       0.0       0.0     \n",
       " 0.999965  0.999965  0.999966  0.999962     0.0       0.0       0.0     \n",
       " 0.999935  0.999935  0.999937  0.999936     0.0       0.0       0.0     \n",
       " 0.999975  0.999974  0.999974  0.999972     0.0       0.0       0.0     \n",
       " 0.999997  0.999997  0.999996  0.999996     0.0       0.0       0.0     \n",
       " 0.999995  0.999994  0.999998  0.999995  …  0.0       0.0       0.0     \n",
       " 0.999914  0.999917  0.999921  0.999916     0.0       0.0       0.0     \n",
       " 0.999876  0.999875  0.999879  0.999875     0.0       0.0       0.0     \n",
       " 0.999879  0.999874  0.999885  0.999877     0.99999   0.0       0.0     \n",
       " 0.999996  0.999996  0.999995  0.999997     0.999874  0.999854  0.0     \n",
       " 0.999914  0.999913  0.999916  0.999911  …  0.999977  0.99998   0.999913"
      ]
     },
     "execution_count": 18,
     "metadata": {},
     "output_type": "execute_result"
    }
   ],
   "source": [
    "am_zeta"
   ]
  },
  {
   "cell_type": "code",
   "execution_count": 19,
   "metadata": {},
   "outputs": [
    {
     "data": {
      "text/plain": [
       "14×14 Array{Float64,2}:\n",
       " 0.999963  0.0       0.0       0.0       …  0.0       0.0       0.0     \n",
       " 0.998819  0.999968  0.0       0.0          0.0       0.0       0.0     \n",
       " 0.999984  0.999964  0.999983  0.0          0.0       0.0       0.0     \n",
       " 0.999851  0.999812  0.999834  0.99986      0.0       0.0       0.0     \n",
       " 0.999959  0.999968  0.999958  0.999954     0.0       0.0       0.0     \n",
       " 0.999815  0.999824  0.999807  0.999805  …  0.0       0.0       0.0     \n",
       " 0.999933  0.999951  0.999933  0.999922     0.0       0.0       0.0     \n",
       " 0.999916  0.999912  0.99991   0.999915     0.0       0.0       0.0     \n",
       " 0.998917  0.999907  0.999921  0.999946     0.0       0.0       0.0     \n",
       " 0.999969  0.999982  0.999974  0.999972     0.0       0.0       0.0     \n",
       " 0.999964  0.999972  0.99997   0.999965  …  0.0       0.0       0.0     \n",
       " 0.999804  0.999855  0.999801  0.999793     0.999784  0.0       0.0     \n",
       " 0.999846  0.999879  0.999847  0.999831     0.99984   0.999978  0.0     \n",
       " 0.999955  0.999963  0.999955  0.999953     0.999965  0.999798  0.999818"
      ]
     },
     "execution_count": 19,
     "metadata": {},
     "output_type": "execute_result"
    }
   ],
   "source": [
    "im_zeta"
   ]
  },
  {
   "cell_type": "code",
   "execution_count": 21,
   "metadata": {
    "collapsed": true
   },
   "outputs": [],
   "source": [
    "writedlm(string(rehome, \"am_zeta\"), am_zeta)"
   ]
  },
  {
   "cell_type": "code",
   "execution_count": 22,
   "metadata": {
    "collapsed": true
   },
   "outputs": [],
   "source": [
    "writedlm(string(rehome, \"im_zeta\"), im_zeta)"
   ]
  }
 ],
 "metadata": {
  "kernelspec": {
   "display_name": "Julia 0.6.0",
   "language": "julia",
   "name": "julia-0.6"
  },
  "language_info": {
   "file_extension": ".jl",
   "mimetype": "application/julia",
   "name": "julia",
   "version": "0.6.0"
  }
 },
 "nbformat": 4,
 "nbformat_minor": 2
}
