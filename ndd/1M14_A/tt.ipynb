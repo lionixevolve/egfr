{
 "cells": [
  {
   "cell_type": "code",
   "execution_count": 1,
   "metadata": {
    "collapsed": true
   },
   "outputs": [],
   "source": [
    "using Chemfiles"
   ]
  },
  {
   "cell_type": "code",
   "execution_count": 2,
   "metadata": {},
   "outputs": [
    {
     "data": {
      "text/plain": [
       "displaceAA (generic function with 1 method)"
      ]
     },
     "execution_count": 2,
     "metadata": {},
     "output_type": "execute_result"
    }
   ],
   "source": [
    "function displaceAA(in_frm, aa, aa_3, in_vec)\n",
    "    # Preparo variables\n",
    "     in_top = Topology(in_frm)\n",
    "    natoms = convert(Int64, size(in_top))\n",
    "     in_xyz = positions(in_frm)\n",
    "\n",
    "    # Determino orden de residuos (hay q actualizar el Julia Chemfiles)\n",
    "    tmp = Array{Int64}(aa)\n",
    "    ids = Array{Int64}(aa)\n",
    "    [ ids[i+1] = convert(Int64, id((Residue(in_top, i)))) for i = 0:aa-1 ]\n",
    "     idx = sortperm(ids)\n",
    "    # Determino el nro de atomos de c/ aminoácido\n",
    "    [ tmp[i+1] = size(Residue(in_top, i)) for i = 0:aa-1 ]\n",
    "     natom_aa = tmp[idx]\n",
    "\n",
    "    # Paso el vector columna de tamaño 1xaa_3 a 3xaa\n",
    "     vector = reshape(in_vec, 3, aa)\n",
    "    # Adapto el vector p/ darle la misma forma q la matriz de coordenadas\n",
    "    sum_mat = Array{Float64}(3, natoms)\n",
    "    cursor = 0\n",
    "    for i = 1:aa\n",
    "        if i == 1\n",
    "            sum_mat[:, 1:natom_aa[i]] = repmat(vector[:, 1], 1, natom_aa[i])\n",
    "            cursor = natom_aa[i]\n",
    "            continue\n",
    "        end\n",
    "         rango = collect(cursor+1:cursor + natom_aa[i])\n",
    "        sum_mat[:, rango] = repmat(vector[:, i], 1, natom_aa[i])\n",
    "        cursor += natom_aa[i]\n",
    "    end\n",
    "\n",
    "    # Listo, ahora puedo mover el pdb\n",
    "    out_frm = deepcopy(in_frm)\n",
    "    out_xyz = positions(out_frm)\n",
    "    out_xyz  = in_xyz + sum_mat\n",
    "\n",
    "    writedlm(\"a\", out_xyz)\n",
    "    writedlm(\"b\", in_xyz)\n",
    "    writedlm(\"c\", positions(out_frm))\n",
    "\n",
    "    return out_frm\n",
    "end"
   ]
  },
  {
   "cell_type": "code",
   "execution_count": 3,
   "metadata": {},
   "outputs": [
    {
     "data": {
      "text/plain": [
       "50"
      ]
     },
     "execution_count": 3,
     "metadata": {},
     "output_type": "execute_result"
    }
   ],
   "source": [
    "in_pdb_filename = \"1M14_A.pdb\"\n",
    "modes_filename = \"modos_1M14_A\"\n",
    "suffix = \"as\"\n",
    "mul = 50"
   ]
  },
  {
   "cell_type": "code",
   "execution_count": 4,
   "metadata": {},
   "outputs": [
    {
     "data": {
      "text/plain": [
       "831"
      ]
     },
     "execution_count": 4,
     "metadata": {},
     "output_type": "execute_result"
    }
   ],
   "source": [
    "# Read PDB\n",
    " in_trj = Trajectory(in_pdb_filename)\n",
    " in_frm = read(in_trj)\n",
    " in_top = Topology(in_frm)\n",
    " aa = convert(Int64, count_residues(in_top))\n",
    " aa_3 = aa * 3"
   ]
  },
  {
   "cell_type": "code",
   "execution_count": 5,
   "metadata": {},
   "outputs": [],
   "source": [
    "in_modes = Array{Float64, 2}(aa_3, aa)\n",
    "if (false)\n",
    "# Modos de PCA Amber\n",
    "    try\n",
    "        in_modes = read_ptraj_modes(modes_filename, aa_3, true)[1][:, index]\n",
    "    catch\n",
    "        try\n",
    "            in_modes = read_ptraj_modes(modes_filename, natom_xyz,\n",
    "                true)[1][:, index]\n",
    "        end\n",
    "    end\n",
    "else\n",
    "    try\n",
    "        in_modes = convert(Array{Float64, 2}, readdlm(modes_filename))\n",
    "    catch e\n",
    "        error(string(\"\\n\\n\", modes_filename, \" could not be found.\"))\n",
    "    end\n",
    "end\n",
    "\n",
    "# Check input modes\n",
    "if size(in_modes)[1] != aa_3\n",
    "# Asumo q el modo es de Calpha y está ordenado en una columna\n",
    "    error(string(\"\\n\\n\", \" Input PDB has \", aa, \" residues, so input \",\n",
    "        \"modes should be \", aa_3, \" long.\"))\n",
    "end"
   ]
  },
  {
   "cell_type": "code",
   "execution_count": null,
   "metadata": {
    "collapsed": true
   },
   "outputs": [],
   "source": [
    "# Ahora desplazo\n",
    "#for i = 1:size(in_modes)[2]\n",
    "i = 1\n",
    "    # Escalo vector\n",
    "     modo = in_modes[:, i] .* mul\n",
    "    # Desplazo\n",
    "     out_frm = displaceAA(in_frm, aa, aa_3, modo);\n"
   ]
  },
  {
   "cell_type": "code",
   "execution_count": 6,
   "metadata": {},
   "outputs": [
    {
     "data": {
      "text/plain": [
       "3×2224 Array{Float64,2}:\n",
       " 39.6172  39.1753  38.4932  37.3122  …  10.9602  11.3843  11.4213   6.76125\n",
       " -8.0675  -9.3565  -9.1805  -8.8405     18.8816  17.5345  19.9326  20.0875 \n",
       " 64.775   64.1941  62.8811  62.829      68.3034  67.8495  67.3245  67.9335 "
      ]
     },
     "execution_count": 6,
     "metadata": {},
     "output_type": "execute_result"
    }
   ],
   "source": [
    "in_vec =  in_modes[:, 1] .* mul\n",
    "    # Preparo variables\n",
    "     in_top = Topology(in_frm)\n",
    "    natoms = convert(Int64, size(in_top))\n",
    "     in_xyz = positions(in_frm)\n",
    "\n",
    "    # Determino orden de residuos (hay q actualizar el Julia Chemfiles)\n",
    "    tmp = Array{Int64}(aa)\n",
    "    ids = Array{Int64}(aa)\n",
    "    [ ids[i+1] = convert(Int64, id((Residue(in_top, i)))) for i = 0:aa-1 ]\n",
    "     idx = sortperm(ids)\n",
    "    # Determino el nro de atomos de c/ aminoácido\n",
    "    [ tmp[i+1] = size(Residue(in_top, i)) for i = 0:aa-1 ]\n",
    "     natom_aa = tmp[idx]\n",
    "\n",
    "    # Paso el vector columna de tamaño 1xaa_3 a 3xaa\n",
    "     vector = reshape(in_vec, 3, aa)\n",
    "    # Adapto el vector p/ darle la misma forma q la matriz de coordenadas\n",
    "    sum_mat = Array{Float64}(3, natoms)\n",
    "    cursor = 0\n",
    "    for i = 1:aa\n",
    "        if i == 1\n",
    "            sum_mat[:, 1:natom_aa[i]] = repmat(vector[:, 1], 1, natom_aa[i])\n",
    "            cursor = natom_aa[i]\n",
    "            continue\n",
    "        end\n",
    "         rango = collect(cursor+1:cursor + natom_aa[i])\n",
    "        sum_mat[:, rango] = repmat(vector[:, i], 1, natom_aa[i])\n",
    "        cursor += natom_aa[i]\n",
    "    end\n",
    "\n",
    "    # Listo, ahora puedo mover el pdb\n",
    "    out_frm = deepcopy(in_frm)\n",
    "    out_xyz = positions(out_frm)\n",
    "    out_xyz  = in_xyz + sum_mat"
   ]
  },
  {
   "cell_type": "code",
   "execution_count": 10,
   "metadata": {},
   "outputs": [
    {
     "data": {
      "text/plain": [
       "3×2224 Array{Float64,2}:\n",
       " 41.926  41.484  40.802  39.621  40.482  …  11.716  12.14   12.177   7.517\n",
       " -5.34   -6.629  -6.453  -6.113  -7.33      19.552  18.205  20.603  20.758\n",
       " 64.315  63.734  62.421  62.369  64.668     68.948  68.494  67.969  68.578"
      ]
     },
     "execution_count": 10,
     "metadata": {},
     "output_type": "execute_result"
    }
   ],
   "source": [
    "as = positions(out_frm) .+ 1.0"
   ]
  },
  {
   "cell_type": "code",
   "execution_count": 16,
   "metadata": {},
   "outputs": [
    {
     "data": {
      "text/plain": [
       "3×2224 Array{Float64,2}:\n",
       " 41.926  41.484  40.802  39.621  40.482  …  11.716  12.14   12.177   7.517\n",
       " -5.34   -6.629  -6.453  -6.113  -7.33      19.552  18.205  20.603  20.758\n",
       " 64.315  63.734  62.421  62.369  64.668     68.948  68.494  67.969  68.578"
      ]
     },
     "execution_count": 16,
     "metadata": {},
     "output_type": "execute_result"
    }
   ],
   "source": [
    "as"
   ]
  },
  {
   "cell_type": "code",
   "execution_count": 21,
   "metadata": {},
   "outputs": [
    {
     "data": {
      "text/plain": [
       "3×2224 Array{Float64,2}:\n",
       "  1.0    40.484  39.802  38.621  39.482  …  10.716  11.14   11.177   6.517\n",
       " -6.34   -7.629  -7.453  -7.113  -8.33      18.552  17.205  19.603  19.758\n",
       " 63.315  62.734  61.421  61.369  63.668     67.948  67.494  66.969  67.578"
      ]
     },
     "execution_count": 21,
     "metadata": {},
     "output_type": "execute_result"
    }
   ],
   "source": [
    "positions(out_frm)"
   ]
  },
  {
   "cell_type": "code",
   "execution_count": 20,
   "metadata": {},
   "outputs": [
    {
     "data": {
      "text/plain": [
       "1.0"
      ]
     },
     "execution_count": 20,
     "metadata": {},
     "output_type": "execute_result"
    }
   ],
   "source": [
    "pos[1, 1] = 1.0"
   ]
  },
  {
   "cell_type": "code",
   "execution_count": 15,
   "metadata": {},
   "outputs": [
    {
     "ename": "LoadError",
     "evalue": "\u001b[91mtype Frame has no field positions\u001b[39m",
     "output_type": "error",
     "traceback": [
      "\u001b[91mtype Frame has no field positions\u001b[39m",
      "",
      "Stacktrace:",
      " [1] \u001b[1minclude_string\u001b[22m\u001b[22m\u001b[1m(\u001b[22m\u001b[22m::String, ::String\u001b[1m)\u001b[22m\u001b[22m at \u001b[1m./loading.jl:515\u001b[22m\u001b[22m"
     ]
    }
   ],
   "source": [
    "out_frm.positions()"
   ]
  },
  {
   "cell_type": "code",
   "execution_count": null,
   "metadata": {
    "collapsed": true
   },
   "outputs": [],
   "source": [
    "    # Y guardo\n",
    "    out_trj = Trajectory(string(i, \"_\", suffix), 'w')\n",
    "    write(out_trj, out_frm)"
   ]
  }
 ],
 "metadata": {
  "kernelspec": {
   "display_name": "Julia 0.6.0",
   "language": "julia",
   "name": "julia-0.6"
  },
  "language_info": {
   "file_extension": ".jl",
   "mimetype": "application/julia",
   "name": "julia",
   "version": "0.6.0"
  }
 },
 "nbformat": 4,
 "nbformat_minor": 2
}
